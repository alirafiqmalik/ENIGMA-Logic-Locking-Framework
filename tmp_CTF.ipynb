{
 "cells": [
  {
   "cell_type": "code",
   "execution_count": 1,
   "metadata": {},
   "outputs": [],
   "source": [
    "import os\n",
    "import re\n",
    "import shutil\n",
    "import src.utils as utils\n",
    "import src.Parser.verilog_parser as verilog_parser\n",
    "import src.Parser.bench_parser as bench_parser\n",
    "import src.Parser.conv as conv\n",
    "from  src.Netlist.AST import AST,module\n",
    "import src.Attacks.SATAttack.SATAttack as satattack\n",
    "import src.Attacks.SATAttack.benchmarks_custom as benchmarks"
   ]
  },
  {
   "cell_type": "code",
   "execution_count": 2,
   "metadata": {},
   "outputs": [],
   "source": [
    "cir=\"v2\"\n",
    "mainpath=\"input_files/Challenge/HeLLOCTF_2023_challenge_LL/oracle_guided\"\n",
    "lockedpath=f\"{mainpath}/locked_bench/{cir}_locked.bench\"\n",
    "# unlockedpath=\""
   ]
  },
  {
   "cell_type": "code",
   "execution_count": 3,
   "metadata": {},
   "outputs": [
    {
     "name": "stdout",
     "output_type": "stream",
     "text": [
      "extract_modules_def took 0.0007107257843017578 seconds to complete its execution.\n",
      "Verifiying Input Verilog File\n",
      "Input Verilog File Verified Without Issue\n",
      "Generating Logic Locking AST File\n",
      "gates_module_extraction took 0.0011887550354003906 seconds to complete its execution.\n",
      "Found single bit Explict Wire n241 , Storing in v1.io['wires']\n",
      "Found single bit Explict Wire n55 , Storing in v1.io['wires']\n",
      "Found single bit Explict Wire n63 , Storing in v1.io['wires']\n",
      "Found single bit Explict Wire n98 , Storing in v1.io['wires']\n",
      "Found single bit Explict Wire n42 , Storing in v1.io['wires']\n",
      "Found single bit Explict Wire n87 , Storing in v1.io['wires']\n",
      "Found single bit Explict Wire n139 , Storing in v1.io['wires']\n",
      "Done Generating Logic Locking AST File\n",
      "Writing LL file\n",
      "\t Netlist Not Locked, No Update to Peform\n",
      "Done Writing LL file\n"
     ]
    },
    {
     "name": "stderr",
     "output_type": "stream",
     "text": [
      "./tmp/tmp_verilog_v1.v:275: Warning: Identifier `\\n241' is implicitly declared.\n",
      "./tmp/tmp_verilog_v1.v:278: Warning: Identifier `\\n55' is implicitly declared.\n",
      "./tmp/tmp_verilog_v1.v:282: Warning: Identifier `\\n63' is implicitly declared.\n",
      "./tmp/tmp_verilog_v1.v:290: Warning: Identifier `\\n98' is implicitly declared.\n",
      "./tmp/tmp_verilog_v1.v:326: Warning: Identifier `\\n42' is implicitly declared.\n",
      "./tmp/tmp_verilog_v1.v:328: Warning: Identifier `\\n87' is implicitly declared.\n",
      "./tmp/tmp_verilog_v1.v:357: Warning: Identifier `\\n139' is implicitly declared.\n"
     ]
    }
   ],
   "source": [
    "obj=AST(file_path=lockedpath,rw=\"w\",flag=\"b\",top=cir,filename=f\"{cir}_locked\",vlibpath=\"vlib/modulefiles.v\",synth=False,locked=True)"
   ]
  },
  {
   "cell_type": "code",
   "execution_count": 4,
   "metadata": {},
   "outputs": [
    {
     "name": "stdout",
     "output_type": "stream",
     "text": [
      "extract_modules_def took 0.00031256675720214844 seconds to complete its execution.\n",
      "Reading LL file\n",
      "\t Loading json file\n",
      "\t Done Loading json file\n",
      "\t Loading Top module in AST\n",
      "\t Done Loading Top module v1 in AST\n",
      "\t Loading module data in AST\n",
      "\t\t Loading module v1 in AST\n",
      "\t\t Done Loading module v1 in AST\n",
      "\t Done Loading module data in AST\n",
      "\t Loading gate level data in AST\n",
      "\t Done Loading gate level data in AST\n",
      "Done Reading LL file\n"
     ]
    }
   ],
   "source": [
    "locked = AST(file_path=f\"output_files/{cir}_locked.json\",rw='r',filename=f\"{cir}_locked_test\")"
   ]
  },
  {
   "cell_type": "code",
   "execution_count": 5,
   "metadata": {},
   "outputs": [
    {
     "data": {
      "text/plain": [
       "dict_keys(['NOT', 'AND', 'OR', 'NAND', 'NOR', 'XNOR'])"
      ]
     },
     "execution_count": 5,
     "metadata": {},
     "output_type": "execute_result"
    }
   ],
   "source": [
    "locked.top_module.gates.keys()"
   ]
  },
  {
   "cell_type": "code",
   "execution_count": null,
   "metadata": {},
   "outputs": [],
   "source": []
  },
  {
   "cell_type": "code",
   "execution_count": null,
   "metadata": {},
   "outputs": [],
   "source": []
  }
 ],
 "metadata": {
  "kernelspec": {
   "display_name": "Python 3",
   "language": "python",
   "name": "python3"
  },
  "language_info": {
   "codemirror_mode": {
    "name": "ipython",
    "version": 3
   },
   "file_extension": ".py",
   "mimetype": "text/x-python",
   "name": "python",
   "nbconvert_exporter": "python",
   "pygments_lexer": "ipython3",
   "version": "3.10.12"
  },
  "orig_nbformat": 4
 },
 "nbformat": 4,
 "nbformat_minor": 2
}
