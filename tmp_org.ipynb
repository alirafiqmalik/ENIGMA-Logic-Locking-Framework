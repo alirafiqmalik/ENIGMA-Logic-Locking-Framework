{
 "cells": [
  {
   "cell_type": "code",
   "execution_count": 4,
   "metadata": {},
   "outputs": [],
   "source": [
    "import os\n",
    "import re\n",
    "import shutil\n",
    "import src.utils as utils\n",
    "import src.Parser.verilog_parser as verilog_parser\n",
    "import src.Parser.bench_parser as bench_parser\n",
    "import src.Parser.conv as conv\n",
    "from  src.Netlist.AST import AST,module\n",
    "import src.Attacks.SATAttack.SATAttack as satattack\n",
    "import src.Attacks.SATAttack.benchmarks_custom as benchmarks"
   ]
  },
  {
   "cell_type": "code",
   "execution_count": 5,
   "metadata": {},
   "outputs": [],
   "source": [
    "# top=\"test_adder\"\n",
    "# netlist = AST(file_path=f\"./output_files/{top}org.json\",rw='r',filename=f\"{top}locked_test\") #Run to read in AST Format"
   ]
  },
  {
   "cell_type": "code",
   "execution_count": null,
   "metadata": {},
   "outputs": [],
   "source": [
    "# path=\"/mnt/d/alis_files/LAPTOP/alis_files/university_files/PROJECTS_2022-2023/FYP/linux/65GP_STDCELL_verilog/tcbn65gplus.v\"\n",
    "# path= \"vlib/mycells.v\"\n",
    "# path=\"input_files/warm-up_obfuscation/internal_lib.v\"\n",
    "path=\"/home/alira/FYP_FINAL/input_files/ASSURE_LOCKED/modulefiles.v\"\n",
    "# path=\"/mnt/d/alis_files/LAPTOP/alis_files/university_files/PROJECTS_2022-2023/FYP/linux/gnnre/Netlist_to_graph/Circuits_datasets/Interconnected-Modules/Train_add_mul_sub_64_bit_Syn_65nm.v\"\n",
    "with open(path,\"r\") as f:\n",
    "  module_txt=f.read()\n",
    "gate_mapping_vlib,gates_vlib,FF_vlib=verilog_parser.extract_modules_def(module_txt)\n",
    "vlib_var=gate_mapping_vlib,gates_vlib,FF_vlib\n",
    "bench=open(\"input_files/ASSURE_LOCKED/design4/design4.bench\").read()"
   ]
  },
  {
   "cell_type": "code",
   "execution_count": null,
   "metadata": {},
   "outputs": [],
   "source": [
    "clkpin=\"Clock\"\n",
    "modulename=\"top\"\n",
    "gate_mapping_vlib,gates_vlib,FF_vlib=vlib_var\n",
    "bench=re.sub(\" +\",\" \",bench)\n",
    "gates,gate_count = bench_parser.extract_gates_b(bench)\n",
    "inputs = bench_parser.extract_io_b(bench, mode=\"input\")\n",
    "outputs = bench_parser.extract_io_b(bench, mode=\"output\")"
   ]
  },
  {
   "cell_type": "code",
   "execution_count": null,
   "metadata": {},
   "outputs": [],
   "source": [
    "gate_list = list(gates.keys())\n",
    "gate_list.remove(\"DFF\")\n",
    "gate_list"
   ]
  },
  {
   "cell_type": "code",
   "execution_count": null,
   "metadata": {},
   "outputs": [],
   "source": [
    "if((\"DFF\" in gate_list) and clkpin not in inputs):\n",
    "    print(\"DFF IN CIRCUIT\")\n",
    "    clockp=\",\"+clkpin\n",
    "    clockio=\"input {};\".format(clkpin)\n",
    "else:\n",
    "    clockio=\"\"\n",
    "    clockp=\"\"\n",
    "\n",
    "porti, input_dec,replace_i = utils.io_port(inputs, mode=\"input\")\n",
    "porto, output_dec,replace_o = utils.io_port(outputs, mode=\"output\")"
   ]
  },
  {
   "cell_type": "code",
   "execution_count": null,
   "metadata": {},
   "outputs": [],
   "source": [
    "verilog = \"module {} ({},{});{}\".format(modulename,\n",
    "    porti+clockp, porto, input_dec+output_dec+clockio)"
   ]
  },
  {
   "cell_type": "code",
   "execution_count": null,
   "metadata": {},
   "outputs": [],
   "source": [
    "def gen_line(i,j,inputs,output,port,module_name):\n",
    "    tmp={}\n",
    "    for mIO,mNode in zip(inputs,j[1:]):\n",
    "        tmp[mIO]=mNode\n",
    "    tmp[output]=j[0]\n",
    "\n",
    "    formatted_out=re.sub(r\"[^A-Za-z0-9_]\",r\"\",j[0])\n",
    "    init_name=f\"{i}_out_{formatted_out}_\"\n",
    "    return f\"{module_name} {init_name} {port.format(**tmp)}\\n\"\n",
    "\n",
    "\n",
    "def proc_nested(i,out,inp,inputs,output,port,module_name,layer=0):\n",
    "    tmpouts=[]\n",
    "    txt=\"\"\n",
    "    for c,t in enumerate(range(0,len(inp)-1,2)):\n",
    "        tmpi=f\"{out}_{layer}_{c}\"\n",
    "        tmpouts.append(tmpi)\n",
    "        txt+=gen_line(i,[tmpi]+inp[t:t+2],inputs,output,port,module_name)\n",
    "\n",
    "    if(inp[t+2:]):\n",
    "        tmpouts=tmpouts+inp[t+2:]\n",
    "\n",
    "    if(len(tmpouts)==2):\n",
    "        txt+=gen_line(i,[out]+tmpouts,inputs,output,port,module_name)\n",
    "        return tmpouts,txt\n",
    "    \n",
    "    tmpouts_r,txt_r=proc_nested(i,out,tmpouts,inputs,output,port,module_name,layer+1)\n",
    "    return tmpouts+tmpouts_r,txt+txt_r\n",
    "\n",
    "def gen_line_multi(i,j,inputs,output,port,module_name):\n",
    "    return proc_nested(i,j[0],j[1:],inputs,output,port,module_name,layer=0)\n"
   ]
  },
  {
   "cell_type": "code",
   "execution_count": null,
   "metadata": {},
   "outputs": [],
   "source": [
    "i=\"DFF\"\n",
    "Node = gates[i]\n",
    "for k in FF_vlib:\n",
    "    inputs=FF_vlib[k][\"inputs\"]\n",
    "    port=FF_vlib[k][\"port\"]\n",
    "    if(len(inputs)==2):\n",
    "        template=FF_vlib[k]\n",
    "        break\n",
    "\n",
    "port=template[\"port\"]\n",
    "inputs=template[\"inputs\"]\n",
    "output=template[\"outputs\"][0]\n",
    "module_name=k"
   ]
  },
  {
   "cell_type": "code",
   "execution_count": null,
   "metadata": {},
   "outputs": [],
   "source": [
    "wires=[]\n",
    "verilog_wire=\"\"\n",
    "verilog_init=\"\""
   ]
  },
  {
   "cell_type": "code",
   "execution_count": null,
   "metadata": {},
   "outputs": [],
   "source": [
    "import concurrent.futures\n",
    "from multiprocessing import Manager\n",
    "\n",
    "\n",
    "def test(Nodeseg):\n",
    "    print(\"H\")\n",
    "    local_wires=[]\n",
    "    local_verilog_init=\"\"\n",
    "    # local_verilog_wire=\"\"\n",
    "    for j in Nodeseg:\n",
    "        if((j[0] not in outputs) and (j[0] not in local_wires)):\n",
    "            # local_verilog_wire +=\"wire {};\".format(j[0])\n",
    "            local_wires.append(j[0])\n",
    "    \n",
    "        tmp={}\n",
    "        for mIO in template[\"port_list\"]:\n",
    "            type_node=utils.det_FF_node(mIO)\n",
    "            if(type_node==\"clock\"):\n",
    "                tmp[mIO]=clkpin\n",
    "            elif(type_node==\"inputs\"):\n",
    "                tmp[mIO]=j[1]\n",
    "            elif(type_node==\"outputs\"):\n",
    "                tmp[mIO]=j[0]\n",
    "        init_name=f\"DFF_out_{j[0]}_\"\n",
    "        # print(f\"{module_name} {init_name} {port.format(**tmp)}\\n\")\n",
    "        local_verilog_init+=f\"{module_name} {init_name} {port.format(**tmp)}\\n\"\n",
    "        \n",
    "    return local_wires,local_verilog_init\n",
    "    # shared_wires.value+=local_wires\n",
    "    # shared_verilog_init.value+=local_verilog_init\n",
    "    # shared_verilog_wire.value+=local_verilog_wire\n",
    "\n",
    "\n",
    "def process_FF_node(Nodeseg,shared_wires,shared_verilog_init,shared_verilog_wire):\n",
    "    local_wires=[]\n",
    "    local_verilog_init=\"\"\n",
    "    local_verilog_wire=\"\"\n",
    "    for j in Nodeseg:\n",
    "        if((j[0] not in outputs) and (j[0] not in shared_wires.value) and (j[0] not in local_wires)):\n",
    "            local_verilog_wire +=\"wire {};\".format(j[0])\n",
    "            local_wires.append(j[0])\n",
    "    \n",
    "        tmp={}\n",
    "        for mIO in template[\"port_list\"]:\n",
    "            type_node=utils.det_FF_node(mIO)\n",
    "            if(type_node==\"clock\"):\n",
    "                tmp[mIO]=clkpin\n",
    "            elif(type_node==\"inputs\"):\n",
    "                tmp[mIO]=j[1]\n",
    "            elif(type_node==\"outputs\"):\n",
    "                tmp[mIO]=j[0]\n",
    "        init_name=f\"DFF_out_{j[0]}_\"\n",
    "        # print(f\"{module_name} {init_name} {port.format(**tmp)}\\n\")\n",
    "        local_verilog_init+=f\"{module_name} {init_name} {port.format(**tmp)}\\n\"\n",
    "    shared_wires.value+=local_wires\n",
    "    shared_verilog_init.value+=local_verilog_init\n",
    "    shared_verilog_wire.value+=local_verilog_wire\n",
    "\n",
    "\n",
    "def process_FF_node_iter(Nodeseg):\n",
    "    global verilog_init,wires,verilog_wire\n",
    "    for j in Nodeseg:\n",
    "        if((j[0] not in outputs) and (j[0] not in wires)):\n",
    "            verilog_wire +=\"wire {};\".format(j[0])\n",
    "            wires.append(j[0])\n",
    "    \n",
    "        tmp={}\n",
    "        for mIO in template[\"port_list\"]:\n",
    "            type_node=utils.det_FF_node(mIO)\n",
    "            if(type_node==\"clock\"):\n",
    "                tmp[mIO]=clkpin\n",
    "            elif(type_node==\"inputs\"):\n",
    "                tmp[mIO]=j[1]\n",
    "            elif(type_node==\"outputs\"):\n",
    "                tmp[mIO]=j[0]\n",
    "        init_name=f\"DFF_out_{j[0]}_\"\n",
    "        verilog_init+=f\"{module_name} {init_name} {port.format(**tmp)}\\n\""
   ]
  },
  {
   "cell_type": "code",
   "execution_count": null,
   "metadata": {},
   "outputs": [],
   "source": [
    "wires=[]\n",
    "verilog_wire=\"\"\n",
    "verilog_init=\"\""
   ]
  },
  {
   "cell_type": "code",
   "execution_count": null,
   "metadata": {},
   "outputs": [],
   "source": [
    "\n",
    "\n",
    "# Number of threads to use for parallel processing\n",
    "num_threads = 4  # You can adjust this number based on your system's capabilities\n",
    "\n",
    "# Split 'Node' list into chunks for parallel processing\n",
    "chunk_size = len(Node) // num_threads\n",
    "chunks = [Node[i:i+chunk_size] for i in range(0, len(Node), chunk_size)]\n"
   ]
  },
  {
   "cell_type": "code",
   "execution_count": null,
   "metadata": {},
   "outputs": [],
   "source": []
  },
  {
   "cell_type": "code",
   "execution_count": null,
   "metadata": {},
   "outputs": [],
   "source": [
    "\n",
    "def tmp1():\n",
    "  manager = Manager()\n",
    "  shared_wires = manager.Value(list,[])\n",
    "  shared_verilog_init=manager.Value(str, \"\")\n",
    "  shared_verilog_wire=manager.Value(str, \"\")\n",
    "\n",
    "  with concurrent.futures.ProcessPoolExecutor(max_workers=num_threads) as executor:\n",
    "      executor.map(process_FF_node, chunks,[shared_wires]*num_threads,[shared_verilog_init]*num_threads,[shared_verilog_wire]*num_threads)\n",
    "\n",
    "def tmp2():\n",
    "  wires=[]\n",
    "  verilog_wire=\"\"\n",
    "  verilog_init=\"\"\n",
    "  process_FF_node_iter(Node)\n",
    "\n",
    "t=None\n",
    "def test_in():\n",
    "  global t\n",
    "  with concurrent.futures.ProcessPoolExecutor(max_workers=num_threads) as executor:\n",
    "    t=executor.map(test, chunks)"
   ]
  },
  {
   "cell_type": "code",
   "execution_count": null,
   "metadata": {},
   "outputs": [],
   "source": [
    "with concurrent.futures.ProcessPoolExecutor(max_workers=num_threads) as executor:\n",
    "  val=executor.map(test, chunks)"
   ]
  },
  {
   "cell_type": "code",
   "execution_count": null,
   "metadata": {},
   "outputs": [],
   "source": [
    "i_wires=[]\n",
    "i_txt=\"\"\n",
    "for i,j in val:\n",
    "  i_txt+=j\n",
    "  i_wires+=i"
   ]
  },
  {
   "cell_type": "code",
   "execution_count": null,
   "metadata": {},
   "outputs": [],
   "source": [
    "i_wires.index('rst1')"
   ]
  },
  {
   "cell_type": "code",
   "execution_count": null,
   "metadata": {},
   "outputs": [],
   "source": [
    "i_wires[0]"
   ]
  },
  {
   "cell_type": "code",
   "execution_count": null,
   "metadata": {},
   "outputs": [],
   "source": [
    "for ic,i in enumerate(i_wires):\n",
    "  if(i=='rst1'):\n",
    "    print(ic)"
   ]
  },
  {
   "cell_type": "code",
   "execution_count": null,
   "metadata": {},
   "outputs": [],
   "source": [
    "len(i_wires)"
   ]
  },
  {
   "cell_type": "code",
   "execution_count": null,
   "metadata": {},
   "outputs": [],
   "source": [
    "# print(final_verilog_init)\n",
    "with open(\"tmp.v\",\"w\") as f:\n",
    "    f.write(i_txt)"
   ]
  },
  {
   "cell_type": "code",
   "execution_count": null,
   "metadata": {},
   "outputs": [],
   "source": [
    "import timeit\n",
    "\n",
    "t1=timeit.timeit(tmp1,number=1)\n",
    "print(\"t1\")\n",
    "t2=timeit.timeit(tmp2,number=1)\n",
    "print(\"t2\")\n",
    "t3=timeit.timeit(test_in,number=1)\n",
    "print(\"t3\")"
   ]
  },
  {
   "cell_type": "code",
   "execution_count": null,
   "metadata": {},
   "outputs": [],
   "source": [
    "t3=timeit.timeit(test_in,number=1)\n",
    "print(\"t3\")"
   ]
  },
  {
   "cell_type": "code",
   "execution_count": null,
   "metadata": {},
   "outputs": [],
   "source": [
    "for i in t:\n",
    "    print(len(i))"
   ]
  },
  {
   "cell_type": "code",
   "execution_count": null,
   "metadata": {},
   "outputs": [],
   "source": [
    "print(t1,t2,t3)"
   ]
  },
  {
   "cell_type": "code",
   "execution_count": null,
   "metadata": {},
   "outputs": [],
   "source": [
    "def proc_node(Node,shared_wires,shared_verilog_init,shared_verilog_wire):\n",
    "    local_wires=[]\n",
    "    local_verilog_init=\"\"\n",
    "    local_verilog_wire=\"\"\n",
    "    for j in Node:\n",
    "        if((j[0] not in outputs) and (j[0] not in shared_wires.value) and (j[0] not in local_wires)):\n",
    "            local_verilog_wire +=\"wire {};\\n\".format(j[0])\n",
    "            local_wires.append(j[0])\n",
    "        if(len(j[1:])>2):\n",
    "            new_wires_all,verilog_init_i=gen_line_multi(i,j,inputs,output,port,module_name)\n",
    "            local_verilog_init+=verilog_init_i\n",
    "            \n",
    "            for tmpwire in new_wires_all:\n",
    "                if((tmpwire not in outputs) and (tmpwire not in shared_wires.value) and (tmpwire not in local_verilog_wire)):\n",
    "                    local_verilog_wire.append(tmpwire)\n",
    "                    local_verilog_wire +=\"wire {};\\n\".format(tmpwire)\n",
    "        else:\n",
    "            local_verilog_init+=gen_line(i,j,inputs,output,port,module_name)\n",
    "    shared_wires.value+=local_wires\n",
    "    shared_verilog_init.value+=local_verilog_init\n",
    "    shared_verilog_wire.value+=local_verilog_wire"
   ]
  },
  {
   "cell_type": "code",
   "execution_count": null,
   "metadata": {},
   "outputs": [],
   "source": [
    "for i in gate_list:\n",
    "    print(i)\n",
    "    Node = gates[i]\n",
    "    \n",
    "    template=gates_vlib[gate_mapping_vlib[i][0]]\n",
    "    port=template[\"port\"]\n",
    "    inputs=template[\"inputs\"]\n",
    "    output=template[\"outputs\"][0]\n",
    "    module_name=gate_mapping_vlib[i][0]\n",
    "    \n",
    "    # Number of threads to use for parallel processing\n",
    "    num_threads = 4  # You can adjust this number based on your system's capabilities\n",
    "\n",
    "    # Split 'Node' list into chunks for parallel processing\n",
    "    chunk_size = len(Node) // num_threads\n",
    "    chunks = [Node[i:i+chunk_size] for i in range(0, len(Node), chunk_size)]\n",
    "\n",
    "\n",
    "    # with concurrent.futures.ProcessPoolExecutor(max_workers=num_threads) as executor:\n",
    "    #     # Process each chunk of nodes in parallel\n",
    "    #     executor.map(proc_node, chunks)\n",
    "    with concurrent.futures.ProcessPoolExecutor(max_workers=num_threads) as executor:\n",
    "        executor.map(proc_node, chunks,[shared_wires]*num_threads,[shared_verilog_init]*num_threads,[shared_verilog_wire]*num_threads)\n",
    "              \n",
    "verilog += verilog_wire + verilog_init + \"endmodule\"\n",
    "    # break\n",
    "# return verilog, gate_count"
   ]
  },
  {
   "cell_type": "code",
   "execution_count": null,
   "metadata": {},
   "outputs": [],
   "source": []
  },
  {
   "cell_type": "code",
   "execution_count": null,
   "metadata": {},
   "outputs": [],
   "source": [
    "# print(final_verilog_init)\n",
    "with open(\"tmp.v\",\"w\") as f:\n",
    "    f.write(verilog_init)"
   ]
  },
  {
   "cell_type": "code",
   "execution_count": null,
   "metadata": {},
   "outputs": [],
   "source": []
  },
  {
   "cell_type": "code",
   "execution_count": null,
   "metadata": {},
   "outputs": [],
   "source": []
  },
  {
   "cell_type": "code",
   "execution_count": null,
   "metadata": {},
   "outputs": [],
   "source": [
    "# {i:len(gates[i]) for i in gates}\n",
    "# gates[\"DFF\"]"
   ]
  },
  {
   "cell_type": "code",
   "execution_count": null,
   "metadata": {},
   "outputs": [],
   "source": [
    "with open(\"tmp.v\",\"w\") as f:\n",
    "    f.write(verilog_init)"
   ]
  },
  {
   "cell_type": "code",
   "execution_count": null,
   "metadata": {},
   "outputs": [],
   "source": [
    "# locked_filename=\"input_files/benchmark_bench/rnd/apex2_enc05.bench\"\n",
    "# unlocked_filename=\"input_files/benchmark_bench/original/apex2.bench\"\n",
    "# ASSURE_BENCH\n",
    "# top=\"apex2_enc05\"\n",
    "# top=\"apex2\"\n",
    "\n",
    "\n",
    "top=\"fsm_0_obf\"\n",
    "locked = AST(file_path=f\"output_files/ASSURE_BENCH/{top}org.json\",rw='r',filename=f\"{top}locked_test\") #Run to read in AST Format\n",
    "top=\"fsm\"\n",
    "unlocked = AST(file_path=f\"output_files/ASSURE_BENCH/{top}org.json\",rw='r',filename=f\"{top}locked_test\") #Run to read in AST Format\n",
    "\n"
   ]
  },
  {
   "cell_type": "code",
   "execution_count": null,
   "metadata": {},
   "outputs": [],
   "source": [
    "tmp=[(i,j[\"inputs\"],j[\"outputs\"]) for i,j in locked.top_module.FF_tech['DFFQ_X1'].items()]"
   ]
  },
  {
   "cell_type": "code",
   "execution_count": null,
   "metadata": {},
   "outputs": [],
   "source": [
    "locked.top_module.FF_tech"
   ]
  },
  {
   "cell_type": "code",
   "execution_count": null,
   "metadata": {},
   "outputs": [],
   "source": [
    "for init,D,Q in tmp:\n",
    "  print(init,D,Q)\n",
    "  print(locked.top_module.FF_tech['DFFQ_X1'].pop(init))"
   ]
  },
  {
   "cell_type": "code",
   "execution_count": null,
   "metadata": {},
   "outputs": [],
   "source": [
    "# locked.top_module.gates[\"BUF\"]"
   ]
  },
  {
   "cell_type": "code",
   "execution_count": null,
   "metadata": {},
   "outputs": [],
   "source": [
    "for init,D,Q in tmp:\n",
    "  # print(init,D,Q)\n",
    "  if(D in locked.top_module.io[\"inputs\"]):\n",
    "    print(\"I\",init)\n",
    "  elif(Q in locked.top_module.io[\"outputs\"]):\n",
    "    print(\"O\",init)\n",
    "  elif(D in locked.top_module.io[\"outputs\"]):\n",
    "    print(\"D in O\",init)\n",
    "  # else:\n",
    "    # print(\"Inter\",init,Q in locked.top_module.io[\"inputs\"],D in locked.top_module.io[\"outputs\"])\n",
    "  # print(init,{'inputs': [D], 'outputs': Q})"
   ]
  },
  {
   "cell_type": "code",
   "execution_count": null,
   "metadata": {},
   "outputs": [],
   "source": [
    "locked.top_module.gen_graph()"
   ]
  },
  {
   "cell_type": "code",
   "execution_count": null,
   "metadata": {},
   "outputs": [],
   "source": []
  },
  {
   "cell_type": "code",
   "execution_count": null,
   "metadata": {},
   "outputs": [],
   "source": []
  },
  {
   "cell_type": "code",
   "execution_count": null,
   "metadata": {},
   "outputs": [],
   "source": []
  },
  {
   "cell_type": "code",
   "execution_count": null,
   "metadata": {},
   "outputs": [],
   "source": [
    "import src.Attacks.SATAttack.benchmarks_custom as benchmarks\n",
    "import src.Netlist.netlist as netlist"
   ]
  },
  {
   "cell_type": "code",
   "execution_count": null,
   "metadata": {},
   "outputs": [],
   "source": [
    "analyze=netlist.Analyze_Netlist(locked.top_module,unlocked.top_module)"
   ]
  },
  {
   "cell_type": "code",
   "execution_count": null,
   "metadata": {},
   "outputs": [],
   "source": [
    "for i,j in zip(locked.top_module.io['outputs'],unlocked.top_module.io['outputs']):\n",
    "    print(i,j)"
   ]
  },
  {
   "cell_type": "code",
   "execution_count": null,
   "metadata": {},
   "outputs": [],
   "source": [
    "keys={}\n",
    "for ii in analyze.attack_outputs:\n",
    "  print(\"START SAT ATTACK\")\n",
    "  satobj=analyze.attack_outputs[ii]\n",
    "  satattackobj=satattack.SatAttack(file_type=\"obj\",satobj=satobj)\n",
    "  # satobj=satattack.SatAttack(file_type=\"b\",locked_filename=locked_filename, unlocked_filename=unlocked_filename)\n",
    "  print(satattackobj.run())\n",
    "  print(satattackobj.iterations)\n",
    "  keys[ii]=satattackobj.key\n",
    "  # break"
   ]
  },
  {
   "cell_type": "code",
   "execution_count": null,
   "metadata": {},
   "outputs": [],
   "source": [
    "final_key={}\n",
    "for o,k in keys.items():\n",
    "  for i in k:\n",
    "    # print(i)\n",
    "    if(i not in final_key):\n",
    "      final_key[i]=keys[o][i]\n",
    "      # print(i,keys[o][i])\n",
    "    else:\n",
    "      print(i,keys[o][i],final_key[i])"
   ]
  },
  {
   "cell_type": "code",
   "execution_count": null,
   "metadata": {},
   "outputs": [],
   "source": [
    "final_key"
   ]
  },
  {
   "cell_type": "code",
   "execution_count": null,
   "metadata": {},
   "outputs": [],
   "source": [
    "locked.top_module.io[\"outputs\"],unlocked.top_module.io[\"outputs\"]"
   ]
  },
  {
   "cell_type": "code",
   "execution_count": null,
   "metadata": {},
   "outputs": [],
   "source": [
    "satattackobj.key"
   ]
  },
  {
   "cell_type": "code",
   "execution_count": null,
   "metadata": {},
   "outputs": [],
   "source": [
    "satattackobj._key_string(satattackobj.key)"
   ]
  },
  {
   "cell_type": "code",
   "execution_count": null,
   "metadata": {},
   "outputs": [],
   "source": [
    "satattackobj.key"
   ]
  },
  {
   "cell_type": "code",
   "execution_count": null,
   "metadata": {},
   "outputs": [],
   "source": []
  },
  {
   "cell_type": "code",
   "execution_count": null,
   "metadata": {},
   "outputs": [],
   "source": [
    "# import pickle\n",
    "# pickle.dump(std1, file)"
   ]
  },
  {
   "cell_type": "code",
   "execution_count": null,
   "metadata": {},
   "outputs": [],
   "source": [
    "top=\"fsm_0_obf\"\n",
    "pathin=\"input_files/ASSURE_LOCKED/design1/design1_netlist.v\"\n",
    "\n",
    "# top=\"fsm\"\n",
    "# pathin=\"input_files/ASSURE_LOCKED/design1/oracle1_netlist.v\"\n",
    "\n",
    "# utils.clean_dir(\"./tmp\")\n",
    "\n",
    "# obj=AST(file_path=pathin,rw=\"w\",flag=\"v\",top=top,filename=f\"{top}org\",vlibpath=\"input_files/ASSURE_LOCKED/modulefiles.v\",synth=False)#Run to Read in Verilog Design\n",
    "\n",
    "locked = AST(file_path=f\"./output_files/{top}org.json\",rw='r',filename=f\"{top}locked_test\") #Run to read in AST Format"
   ]
  },
  {
   "cell_type": "code",
   "execution_count": null,
   "metadata": {},
   "outputs": [],
   "source": []
  },
  {
   "cell_type": "code",
   "execution_count": null,
   "metadata": {},
   "outputs": [],
   "source": []
  },
  {
   "cell_type": "code",
   "execution_count": null,
   "metadata": {},
   "outputs": [],
   "source": [
    "# gate_mapping_vlib,gates_vlib,FF_vlib=locked.gate_mapping_vlib,locked.gates_vlib,locked.FF_vlib"
   ]
  },
  {
   "cell_type": "code",
   "execution_count": null,
   "metadata": {},
   "outputs": [],
   "source": [
    "# locked.top_module.gates.keys(),locked.top_module.FF_tech.keys()"
   ]
  },
  {
   "cell_type": "code",
   "execution_count": null,
   "metadata": {},
   "outputs": [],
   "source": [
    "# tech_map={i:i for i in list(locked.top_module.gates,locked.top_module.FF_tech)}"
   ]
  },
  {
   "cell_type": "code",
   "execution_count": null,
   "metadata": {},
   "outputs": [],
   "source": [
    "# for gate, gate_list in gate_mapping_vlib.items():\n",
    "#   print(gate, gate_list)"
   ]
  },
  {
   "cell_type": "code",
   "execution_count": null,
   "metadata": {},
   "outputs": [],
   "source": []
  },
  {
   "cell_type": "code",
   "execution_count": null,
   "metadata": {},
   "outputs": [],
   "source": [
    "# path=\"/mnt/d/alis_files/LAPTOP/alis_files/university_files/PROJECTS_2022-2023/FYP/linux/65GP_STDCELL_verilog/tcbn65gplus.v\"\n",
    "# path= \"vlib/mycells.v\"\n",
    "# path=\"input_files/warm-up_obfuscation/internal_lib.v\"\n",
    "path=\"/home/alira/FYP_FINAL/input_files/ASSURE_LOCKED/modulefiles.v\"\n",
    "# path=\"/mnt/d/alis_files/LAPTOP/alis_files/university_files/PROJECTS_2022-2023/FYP/linux/gnnre/Netlist_to_graph/Circuits_datasets/Interconnected-Modules/Train_add_mul_sub_64_bit_Syn_65nm.v\"\n",
    "with open(path,\"r\") as f:\n",
    "  module_txt=f.read()\n",
    "gate_mapping_vlib2,gates_vlib2,FF_vlib2=verilog_parser.extract_modules_def(module_txt)"
   ]
  },
  {
   "cell_type": "code",
   "execution_count": null,
   "metadata": {},
   "outputs": [],
   "source": [
    "gate_mapping_vlib,gates_vlib,FF_vlib=locked.gate_mapping_vlib,locked.gates_vlib,locked.FF_vlib"
   ]
  },
  {
   "cell_type": "code",
   "execution_count": null,
   "metadata": {},
   "outputs": [],
   "source": [
    "tech_map=verilog_parser.gen_tech_map(gate_mapping_vlib,FF_vlib,gates_vlib,gate_mapping_vlib2,FF_vlib2,gates_vlib2)"
   ]
  },
  {
   "cell_type": "code",
   "execution_count": null,
   "metadata": {},
   "outputs": [],
   "source": [
    "txt=verilog_parser.gates_to_txt_techmap(locked.top_module.gates,gates_vlib2,tech_map)\n",
    "txt+=verilog_parser.FF_to_txt_techmap(locked.top_module.FF_tech,FF_vlib2,tech_map)"
   ]
  },
  {
   "cell_type": "code",
   "execution_count": null,
   "metadata": {},
   "outputs": [],
   "source": [
    "with open(\"tmp.v\",\"w\") as f:\n",
    "    f.write(txt)"
   ]
  },
  {
   "cell_type": "code",
   "execution_count": null,
   "metadata": {},
   "outputs": [],
   "source": []
  },
  {
   "cell_type": "code",
   "execution_count": null,
   "metadata": {},
   "outputs": [],
   "source": []
  },
  {
   "cell_type": "code",
   "execution_count": null,
   "metadata": {},
   "outputs": [],
   "source": []
  },
  {
   "cell_type": "code",
   "execution_count": null,
   "metadata": {},
   "outputs": [],
   "source": [
    "# path_dir=r\"/mnt/d/alis_files/LAPTOP/alis_files/university_files/GDRIVE/Hardware security FYP/gnnre/Netlist_to_graph/Circuits_datasets/Interconnected-Modules\"\n",
    "# paths=[os.path.join(path_dir,i) for i in os.listdir(path_dir) if(i[:5]==\"Train\")]\n",
    "\n",
    "# import re\n",
    "# def analyze_init(paths):\n",
    "#   items={}\n",
    "#   for path in paths:\n",
    "#     with open(path,\"r\") as f:\n",
    "#       module_txt=f.read()\n",
    "    \n",
    "#     for i in re.findall(r\"(\\w+) (\\w+) \\((.*)\\);\",module_txt)[1:]:\n",
    "#       tmpi=re.findall(r'\\.(\\S+)\\( ?[^\\(\\),]+\\)',i[2])\n",
    "#       port=\"(\"\n",
    "#       for k in tmpi[:-1]:\n",
    "#         port+=f\".{k}({{{k}}}), \"\n",
    "#       port+=f\".{tmpi[-1]}({{{tmpi[-1]}}})\"+\");\"\n",
    "#       if(i[0] not in items):\n",
    "#         items[i[0]]=[port]\n",
    "#       elif(items[i[0]]!=[port]):\n",
    "#         raise Exception(\"Items have mismatching initiation\")\n",
    "#   return items"
   ]
  },
  {
   "cell_type": "code",
   "execution_count": null,
   "metadata": {},
   "outputs": [],
   "source": [
    "# items=analyze_init(paths)"
   ]
  },
  {
   "cell_type": "code",
   "execution_count": null,
   "metadata": {},
   "outputs": [],
   "source": []
  },
  {
   "cell_type": "code",
   "execution_count": null,
   "metadata": {},
   "outputs": [],
   "source": [
    "\n",
    "# with open(\"input_files/ASSURE_LOCKED/modulefiles.v\",\"r\") as f:\n",
    "#   module_txt=f.read()\n",
    "\n",
    "\n",
    "# with open(\"tmp/tmpmod.v\",\"w\") as f:\n",
    "#   f.write(module_txt)\n",
    "\n",
    "\n",
    "# # with open(\"tmp.v\",\"w\") as f:\n",
    "# #   f.write(t)\n",
    "\n",
    "# gate_mapping,gates,FF=verilog_parser.extract_modules_def(module_txt)\n",
    "\n",
    "# path=\"input_files/ASSURE_LOCKED/design4/design4_netlist.v\"\n",
    "# # \"input_files/test.v\"\n",
    "# # \"input_files/ASSURE_LOCKED/design4/design4_netlist.v\"\n",
    "\n",
    "\n",
    "\n",
    "\n",
    "# # # verilog=tmp1()\n",
    "# # verilog=tmp2()\n",
    "# # with open(\"tmp/tmp.v\",\"w\") as f:\n",
    "# #   f.write(verilog)\n",
    "# # # print(verilog)\n",
    "\n",
    "# # print(\"HERE\")\n"
   ]
  },
  {
   "cell_type": "code",
   "execution_count": null,
   "metadata": {},
   "outputs": [],
   "source": [
    "# gate_tech,sub_module,(FF_tech,Clock_pins,Reset_pins)=verilog_parser.gates_module_extraction(verilog,gate_mapping,gates,FF)"
   ]
  },
  {
   "cell_type": "code",
   "execution_count": null,
   "metadata": {},
   "outputs": [],
   "source": []
  },
  {
   "cell_type": "code",
   "execution_count": null,
   "metadata": {},
   "outputs": [],
   "source": []
  },
  {
   "cell_type": "code",
   "execution_count": null,
   "metadata": {},
   "outputs": [],
   "source": []
  },
  {
   "cell_type": "code",
   "execution_count": null,
   "metadata": {},
   "outputs": [],
   "source": []
  },
  {
   "cell_type": "code",
   "execution_count": null,
   "metadata": {},
   "outputs": [],
   "source": [
    "# json_files=[\"./output_files/\"+i for i in os.listdir(\"./output_files/\") if os.path.isfile(\"./output_files/\"+i)]\n",
    "# orgfile_names=[i.split(\".bench\")[0] for i in os.listdir(\"input_files/benchmark_bench/original\")]\n",
    "# json_files.sort()\n",
    "\n",
    "# return_top =lambda i:re.findall(r'(module\\s+(\\w+)\\s*\\(.*?\\)\\s*;.*?endmodule)', utils.format_verilog_org(open(i).read()), re.DOTALL)[0][1]\n",
    "\n",
    "# orgfile_names=[[return_top(f\"input_files/ASSURE_LOCKED/{i}/{k}\") for k in os.listdir(\"input_files/ASSURE_LOCKED/\"+i) if(\"oracle\" in k and \".v\" in k)][0] for i in os.listdir(\"input_files/ASSURE_LOCKED\") if(\"design\" in i)]\n",
    "\n",
    "# for i in json_files:\n",
    "#   for j in orgfile_names:\n",
    "#     if(j in i.split(\"/\")[-1].split(\"org\")[0]):\n",
    "#       print(i,\"output_files/ASSURE_VERILOG/\"+i.split(\"/\")[-1])\n",
    "#       shutil.move(i,\"output_files/ASSURE_VERILOG/\"+i.split(\"/\")[-1])"
   ]
  },
  {
   "cell_type": "code",
   "execution_count": null,
   "metadata": {},
   "outputs": [],
   "source": [
    "# files=[([f\"input_files/ASSURE_LOCKED/{i}/{k}\" for k in os.listdir(\"input_files/ASSURE_LOCKED/\"+i) if(\".v\" in k and \"design\" in k)][0],[f\"input_files/ASSURE_LOCKED/{i}/{j}\" for j in os.listdir(\"input_files/ASSURE_LOCKED/\"+i) if(\".v\" in j and \"oracle\" in j)][0]) for i in os.listdir(\"input_files/ASSURE_LOCKED\") if(\"design\" in i)]\n",
    "# files.sort()"
   ]
  },
  {
   "cell_type": "code",
   "execution_count": null,
   "metadata": {},
   "outputs": [],
   "source": [
    "# import re\n",
    "# import os\n",
    "# files=[([f\"input_files/ASSURE_LOCKED/{i}/{k}\" for k in os.listdir(\"input_files/ASSURE_LOCKED/\"+i) if(\".v\" in k and \"design\" in k)][0],[f\"input_files/ASSURE_LOCKED/{i}/{j}\" for j in os.listdir(\"input_files/ASSURE_LOCKED/\"+i) if(\".v\" in j and \"oracle\" in j)][0]) for i in os.listdir(\"input_files/ASSURE_LOCKED\") if(\"design\" in i)]\n",
    "# files.sort()\n",
    "# notdone=[]\n",
    "# for i in files[1:]:\n",
    "#   design=i[0]\n",
    "#   oracle=i[1]\n",
    "\n",
    "#   tmp=open(design).read()\n",
    "#   top_design = re.findall(r'(module\\s+(\\w+)\\s*\\(.*?\\)\\s*;.*?endmodule)', utils.format_verilog_org(tmp), re.DOTALL)[0][1]\n",
    "#   tmp=open(oracle).read()\n",
    "#   top_oracle = re.findall(r'(module\\s+(\\w+)\\s*\\(.*?\\)\\s*;.*?endmodule)', utils.format_verilog_org(tmp), re.DOTALL)[0][1]\n",
    "#   # try:\n",
    "#   #   print(\"DONE \",top_oracle)\n",
    "#   obj=AST(file_path=oracle,rw=\"w\",flag=\"v\",top=top_oracle,filename=f\"{top_oracle}org\",vlibpath=\"input_files/ASSURE_LOCKED/modulefiles.v\",synth=False)#Run to Read in Verilog Design\n",
    "#   # except:\n",
    "#   #   print(\"FAILED \",top_oracle)\n",
    "#   #   notdone.append(oracle)\n",
    "#   # try:\n",
    "#   print(\"DONE \",top_design)\n",
    "#   obj=AST(file_path=design,rw=\"w\",flag=\"v\",top=top_design,filename=f\"{top_design}org\",vlibpath=\"input_files/ASSURE_LOCKED/modulefiles.v\",synth=False,locked=True)#Run to Read in Verilog Design\n",
    "#   # except:\n",
    "#   #   print(\"FAILED \",top_design)\n",
    "#   #   notdone.append(design)\n",
    "#   break"
   ]
  },
  {
   "cell_type": "code",
   "execution_count": null,
   "metadata": {},
   "outputs": [],
   "source": []
  },
  {
   "cell_type": "code",
   "execution_count": null,
   "metadata": {},
   "outputs": [],
   "source": [
    "# notdone=[]\n",
    "# for i in os.listdir(\"input_files/benchmark_bench/original\"):\n",
    "#   top=i.split(\".bench\")[0]\n",
    "#   unlocked_filename=os.path.join(\"input_files/benchmark_bench/original\",i)\n",
    "#   try:\n",
    "#     obj=AST(file_path=unlocked_filename,rw=\"w\",flag=\"b\",top=top,filename=f\"{top}org\",vlibpath=\"input_files/ASSURE_LOCKED/modulefiles.v\",synth=False)#Run to Read in Verilog Design\n",
    "#   except:\n",
    "#     notdone.append(unlocked_filename)\n",
    "#   for j in os.listdir(\"input_files/benchmark_bench/rnd\"):\n",
    "#     if(i.split(\".bench\")[0] in j):\n",
    "#       top=j.split(\".bench\")[0]\n",
    "#       locked_filename=os.path.join(\"input_files/benchmark_bench/rnd\",j)\n",
    "#       print(j.split(\".bench\")[0],locked_filename)\n",
    "#       try:\n",
    "#         obj=AST(file_path=locked_filename,rw=\"w\",flag=\"b\",top=top,filename=f\"{top}org\",vlibpath=\"input_files/ASSURE_LOCKED/modulefiles.v\",synth=False,locked=True)#Run to Read in Verilog Design\n",
    "#       except:\n",
    "#         notdone.append(locked_filename)"
   ]
  }
 ],
 "metadata": {
  "kernelspec": {
   "display_name": "Python 3",
   "language": "python",
   "name": "python3"
  },
  "language_info": {
   "codemirror_mode": {
    "name": "ipython",
    "version": 3
   },
   "file_extension": ".py",
   "mimetype": "text/x-python",
   "name": "python",
   "nbconvert_exporter": "python",
   "pygments_lexer": "ipython3",
   "version": "3.10.12"
  },
  "orig_nbformat": 4
 },
 "nbformat": 4,
 "nbformat_minor": 2
}
