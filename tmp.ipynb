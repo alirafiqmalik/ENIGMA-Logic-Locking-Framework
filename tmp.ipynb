{
 "cells": [
  {
   "cell_type": "code",
   "execution_count": 6,
   "metadata": {},
   "outputs": [],
   "source": [
    "import os\n",
    "import src.utils as utils\n",
    "import src.Parser.verilog_parser as verilog_parser\n",
    "import src.Parser.bench_parser as bench_parser\n",
    "import src.Parser.conv as conv\n",
    "from src.Netlist.AST import AST,module\n",
    "import src.Attacks.SATAttack.SATAttack as satattack"
   ]
  },
  {
   "cell_type": "code",
   "execution_count": 7,
   "metadata": {},
   "outputs": [
    {
     "name": "stdout",
     "output_type": "stream",
     "text": [
      "extract_modules_def took 0.0005779266357421875 seconds to complete its execution.\n",
      "Reading LL file\n",
      "\t Loading json file\n",
      "\t Done Loading json file\n",
      "\t Loading Top module in AST\n",
      "\t Done Loading Top module apex2_enc05 in AST\n",
      "\t Loading module data in AST\n",
      "\t\t Loading module apex2_enc05 in AST\n",
      "\t\t Done Loading module apex2_enc05 in AST\n",
      "\t Done Loading module data in AST\n",
      "\t Loading gate level data in AST\n",
      "\t Done Loading gate level data in AST\n",
      "Done Reading LL file\n",
      "extract_modules_def took 0.0010027885437011719 seconds to complete its execution.\n",
      "Reading LL file\n",
      "\t Loading json file\n",
      "\t Done Loading json file\n",
      "\t Loading Top module in AST\n",
      "\t Done Loading Top module apex2 in AST\n",
      "\t Loading module data in AST\n",
      "\t\t Loading module apex2 in AST\n",
      "\t\t Done Loading module apex2 in AST\n",
      "\t Done Loading module data in AST\n",
      "\t Loading gate level data in AST\n",
      "\t Done Loading gate level data in AST\n",
      "Done Reading LL file\n"
     ]
    }
   ],
   "source": [
    "locked_filename=\"input_files/benchmark_bench/rnd/apex2_enc05.bench\"\n",
    "unlocked_filename=\"input_files/benchmark_bench/original/apex2.bench\"\n",
    "\n",
    "\n",
    "\n",
    "top=\"apex2_enc05\"\n",
    "locked = AST(file_path=f\"./output_files/{top}org.json\",rw='r',filename=f\"{top}locked_test\") #Run to read in AST Format\n",
    "top=\"apex2\"\n",
    "unlocked = AST(file_path=f\"./output_files/{top}org.json\",rw='r',filename=f\"{top}locked_test\") #Run to read in AST Format\n",
    "\n"
   ]
  },
  {
   "cell_type": "code",
   "execution_count": 15,
   "metadata": {},
   "outputs": [
    {
     "name": "stdout",
     "output_type": "stream",
     "text": [
      "po2 True\n"
     ]
    }
   ],
   "source": [
    "for i,j in unlocked.top_module.io[\"outputs\"].items():\n",
    "  if(j[\"bits\"]==1):\n",
    "    print(i,j[\"bits\"]==1)\n",
    "  break"
   ]
  },
  {
   "cell_type": "code",
   "execution_count": null,
   "metadata": {},
   "outputs": [],
   "source": [
    "self.modules[key].module_name = key\n",
    "self.modules[key].org_code_verilog = self.extracted_modules[key]\n",
    "self.modules[key].gate_level_verilog = self.modules_techmap[key]\n",
    "self.modules[key].gates,self.modules[key].linkages,tmp = verilog_parser.gates_module_extraction(self.modules[key].gate_level_verilog,self.gate_mapping_vlib,self.gates_vlib,self.FF_vlib)\n",
    "self.modules[key].FF_tech,self.modules[key].Clock_pins,self.modules[key].Reset_pins=tmp\n",
    "\n",
    "\n",
    "# print(self.modules[key].linkages.keys())\n",
    "\n",
    "inputs, input_ports = extract_io_v(self.modules[key].org_code_verilog)\n",
    "outputs, output_ports = extract_io_v(self.modules[key].org_code_verilog, \"output\")\n",
    "wire, _ = extract_io_v(self.modules[key].gate_level_verilog, \"wire\")\n",
    "with open(\"tmp/tmp.v\",\"w\") as f:\n",
    "    f.write(self.modules[key].gate_level_verilog)\n",
    "wire={key:wire[key]  for key in get_difference_abs(wire.keys(),inputs.keys(),outputs.keys())}\n",
    "\n",
    "\n",
    "for i in self.modules[key].Clock_pins:\n",
    "    if((\"1'\" in i) or (i not in inputs.keys())):\n",
    "        self.modules[key].Clock_pins.remove(i)\n",
    "# print(\"N4944\" in  wire.keys())\n",
    "# print(get_diference(wire.keys(),outputs.keys()))\n",
    "# print(\"HERE\",wire[\"cpuregs[5]\"])\n",
    "\n",
    "# print(\"N1947\" in outputs.keys())\n",
    "# print(self.modules[key].gates)\n",
    "self.modules[key].io = dict({\"Clock_pins\":self.modules[key].Clock_pins,\"Reset_pins\":self.modules[key].Reset_pins,'wires':wire,'inputs':inputs,'outputs':outputs,'input_ports':input_ports,'output_ports':output_ports})\n",
    "self.modules[key].gen_graph()\n",
    "self.top_module=self.modules[self.top_module_name]"
   ]
  },
  {
   "cell_type": "code",
   "execution_count": 9,
   "metadata": {},
   "outputs": [
    {
     "data": {
      "text/plain": [
       "<src.Netlist.AST.module at 0x7f758c5c7ca0>"
      ]
     },
     "execution_count": 9,
     "metadata": {},
     "output_type": "execute_result"
    }
   ],
   "source": [
    "module()"
   ]
  },
  {
   "cell_type": "code",
   "execution_count": 4,
   "metadata": {},
   "outputs": [
    {
     "name": "stdout",
     "output_type": "stream",
     "text": [
      "START SAT ATTACK\n",
      "1000001010011011111101001111001\n",
      "21\n"
     ]
    }
   ],
   "source": [
    "print(\"START SAT ATTACK\")\n",
    "satobj=satattack.SatAttack(file_type=\"obj\",locked_obj=locked.top_module,unlocked_obj=unlocked.top_module)\n",
    "# satobj=satattack.SatAttack(file_type=\"b\",locked_filename=locked_filename, unlocked_filename=unlocked_filename)\n",
    "print(satobj.run())\n",
    "print(satobj.iterations)"
   ]
  },
  {
   "cell_type": "code",
   "execution_count": null,
   "metadata": {},
   "outputs": [],
   "source": []
  },
  {
   "cell_type": "code",
   "execution_count": null,
   "metadata": {},
   "outputs": [],
   "source": []
  },
  {
   "cell_type": "code",
   "execution_count": null,
   "metadata": {},
   "outputs": [],
   "source": []
  },
  {
   "cell_type": "code",
   "execution_count": null,
   "metadata": {},
   "outputs": [],
   "source": [
    "top=\"fsm_0_obf\"\n",
    "pathin=\"input_files/ASSURE_LOCKED/design1/design1_netlist.v\"\n",
    "\n",
    "# top=\"fsm\"\n",
    "# pathin=\"input_files/ASSURE_LOCKED/design1/oracle1_netlist.v\"\n",
    "\n",
    "# utils.clean_dir(\"./tmp\")\n",
    "\n",
    "# obj=AST(file_path=pathin,rw=\"w\",flag=\"v\",top=top,filename=f\"{top}org\",vlibpath=\"input_files/ASSURE_LOCKED/modulefiles.v\",synth=False)#Run to Read in Verilog Design\n",
    "\n",
    "locked = AST(file_path=f\"./output_files/{top}org.json\",rw='r',filename=f\"{top}locked_test\") #Run to read in AST Format"
   ]
  },
  {
   "cell_type": "code",
   "execution_count": null,
   "metadata": {},
   "outputs": [],
   "source": []
  },
  {
   "cell_type": "code",
   "execution_count": null,
   "metadata": {},
   "outputs": [],
   "source": []
  },
  {
   "cell_type": "code",
   "execution_count": null,
   "metadata": {},
   "outputs": [],
   "source": [
    "gate_mapping_vlib,gates_vlib,FF_vlib=locked.gate_mapping_vlib,locked.gates_vlib,locked.FF_vlib"
   ]
  },
  {
   "cell_type": "code",
   "execution_count": null,
   "metadata": {},
   "outputs": [],
   "source": [
    "locked.top_module.gates.keys(),locked.top_module.FF_tech.keys()"
   ]
  },
  {
   "cell_type": "code",
   "execution_count": null,
   "metadata": {},
   "outputs": [],
   "source": [
    "# tech_map={i:i for i in list(locked.top_module.gates,locked.top_module.FF_tech)}"
   ]
  },
  {
   "cell_type": "code",
   "execution_count": null,
   "metadata": {},
   "outputs": [],
   "source": [
    "# for gate, gate_list in gate_mapping_vlib.items():\n",
    "#   print(gate, gate_list)"
   ]
  },
  {
   "cell_type": "code",
   "execution_count": null,
   "metadata": {},
   "outputs": [],
   "source": []
  },
  {
   "cell_type": "code",
   "execution_count": null,
   "metadata": {},
   "outputs": [],
   "source": []
  },
  {
   "cell_type": "code",
   "execution_count": null,
   "metadata": {},
   "outputs": [],
   "source": [
    "# path=\"/mnt/d/alis_files/LAPTOP/alis_files/university_files/PROJECTS_2022-2023/FYP/linux/65GP_STDCELL_verilog/tcbn65gplus.v\"\n",
    "# path= \"vlib/mycells.v\"\n",
    "path=\"input_files/warm-up_obfuscation/internal_lib.v\"\n",
    "# path=\"/mnt/d/alis_files/LAPTOP/alis_files/university_files/PROJECTS_2022-2023/FYP/linux/gnnre/Netlist_to_graph/Circuits_datasets/Interconnected-Modules/Train_add_mul_sub_64_bit_Syn_65nm.v\"\n",
    "with open(path,\"r\") as f:\n",
    "  module_txt=f.read()\n",
    "gate_mapping_vlib2,gates_vlib2,FF_vlib2=verilog_parser.extract_modules_def(module_txt)"
   ]
  },
  {
   "cell_type": "code",
   "execution_count": null,
   "metadata": {},
   "outputs": [],
   "source": []
  },
  {
   "cell_type": "code",
   "execution_count": null,
   "metadata": {},
   "outputs": [],
   "source": [
    "def match_FF(FF1,FF2):\n",
    "  FF1_I=FF1[\"inputs\"]\n",
    "  FF2_I=FF2[\"inputs\"].copy()\n",
    "  if(len(FF1_I)!=len(FF2_I)):\n",
    "    return False\n",
    "  # print(FF1_I,FF2_I)\n",
    "  count=0\n",
    "  for i in FF1_I:\n",
    "    for j in FF2_I:\n",
    "      if(utils.det_FF_node(i)==utils.det_FF_node(j)):\n",
    "        # print(i,j)\n",
    "        count+=1\n",
    "        # FF1_I.remove(i)\n",
    "        FF2_I.remove(j)\n",
    "        break\n",
    "  \n",
    "  return count==len(FF1_I)\n",
    "\n",
    "def gen_FF_techmap(FF_target,FF_source):\n",
    "  # tech_map={target:[source]}\n",
    "  tech_map={}\n",
    "  for j in FF_source:\n",
    "    for i in FF_target:\n",
    "      if(match_FF(FF_target[i],FF_source[j])):\n",
    "        if(i not in tech_map):\n",
    "          tech_map[j]=i\n",
    "          break\n",
    "        # else:\n",
    "        #   tech_map[i].append(j)\n",
    "  return tech_map\n"
   ]
  },
  {
   "cell_type": "code",
   "execution_count": null,
   "metadata": {},
   "outputs": [],
   "source": [
    "# tech_map=gen_FF_techmap(FF_vlib2,FF_vlib)\n",
    "# print(FF_to_txt_techmap(locked.top_module.FF_tech,FF_vlib2,tech_map))"
   ]
  },
  {
   "cell_type": "code",
   "execution_count": null,
   "metadata": {},
   "outputs": [],
   "source": [
    "def gen_tech_map(gate_mapping_vlib,FF_vlib,gates_vlib,gate_mapping_vlib2,FF_vlib2,gates_vlib2):\n",
    "  gate_mapping_vlib=gate_mapping_vlib.copy()\n",
    "  gate_mapping_vlib.pop(\"FF\")\n",
    "  tech_map=gen_FF_techmap(FF_vlib2,FF_vlib)\n",
    "\n",
    "  for i in gate_mapping_vlib:\n",
    "    for org_gate in gate_mapping_vlib[i]:\n",
    "      for target_gate in gate_mapping_vlib2[i]:\n",
    "        if(len(gates_vlib[org_gate]['inputs'])==len(gates_vlib2[target_gate]['inputs'])):\n",
    "          tech_map[org_gate]=target_gate\n",
    "          break\n",
    "  return tech_map\n",
    "\n"
   ]
  },
  {
   "cell_type": "code",
   "execution_count": null,
   "metadata": {},
   "outputs": [],
   "source": [
    "gate_mapping_vlib.keys()"
   ]
  },
  {
   "cell_type": "code",
   "execution_count": null,
   "metadata": {},
   "outputs": [],
   "source": [
    "tech_map=gen_tech_map(gate_mapping_vlib,FF_vlib,gates_vlib,gate_mapping_vlib2,FF_vlib2,gates_vlib2)"
   ]
  },
  {
   "cell_type": "code",
   "execution_count": null,
   "metadata": {},
   "outputs": [],
   "source": [
    "locked.top_module.gates[\"NOT\"].items()"
   ]
  },
  {
   "cell_type": "code",
   "execution_count": null,
   "metadata": {},
   "outputs": [],
   "source": [
    "def gates_to_txt_techmap(gates_tech,gates_vlib_2,tech_map):\n",
    "  txt=\"\"\n",
    "  for _,logic_gates in gates_tech.items():\n",
    "    for logic_gate,gate_inits in logic_gates.items():\n",
    "      node_name=tech_map[logic_gate]\n",
    "      port=gates_vlib_2[node_name]['port']\n",
    "      for init_name in gate_inits:\n",
    "        tmp={}\n",
    "        for mIO,mNode in zip(gates_vlib_2[node_name][\"inputs\"],gate_inits[init_name]['inputs']):\n",
    "          tmp[mIO]=mNode\n",
    "        tmp[gates_vlib_2[node_name][\"outputs\"][0]]=gate_inits[init_name]['outputs']\n",
    "        txt+=f\"{node_name} {init_name} {port.format(**tmp)}\\n\"\n",
    "  return txt"
   ]
  },
  {
   "cell_type": "code",
   "execution_count": null,
   "metadata": {},
   "outputs": [],
   "source": [
    "def FF_to_txt_techmap(FF_tech,FF_vlib_2,tech_map):\n",
    "  # tech_map={target:[source]}\n",
    "  txt=\"\"\n",
    "  for FF_tech_i in FF_tech:\n",
    "    node_name=tech_map[FF_tech_i]\n",
    "    port=FF_vlib_2[node_name]['port']\n",
    "    for init_name in FF_tech[FF_tech_i]:\n",
    "      tmp={}\n",
    "      for mIO in FF_vlib_2[node_name][\"port_list\"]:\n",
    "        tmp[mIO]=FF_tech[FF_tech_i][init_name][utils.det_FF_node(mIO)]\n",
    "      txt+= f\"{node_name} {init_name} {port.format(**tmp)}\\n\"\n",
    "  return txt"
   ]
  },
  {
   "cell_type": "code",
   "execution_count": null,
   "metadata": {},
   "outputs": [],
   "source": [
    "FF"
   ]
  },
  {
   "cell_type": "code",
   "execution_count": null,
   "metadata": {},
   "outputs": [],
   "source": [
    "txt=gates_to_txt_techmap(locked.top_module.gates,gates_vlib2,tech_map)\n",
    "txt+=FF_to_txt_techmap(locked.top_module.FF_tech,FF_vlib2,tech_map)"
   ]
  },
  {
   "cell_type": "code",
   "execution_count": null,
   "metadata": {},
   "outputs": [],
   "source": [
    "with open(\"tmp.v\",\"w\") as f:\n",
    "    f.write(txt)"
   ]
  },
  {
   "cell_type": "code",
   "execution_count": null,
   "metadata": {},
   "outputs": [],
   "source": []
  },
  {
   "cell_type": "code",
   "execution_count": null,
   "metadata": {},
   "outputs": [],
   "source": []
  },
  {
   "cell_type": "code",
   "execution_count": null,
   "metadata": {},
   "outputs": [],
   "source": []
  },
  {
   "cell_type": "code",
   "execution_count": null,
   "metadata": {},
   "outputs": [],
   "source": [
    "# path_dir=r\"/mnt/d/alis_files/LAPTOP/alis_files/university_files/GDRIVE/Hardware security FYP/gnnre/Netlist_to_graph/Circuits_datasets/Interconnected-Modules\"\n",
    "# paths=[os.path.join(path_dir,i) for i in os.listdir(path_dir) if(i[:5]==\"Train\")]\n",
    "\n",
    "# import re\n",
    "# def analyze_init(paths):\n",
    "#   items={}\n",
    "#   for path in paths:\n",
    "#     with open(path,\"r\") as f:\n",
    "#       module_txt=f.read()\n",
    "    \n",
    "#     for i in re.findall(r\"(\\w+) (\\w+) \\((.*)\\);\",module_txt)[1:]:\n",
    "#       tmpi=re.findall(r'\\.(\\S+)\\( ?[^\\(\\),]+\\)',i[2])\n",
    "#       port=\"(\"\n",
    "#       for k in tmpi[:-1]:\n",
    "#         port+=f\".{k}({{{k}}}), \"\n",
    "#       port+=f\".{tmpi[-1]}({{{tmpi[-1]}}})\"+\");\"\n",
    "#       if(i[0] not in items):\n",
    "#         items[i[0]]=[port]\n",
    "#       elif(items[i[0]]!=[port]):\n",
    "#         raise Exception(\"Items have mismatching initiation\")\n",
    "#   return items"
   ]
  },
  {
   "cell_type": "code",
   "execution_count": null,
   "metadata": {},
   "outputs": [],
   "source": [
    "# items=analyze_init(paths)"
   ]
  },
  {
   "cell_type": "code",
   "execution_count": null,
   "metadata": {},
   "outputs": [],
   "source": []
  },
  {
   "cell_type": "code",
   "execution_count": null,
   "metadata": {},
   "outputs": [],
   "source": []
  },
  {
   "cell_type": "code",
   "execution_count": null,
   "metadata": {},
   "outputs": [],
   "source": []
  },
  {
   "cell_type": "code",
   "execution_count": null,
   "metadata": {},
   "outputs": [],
   "source": [
    "\n",
    "# with open(\"input_files/ASSURE_LOCKED/modulefiles.v\",\"r\") as f:\n",
    "#   module_txt=f.read()\n",
    "\n",
    "\n",
    "# with open(\"tmp/tmpmod.v\",\"w\") as f:\n",
    "#   f.write(module_txt)\n",
    "\n",
    "\n",
    "# # with open(\"tmp.v\",\"w\") as f:\n",
    "# #   f.write(t)\n",
    "\n",
    "# gate_mapping,gates,FF=verilog_parser.extract_modules_def(module_txt)\n",
    "\n",
    "# path=\"input_files/ASSURE_LOCKED/design4/design4_netlist.v\"\n",
    "# # \"input_files/test.v\"\n",
    "# # \"input_files/ASSURE_LOCKED/design4/design4_netlist.v\"\n",
    "\n",
    "\n",
    "\n",
    "\n",
    "# # # verilog=tmp1()\n",
    "# # verilog=tmp2()\n",
    "# # with open(\"tmp/tmp.v\",\"w\") as f:\n",
    "# #   f.write(verilog)\n",
    "# # # print(verilog)\n",
    "\n",
    "# # print(\"HERE\")\n"
   ]
  },
  {
   "cell_type": "code",
   "execution_count": null,
   "metadata": {},
   "outputs": [],
   "source": [
    "# gate_tech,sub_module,(FF_tech,Clock_pins,Reset_pins)=verilog_parser.gates_module_extraction(verilog,gate_mapping,gates,FF)"
   ]
  }
 ],
 "metadata": {
  "kernelspec": {
   "display_name": "Python 3",
   "language": "python",
   "name": "python3"
  },
  "language_info": {
   "codemirror_mode": {
    "name": "ipython",
    "version": 3
   },
   "file_extension": ".py",
   "mimetype": "text/x-python",
   "name": "python",
   "nbconvert_exporter": "python",
   "pygments_lexer": "ipython3",
   "version": "3.8.10"
  },
  "orig_nbformat": 4
 },
 "nbformat": 4,
 "nbformat_minor": 2
}
