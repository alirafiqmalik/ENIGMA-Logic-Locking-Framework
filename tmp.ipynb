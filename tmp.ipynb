{
 "cells": [
  {
   "cell_type": "code",
   "execution_count": 1,
   "metadata": {},
   "outputs": [],
   "source": [
    "import os\n",
    "import src.utils as utils\n",
    "import src.Parser.verilog_parser as verilog_parser\n",
    "from src.Netlist.AST import AST"
   ]
  },
  {
   "cell_type": "code",
   "execution_count": 2,
   "metadata": {},
   "outputs": [],
   "source": [
    "# path=\"./docs\"\n",
    "# utils.del_dir_files(path)"
   ]
  },
  {
   "cell_type": "code",
   "execution_count": 3,
   "metadata": {},
   "outputs": [
    {
     "name": "stdout",
     "output_type": "stream",
     "text": [
      "Reading LL file\n",
      "\t Loading json file\n",
      "\t Done Loading json file\n",
      "\t Loading Top module in AST\n",
      "\t Done Loading Top module fsm_0_obf in AST\n",
      "\t Loading module data in AST\n",
      "\t\t Loading module fsm_0_obf in AST\n",
      "\t\t Done Loading module fsm_0_obf in AST\n",
      "\t Done Loading module data in AST\n",
      "\t Loading gate level data in AST\n",
      "\t Done Loading gate level data in AST\n",
      "Done Reading LL file\n"
     ]
    }
   ],
   "source": [
    "top=\"fsm_0_obf\"\n",
    "pathin=\"input_files/ASSURE_LOCKED/design1/design1_netlist.v\"\n",
    "\n",
    "# top=\"fsm\"\n",
    "# pathin=\"input_files/ASSURE_LOCKED/design1/oracle1_netlist.v\"\n",
    "\n",
    "# utils.clean_dir(\"./tmp\")\n",
    "\n",
    "# obj=AST(file_path=pathin,rw=\"w\",flag=\"v\",top=top,filename=f\"{top}org\",vlibpath=\"input_files/ASSURE_LOCKED/modulefiles.v\",synth=False)#Run to Read in Verilog Design\n",
    "\n",
    "locked = AST(file_path=f\"./output_files/{top}org.json\",rw='r',filename=f\"{top}locked_test\") #Run to read in AST Format"
   ]
  },
  {
   "cell_type": "code",
   "execution_count": 4,
   "metadata": {},
   "outputs": [],
   "source": [
    "gate_mapping_vlib,gates_vlib,FF_vlib=locked.gate_mapping_vlib,locked.gates_vlib,locked.FF_vlib"
   ]
  },
  {
   "cell_type": "code",
   "execution_count": 5,
   "metadata": {},
   "outputs": [
    {
     "data": {
      "text/plain": [
       "(dict_keys(['NAND', 'NOT', 'NOR', 'BUF', 'AND', 'OR', 'XOR', 'XNOR']),\n",
       " dict_keys(['DFFSNQ_X1', 'DFFRNQ_X1']))"
      ]
     },
     "execution_count": 5,
     "metadata": {},
     "output_type": "execute_result"
    }
   ],
   "source": [
    "locked.top_module.gates.keys(),locked.top_module.FF_tech.keys()"
   ]
  },
  {
   "cell_type": "code",
   "execution_count": 6,
   "metadata": {},
   "outputs": [],
   "source": [
    "# tech_map={i:i for i in list(locked.top_module.gates,locked.top_module.FF_tech)}"
   ]
  },
  {
   "cell_type": "code",
   "execution_count": 7,
   "metadata": {},
   "outputs": [],
   "source": [
    "# for gate, gate_list in gate_mapping_vlib.items():\n",
    "#   print(gate, gate_list)"
   ]
  },
  {
   "cell_type": "code",
   "execution_count": null,
   "metadata": {},
   "outputs": [],
   "source": []
  },
  {
   "cell_type": "code",
   "execution_count": 90,
   "metadata": {},
   "outputs": [
    {
     "name": "stdout",
     "output_type": "stream",
     "text": [
      "extract_modules_def took 0.001953125 seconds to complete its execution.\n"
     ]
    }
   ],
   "source": [
    "# path=\"/mnt/d/alis_files/LAPTOP/alis_files/university_files/PROJECTS_2022-2023/FYP/linux/65GP_STDCELL_verilog/tcbn65gplus.v\"\n",
    "path= \"vlib/mycells.v\"\n",
    "# path=\"/mnt/d/alis_files/LAPTOP/alis_files/university_files/PROJECTS_2022-2023/FYP/linux/gnnre/Netlist_to_graph/Circuits_datasets/Interconnected-Modules/Train_add_mul_sub_64_bit_Syn_65nm.v\"\n",
    "with open(path,\"r\") as f:\n",
    "  module_txt=f.read()\n",
    "gate_mapping_vlib2,gates_vlib2,FF_vlib2=verilog_parser.extract_modules_def(module_txt)"
   ]
  },
  {
   "cell_type": "code",
   "execution_count": null,
   "metadata": {},
   "outputs": [],
   "source": []
  },
  {
   "cell_type": "code",
   "execution_count": 55,
   "metadata": {},
   "outputs": [],
   "source": [
    "def match_FF(FF1,FF2):\n",
    "  FF1_I=FF1[\"inputs\"]\n",
    "  FF2_I=FF2[\"inputs\"].copy()\n",
    "  if(len(FF1_I)!=len(FF2_I)):\n",
    "    return False\n",
    "  # print(FF1_I,FF2_I)\n",
    "  count=0\n",
    "  for i in FF1_I:\n",
    "    for j in FF2_I:\n",
    "      if(utils.det_FF_node(i)==utils.det_FF_node(j)):\n",
    "        # print(i,j)\n",
    "        count+=1\n",
    "        # FF1_I.remove(i)\n",
    "        FF2_I.remove(j)\n",
    "        break\n",
    "  \n",
    "  return count==len(FF1_I)\n",
    "\n",
    "def gen_FF_techmap(FF_target,FF_source):\n",
    "  # tech_map={target:[source]}\n",
    "  tech_map={}\n",
    "  for j in FF_source:\n",
    "    for i in FF_target:\n",
    "      if(match_FF(FF_target[i],FF_source[j])):\n",
    "        if(i not in tech_map):\n",
    "          tech_map[j]=i\n",
    "          break\n",
    "        # else:\n",
    "        #   tech_map[i].append(j)\n",
    "  return tech_map\n"
   ]
  },
  {
   "cell_type": "code",
   "execution_count": 57,
   "metadata": {},
   "outputs": [],
   "source": [
    "# tech_map=gen_FF_techmap(FF_vlib2,FF_vlib)\n",
    "# print(FF_to_txt_techmap(locked.top_module.FF_tech,FF_vlib2,tech_map))"
   ]
  },
  {
   "cell_type": "code",
   "execution_count": 64,
   "metadata": {},
   "outputs": [],
   "source": [
    "def gen_tech_map(gate_mapping_vlib,FF_vlib,gates_vlib,gate_mapping_vlib2,FF_vlib2,gates_vlib2):\n",
    "  gate_mapping_vlib=gate_mapping_vlib.copy()\n",
    "  gate_mapping_vlib.pop(\"FF\")\n",
    "  tech_map=gen_FF_techmap(FF_vlib2,FF_vlib)\n",
    "\n",
    "  for i in gate_mapping_vlib:\n",
    "    for org_gate in gate_mapping_vlib[i]:\n",
    "      for target_gate in gate_mapping_vlib2[i]:\n",
    "        if(len(gates_vlib[org_gate]['inputs'])==len(gates_vlib2[target_gate]['inputs'])):\n",
    "          tech_map[org_gate]=target_gate\n",
    "          break\n",
    "  return tech_map\n",
    "\n"
   ]
  },
  {
   "cell_type": "code",
   "execution_count": 66,
   "metadata": {},
   "outputs": [
    {
     "data": {
      "text/plain": [
       "dict_keys(['FF', 'OR', 'BUF', 'NOT', 'AND', 'XOR', 'NOR', 'NAND', 'XNOR'])"
      ]
     },
     "execution_count": 66,
     "metadata": {},
     "output_type": "execute_result"
    }
   ],
   "source": [
    "gate_mapping_vlib.keys()"
   ]
  },
  {
   "cell_type": "code",
   "execution_count": 65,
   "metadata": {},
   "outputs": [],
   "source": [
    "tech_map=gen_tech_map(gate_mapping_vlib,FF_vlib,gates_vlib,gate_mapping_vlib2,FF_vlib2,gates_vlib2)"
   ]
  },
  {
   "cell_type": "code",
   "execution_count": 70,
   "metadata": {},
   "outputs": [
    {
     "data": {
      "text/plain": [
       "dict_items([('INV_X1', {'NOT_U1101': {'inputs': ['n3317'], 'outputs': 'n3376'}, 'NOT_U1160': {'inputs': ['n1729'], 'outputs': 'n1556'}, 'NOT_U1220': {'inputs': ['n1382'], 'outputs': 'n1385'}, 'NOT_U1239': {'inputs': ['n1389'], 'outputs': 'n1096'}, 'NOT_U1244': {'inputs': ['n1254'], 'outputs': 'n1252'}, 'NOT_U1247': {'inputs': ['n1118'], 'outputs': 'n1352'}, 'NOT_U1279': {'inputs': ['n1122'], 'outputs': 'n1121'}, 'NOT_U1285': {'inputs': ['n1732'], 'outputs': 'n1183'}, 'NOT_U1288': {'inputs': ['n1702'], 'outputs': 'n2225'}, 'NOT_U1336': {'inputs': ['n1456'], 'outputs': 'n1751'}, 'NOT_U1412': {'inputs': ['n1641'], 'outputs': 'n1631'}, 'NOT_U1423': {'inputs': ['n4166'], 'outputs': 'n3720'}, 'NOT_U1425': {'inputs': ['n3111'], 'outputs': 'n1311'}, 'NOT_U1430': {'inputs': ['n1670'], 'outputs': 'n1300'}, 'NOT_U1432': {'inputs': ['n1662'], 'outputs': 'n1260'}, 'NOT_U1434': {'inputs': ['n1398'], 'outputs': 'n1297'}, 'NOT_U1437': {'inputs': ['n1298'], 'outputs': 'n1397'}, 'NOT_U1439': {'inputs': ['n1253'], 'outputs': 'n1663'}, 'NOT_U1451': {'inputs': ['n1449'], 'outputs': 'n1447'}, 'NOT_U1454': {'inputs': ['n4170'], 'outputs': 'n2820'}, 'NOT_U1456': {'inputs': ['n3345'], 'outputs': 'n1299'}, 'NOT_U1459': {'inputs': ['n1735'], 'outputs': 'n1569'}, 'NOT_U1463': {'inputs': ['n1699'], 'outputs': 'n1971'}, 'NOT_U1466': {'inputs': ['n1878'], 'outputs': 'n1832'}, 'NOT_U1539': {'inputs': ['n3327'], 'outputs': 'n1194'}, 'NOT_U1573': {'inputs': ['n1726'], 'outputs': 'n1223'}, 'NOT_U1583': {'inputs': ['n1232'], 'outputs': 'n1231'}, 'NOT_U1595': {'inputs': ['n3108'], 'outputs': 'n3131'}, 'NOT_U1598': {'inputs': ['n3130'], 'outputs': 'n1240'}, 'NOT_U1603': {'inputs': ['n1254'], 'outputs': 'n1659'}, 'NOT_U1605': {'inputs': ['n1663'], 'outputs': 'n1257'}, 'NOT_U1611': {'inputs': ['n1658'], 'outputs': 'n1307'}, 'NOT_U1703': {'inputs': ['n1638'], 'outputs': 'n1639'}, 'NOT_U1713': {'inputs': ['n3510'], 'outputs': 'n3511'}, 'NOT_U1714': {'inputs': ['n3465'], 'outputs': 'n3466'}, 'NOT_U1728': {'inputs': ['n1396'], 'outputs': 'n1346'}, 'NOT_U1730': {'inputs': ['f34'], 'outputs': 'n3154'}, 'NOT_U1737': {'inputs': ['f81'], 'outputs': 'n3166'}, 'NOT_U1746': {'inputs': ['f90'], 'outputs': 'n3206'}, 'NOT_U1752': {'inputs': ['n1409'], 'outputs': 'n1381'}, 'NOT_U1755': {'inputs': ['f59'], 'outputs': 'n3228'}, 'NOT_U1760': {'inputs': ['n1410'], 'outputs': 'n1380'}, 'NOT_U1764': {'inputs': ['n1386'], 'outputs': 'n1383'}, 'NOT_U1766': {'inputs': ['f85'], 'outputs': 'n3181'}, 'NOT_U1767': {'inputs': ['n1388'], 'outputs': 'n1390'}, 'NOT_U1768': {'inputs': ['f39'], 'outputs': 'n3095'}, 'NOT_U1770': {'inputs': ['f62'], 'outputs': 'n3123'}, 'NOT_U1773': {'inputs': ['f58'], 'outputs': 'n3613'}, 'NOT_U1782': {'inputs': ['f102'], 'outputs': 'n3225'}, 'NOT_U1787': {'inputs': ['f70'], 'outputs': 'n3283'}, 'NOT_U1796': {'inputs': ['n1431'], 'outputs': 'n1453'}, 'NOT_U1797': {'inputs': ['n1429'], 'outputs': 'n1451'}, 'NOT_U1803': {'inputs': ['n1454'], 'outputs': 'n1455'}, 'NOT_U1805': {'inputs': ['f18'], 'outputs': 'n3311'}, 'NOT_U1812': {'inputs': ['f45'], 'outputs': 'n1461'}, 'NOT_U1817': {'inputs': ['f34'], 'outputs': 'n1464'}, 'NOT_U1819': {'inputs': ['f81'], 'outputs': 'n1465'}, 'NOT_U1822': {'inputs': ['n2413'], 'outputs': 'n1466'}, 'NOT_U1826': {'inputs': ['f90'], 'outputs': 'n1469'}, 'NOT_U1831': {'inputs': ['f59'], 'outputs': 'n1622'}, 'NOT_U1835': {'inputs': ['f36'], 'outputs': 'n1473'}, 'NOT_U1838': {'inputs': ['n2479'], 'outputs': 'n2461'}, 'NOT_U1846': {'inputs': ['n2295'], 'outputs': 'n2300'}, 'NOT_U1851': {'inputs': ['n1477'], 'outputs': 'n1478'}, 'NOT_U1852': {'inputs': ['n1479'], 'outputs': 'n1480'}, 'NOT_U1854': {'inputs': ['locking_key_10_'], 'outputs': 'n1787'}, 'NOT_U1882': {'inputs': ['n1800'], 'outputs': 'n1863'}, 'NOT_U1919': {'inputs': ['n3621'], 'outputs': 'n1529'}, 'NOT_U1929': {'inputs': ['n3552'], 'outputs': 'n1767'}, 'NOT_U1942': {'inputs': ['n1864'], 'outputs': 'n1867'}, 'NOT_U1949': {'inputs': ['n1722'], 'outputs': 'n1553'}, 'NOT_U1950': {'inputs': ['f63'], 'outputs': 'n1717'}, 'NOT_U1953': {'inputs': ['n1718'], 'outputs': 'n1549'}, 'NOT_U1956': {'inputs': ['n1830'], 'outputs': 'n1775'}, 'NOT_U1958': {'inputs': ['f27'], 'outputs': 'n1723'}, 'NOT_U1960': {'inputs': ['n1724'], 'outputs': 'n1554'}, 'NOT_U1962': {'inputs': ['f109'], 'outputs': 'n1726'}, 'NOT_U1964': {'inputs': ['n1727'], 'outputs': 'n1557'}, 'NOT_U1966': {'inputs': ['n1733'], 'outputs': 'n1561'}, 'NOT_U1973': {'inputs': ['n3084'], 'outputs': 'n1566'}, 'NOT_U1982': {'inputs': ['n1742'], 'outputs': 'n1575'}, 'NOT_U1983': {'inputs': ['f84'], 'outputs': 'n1737'}, 'NOT_U1985': {'inputs': ['n1738'], 'outputs': 'n1571'}, 'NOT_U1987': {'inputs': ['n1829'], 'outputs': 'n1576'}, 'NOT_U1991': {'inputs': ['n1582'], 'outputs': 'n1579'}, 'NOT_U1992': {'inputs': ['n1581'], 'outputs': 'n1578'}, 'NOT_U1996': {'inputs': ['n1600'], 'outputs': 'n1583'}, 'NOT_U1998': {'inputs': ['n1585'], 'outputs': 'n1588'}, 'NOT_U1999': {'inputs': ['n1586'], 'outputs': 'n1587'}, 'NOT_U2008': {'inputs': ['n1594'], 'outputs': 'n1597'}, 'NOT_U2009': {'inputs': ['n1595'], 'outputs': 'n1596'}, 'NOT_U2012': {'inputs': ['f76'], 'outputs': 'n1602'}, 'NOT_U2014': {'inputs': ['n1603'], 'outputs': 'n1604'}, 'NOT_U2016': {'inputs': ['n1607'], 'outputs': 'n1610'}, 'NOT_U2017': {'inputs': ['n1608'], 'outputs': 'n1609'}, 'NOT_U2022': {'inputs': ['f94'], 'outputs': 'n1616'}, 'NOT_U2027': {'inputs': ['f102'], 'outputs': 'n2286'}, 'NOT_U2029': {'inputs': ['n1619'], 'outputs': 'n1620'}, 'NOT_U2032': {'inputs': ['n1644'], 'outputs': 'n1625'}, 'NOT_U2038': {'inputs': ['n1643'], 'outputs': 'n1640'}, 'NOT_U2039': {'inputs': ['n1645'], 'outputs': 'n1648'}, 'NOT_U2040': {'inputs': ['n1646'], 'outputs': 'n1647'}, 'NOT_U2044': {'inputs': ['n1653'], 'outputs': 'n1654'}, 'NOT_U2046': {'inputs': ['n1752'], 'outputs': 'n1657'}, 'NOT_U2054': {'inputs': ['n3602'], 'outputs': 'n1675'}, 'NOT_U2058': {'inputs': ['n1681'], 'outputs': 'n1683'}, 'NOT_U2060': {'inputs': ['n1686'], 'outputs': 'n1689'}, 'NOT_U2061': {'inputs': ['n1687'], 'outputs': 'n1688'}, 'NOT_U2063': {'inputs': ['n1691'], 'outputs': 'n1692'}, 'NOT_U2065': {'inputs': ['f92'], 'outputs': 'n3100'}, 'NOT_U2067': {'inputs': ['n1758'], 'outputs': 'n3138'}, 'NOT_U2071': {'inputs': ['f2'], 'outputs': 'n1708'}, 'NOT_U2077': {'inputs': ['f105'], 'outputs': 'n1704'}, 'NOT_U2101': {'inputs': ['f87'], 'outputs': 'n2155'}, 'NOT_U2104': {'inputs': ['n2563'], 'outputs': 'n2162'}, 'NOT_U2106': {'inputs': ['n2214'], 'outputs': 'n2620'}, 'NOT_U2113': {'inputs': ['n1850'], 'outputs': 'n1779'}, 'NOT_U2123': {'inputs': ['n1849'], 'outputs': 'n1743'}, 'NOT_U2126': {'inputs': ['locking_key_14_'], 'outputs': 'n1745'}, 'NOT_U2133': {'inputs': ['n1755'], 'outputs': 'n1756'}, 'NOT_U2145': {'inputs': ['n1766'], 'outputs': 'n3550'}, 'NOT_U2148': {'inputs': ['n1769'], 'outputs': 'n1771'}, 'NOT_U2174': {'inputs': ['n1799'], 'outputs': 'n1873'}, 'NOT_U2175': {'inputs': ['n1797'], 'outputs': 'n1866'}, 'NOT_U2193': {'inputs': ['n1844'], 'outputs': 'n1823'}, 'NOT_U2194': {'inputs': ['f55'], 'outputs': 'n1839'}, 'NOT_U2196': {'inputs': ['n1840'], 'outputs': 'n1819'}, 'NOT_U2198': {'inputs': ['n1881'], 'outputs': 'n1828'}, 'NOT_U2204': {'inputs': ['n1831'], 'outputs': 'n1882'}, 'NOT_U2205': {'inputs': ['f97'], 'outputs': 'n1853'}, 'NOT_U2207': {'inputs': ['n1854'], 'outputs': 'n1834'}, 'NOT_U2213': {'inputs': ['n1891'], 'outputs': 'n1848'}, 'NOT_U2217': {'inputs': ['n1851'], 'outputs': 'n1892'}, 'NOT_U2242': {'inputs': ['n3608'], 'outputs': 'n2517'}, 'NOT_U2273': {'inputs': ['n3524'], 'outputs': 'n3392'}, 'NOT_U2277': {'inputs': ['n3522'], 'outputs': 'n3391'}, 'NOT_U2295': {'inputs': ['f103'], 'outputs': 'n1935'}, 'NOT_U2299': {'inputs': ['f21'], 'outputs': 'n1937'}, 'NOT_U2305': {'inputs': ['n2522'], 'outputs': 'n1946'}, 'NOT_U2307': {'inputs': ['n1947'], 'outputs': 'n1948'}, 'NOT_U2326': {'inputs': ['n1964'], 'outputs': 'n1965'}, 'NOT_U2332': {'inputs': ['locking_key_92_'], 'outputs': 'n1970'}, 'NOT_U2337': {'inputs': ['n1974'], 'outputs': 'n1975'}, 'NOT_U2340': {'inputs': ['n1978'], 'outputs': 'n1979'}, 'NOT_U2341': {'inputs': ['n1981'], 'outputs': 'n1982'}, 'NOT_U2346': {'inputs': ['n1989'], 'outputs': 'n1990'}, 'NOT_U2349': {'inputs': ['locking_key_28_'], 'outputs': 'n1992'}, 'NOT_U2355': {'inputs': ['locking_key_53_'], 'outputs': 'n1997'}, 'NOT_U2360': {'inputs': ['locking_key_37_'], 'outputs': 'n2002'}, 'NOT_U2366': {'inputs': ['locking_key_62_'], 'outputs': 'n2008'}, 'NOT_U2371': {'inputs': ['locking_key_33_'], 'outputs': 'n2013'}, 'NOT_U2377': {'inputs': ['locking_key_58_'], 'outputs': 'n2018'}, 'NOT_U2382': {'inputs': ['locking_key_29_'], 'outputs': 'n2023'}, 'NOT_U2388': {'inputs': ['locking_key_54_'], 'outputs': 'n2028'}, 'NOT_U2393': {'inputs': ['locking_key_39_'], 'outputs': 'n2033'}, 'NOT_U2399': {'inputs': ['locking_key_64_'], 'outputs': 'n2038'}, 'NOT_U2404': {'inputs': ['locking_key_35_'], 'outputs': 'n2043'}, 'NOT_U2410': {'inputs': ['locking_key_60_'], 'outputs': 'n2048'}, 'NOT_U2416': {'inputs': ['locking_key_31_'], 'outputs': 'n2053'}, 'NOT_U2422': {'inputs': ['locking_key_56_'], 'outputs': 'n2058'}, 'NOT_U2427': {'inputs': ['locking_key_41_'], 'outputs': 'n2063'}, 'NOT_U2433': {'inputs': ['locking_key_66_'], 'outputs': 'n2068'}, 'NOT_U2438': {'inputs': ['locking_key_43_'], 'outputs': 'n2073'}, 'NOT_U2444': {'inputs': ['locking_key_68_'], 'outputs': 'n2078'}, 'NOT_U2449': {'inputs': ['locking_key_30_'], 'outputs': 'n2083'}, 'NOT_U2455': {'inputs': ['locking_key_55_'], 'outputs': 'n2089'}, 'NOT_U2460': {'inputs': ['locking_key_32_'], 'outputs': 'n2094'}, 'NOT_U2466': {'inputs': ['locking_key_57_'], 'outputs': 'n2099'}, 'NOT_U2471': {'inputs': ['locking_key_40_'], 'outputs': 'n2104'}, 'NOT_U2477': {'inputs': ['locking_key_65_'], 'outputs': 'n2109'}, 'NOT_U2482': {'inputs': ['locking_key_36_'], 'outputs': 'n2114'}, 'NOT_U2488': {'inputs': ['locking_key_61_'], 'outputs': 'n2119'}, 'NOT_U2493': {'inputs': ['locking_key_38_'], 'outputs': 'n2124'}, 'NOT_U2499': {'inputs': ['locking_key_63_'], 'outputs': 'n2129'}, 'NOT_U2504': {'inputs': ['locking_key_34_'], 'outputs': 'n2134'}, 'NOT_U2510': {'inputs': ['locking_key_59_'], 'outputs': 'n2139'}, 'NOT_U2515': {'inputs': ['locking_key_42_'], 'outputs': 'n2144'}, 'NOT_U2521': {'inputs': ['locking_key_67_'], 'outputs': 'n2149'}, 'NOT_U2525': {'inputs': ['n2154'], 'outputs': 'n2156'}, 'NOT_U2532': {'inputs': ['n2160'], 'outputs': 'n2161'}, 'NOT_U2542': {'inputs': ['n2537'], 'outputs': 'n3610'}, 'NOT_U2545': {'inputs': ['n2510'], 'outputs': 'n2182'}, 'NOT_U2553': {'inputs': ['n3331'], 'outputs': 'n3337'}, 'NOT_U2562': {'inputs': ['n2217'], 'outputs': 'n2195'}, 'NOT_U2564': {'inputs': ['n2227'], 'outputs': 'n2219'}, 'NOT_U2615': {'inputs': ['n2237'], 'outputs': 'n2505'}, 'NOT_U2652': {'inputs': ['n2334'], 'outputs': 'n2265'}, 'NOT_U2655': {'inputs': ['n2306'], 'outputs': 'n2299'}, 'NOT_U2656': {'inputs': ['n2266'], 'outputs': 'n2398'}, 'NOT_U2658': {'inputs': ['n2382'], 'outputs': 'n2424'}, 'NOT_U2659': {'inputs': ['n2384'], 'outputs': 'n2267'}, 'NOT_U2666': {'inputs': ['n2411'], 'outputs': 'n2427'}, 'NOT_U2668': {'inputs': ['n2270'], 'outputs': 'n2271'}, 'NOT_U2682': {'inputs': ['n3233'], 'outputs': 'n2283'}, 'NOT_U2684': {'inputs': ['n2285'], 'outputs': 'n2287'}, 'NOT_U2713': {'inputs': ['n2321'], 'outputs': 'n2322'}, 'NOT_U2717': {'inputs': ['n2345'], 'outputs': 'n2350'}, 'NOT_U2721': {'inputs': ['n2445'], 'outputs': 'n2330'}, 'NOT_U2754': {'inputs': ['n2358'], 'outputs': 'n2359'}, 'NOT_U2759': {'inputs': ['n2362'], 'outputs': 'n2390'}, 'NOT_U2762': {'inputs': ['n2364'], 'outputs': 'n2366'}, 'NOT_U2767': {'inputs': ['n2372'], 'outputs': 'n2373'}, 'NOT_U2778': {'inputs': ['n2414'], 'outputs': 'n2387'}, 'NOT_U2782': {'inputs': ['n2391'], 'outputs': 'n2392'}, 'NOT_U2786': {'inputs': ['f14'], 'outputs': 'n2397'}, 'NOT_U2791': {'inputs': ['n2430'], 'outputs': 'n2402'}, 'NOT_U2801': {'inputs': ['n2475'], 'outputs': 'n2498'}, 'NOT_U2805': {'inputs': ['n2484'], 'outputs': 'n2418'}, 'NOT_U2810': {'inputs': ['n2423'], 'outputs': 'n2425'}, 'NOT_U2813': {'inputs': ['n2428'], 'outputs': 'n2429'}, 'NOT_U2822': {'inputs': ['n2440'], 'outputs': 'n2444'}, 'NOT_U2823': {'inputs': ['n2476'], 'outputs': 'n2442'}, 'NOT_U2827': {'inputs': ['n2453'], 'outputs': 'n2467'}, 'NOT_U2830': {'inputs': ['n2448'], 'outputs': 'n2452'}, 'NOT_U2831': {'inputs': ['n2485'], 'outputs': 'n2450'}, 'NOT_U2837': {'inputs': ['n2458'], 'outputs': 'n2480'}, 'NOT_U2840': {'inputs': ['n2460'], 'outputs': 'n2464'}, 'NOT_U2841': {'inputs': ['n2478'], 'outputs': 'n2462'}, 'NOT_U2858': {'inputs': ['n2488'], 'outputs': 'n2490'}, 'NOT_U2871': {'inputs': ['locking_key_1_'], 'outputs': 'n2511'}, 'NOT_U2874': {'inputs': ['locking_key_153_'], 'outputs': 'n2634'}, 'NOT_U2879': {'inputs': ['n2515'], 'outputs': 'n2516'}, 'NOT_U2885': {'inputs': ['n2546'], 'outputs': 'n2524'}, 'NOT_U2888': {'inputs': ['locking_key_93_'], 'outputs': 'n2629'}, 'NOT_U2900': {'inputs': ['n2547'], 'outputs': 'n2657'}, 'NOT_U2905': {'inputs': ['n2543'], 'outputs': 'n2544'}, 'NOT_U2907': {'inputs': ['n2658'], 'outputs': 'n2549'}, 'NOT_U2913': {'inputs': ['locking_key_89_'], 'outputs': 'n2606'}, 'NOT_U2927': {'inputs': ['n2562'], 'outputs': 'n2564'}, 'NOT_U2933': {'inputs': ['locking_key_150_'], 'outputs': 'n2593'}, 'NOT_U2945': {'inputs': ['locking_key_152_'], 'outputs': 'n2579'}, 'NOT_U2953': {'inputs': ['n2588'], 'outputs': 'n2624'}, 'NOT_U2954': {'inputs': ['n2608'], 'outputs': 'n2614'}, 'NOT_U2984': {'inputs': ['locking_key_94_'], 'outputs': 'n2627'}, 'NOT_U2986': {'inputs': ['n2728'], 'outputs': 'n2628'}, 'NOT_U2992': {'inputs': ['locking_key_154_'], 'outputs': 'n2632'}, 'NOT_U2994': {'inputs': ['n2700'], 'outputs': 'n2633'}, 'NOT_U3003': {'inputs': ['n2666'], 'outputs': 'n2640'}, 'NOT_U3010': {'inputs': ['n2749'], 'outputs': 'n2643'}, 'NOT_U3018': {'inputs': ['n2942'], 'outputs': 'n2651'}, 'NOT_U3029': {'inputs': ['n3030'], 'outputs': 'n2771'}, 'NOT_U3031': {'inputs': ['n2672'], 'outputs': 'n2773'}, 'NOT_U3035': {'inputs': ['n2873'], 'outputs': 'n2815'}, 'NOT_U3050': {'inputs': ['n2878'], 'outputs': 'n2813'}, 'NOT_U3054': {'inputs': ['n2872'], 'outputs': 'n2676'}, 'NOT_U3062': {'inputs': ['n3660'], 'outputs': 'n2892'}, 'NOT_U3070': {'inputs': ['n3666'], 'outputs': 'n2885'}, 'NOT_U3073': {'inputs': ['f74'], 'outputs': 'n2684'}, 'NOT_U3078': {'inputs': ['locking_key_159_'], 'outputs': 'n2694'}, 'NOT_U3080': {'inputs': ['locking_key_158_'], 'outputs': 'n2692'}, 'NOT_U3082': {'inputs': ['locking_key_157_'], 'outputs': 'n2707'}, 'NOT_U3084': {'inputs': ['n2708'], 'outputs': 'n2786'}, 'NOT_U3088': {'inputs': ['n2858'], 'outputs': 'n2695'}, 'NOT_U3091': {'inputs': ['locking_key_156_'], 'outputs': 'n2697'}, 'NOT_U3094': {'inputs': ['locking_key_155_'], 'outputs': 'n2703'}, 'NOT_U3105': {'inputs': ['n2863'], 'outputs': 'n2828'}, 'NOT_U3108': {'inputs': ['locking_key_160_'], 'outputs': 'n2712'}, 'NOT_U3110': {'inputs': ['n2857'], 'outputs': 'n2713'}, 'NOT_U3116': {'inputs': ['locking_key_99_'], 'outputs': 'n2722'}, 'NOT_U3118': {'inputs': ['locking_key_98_'], 'outputs': 'n2720'}, 'NOT_U3120': {'inputs': ['locking_key_97_'], 'outputs': 'n2735'}, 'NOT_U3122': {'inputs': ['n2736'], 'outputs': 'n2795'}, 'NOT_U3126': {'inputs': ['n2904'], 'outputs': 'n2723'}, 'NOT_U3129': {'inputs': ['locking_key_96_'], 'outputs': 'n2725'}, 'NOT_U3132': {'inputs': ['locking_key_95_'], 'outputs': 'n2731'}, 'NOT_U3144': {'inputs': ['n2909'], 'outputs': 'n2836'}, 'NOT_U3147': {'inputs': ['locking_key_100_'], 'outputs': 'n2740'}, 'NOT_U3149': {'inputs': ['n2903'], 'outputs': 'n2741'}, 'NOT_U3157': {'inputs': ['n3055'], 'outputs': 'n2800'}, 'NOT_U3159': {'inputs': ['n2755'], 'outputs': 'n2802'}, 'NOT_U3163': {'inputs': ['n2919'], 'outputs': 'n2838'}, 'NOT_U3178': {'inputs': ['n2924'], 'outputs': 'n2842'}, 'NOT_U3182': {'inputs': ['n2918'], 'outputs': 'n2759'}, 'NOT_U3233': {'inputs': ['f52'], 'outputs': 'n2821'}, 'NOT_U3240': {'inputs': ['n2830'], 'outputs': 'n2831'}, 'NOT_U3247': {'inputs': ['n2844'], 'outputs': 'n2839'}, 'NOT_U3267': {'inputs': ['n3654'], 'outputs': 'n3711'}, 'NOT_U3270': {'inputs': ['n2882'], 'outputs': 'n2867'}, 'NOT_U3281': {'inputs': ['n3665'], 'outputs': 'n2884'}, 'NOT_U3284': {'inputs': ['f12'], 'outputs': 'n2887'}, 'NOT_U3287': {'inputs': ['n3658'], 'outputs': 'n2890'}, 'NOT_U3303': {'inputs': ['n3699'], 'outputs': 'n3744'}, 'NOT_U3306': {'inputs': ['n2928'], 'outputs': 'n2913'}, 'NOT_U3323': {'inputs': ['n2937'], 'outputs': 'n2980'}, 'NOT_U3325': {'inputs': ['n2981'], 'outputs': 'n2938'}, 'NOT_U3328': {'inputs': ['f78'], 'outputs': 'n2940'}, 'NOT_U3335': {'inputs': ['n2948'], 'outputs': 'n2950'}, 'NOT_U3336': {'inputs': ['n2970'], 'outputs': 'n2949'}, 'NOT_U3340': {'inputs': ['n2954'], 'outputs': 'n3011'}, 'NOT_U3342': {'inputs': ['n2959'], 'outputs': 'n2956'}, 'NOT_U3343': {'inputs': ['n3002'], 'outputs': 'n2955'}, 'NOT_U3346': {'inputs': ['n3012'], 'outputs': 'n2958'}, 'NOT_U3354': {'inputs': ['n2968'], 'outputs': 'n2969'}, 'NOT_U3357': {'inputs': ['n2973'], 'outputs': 'n2975'}, 'NOT_U3362': {'inputs': ['n2984'], 'outputs': 'n2986'}, 'NOT_U3366': {'inputs': ['n2990'], 'outputs': 'n3044'}, 'NOT_U3367': {'inputs': ['n3043'], 'outputs': 'n2991'}, 'NOT_U3370': {'inputs': ['n2993'], 'outputs': 'n3040'}, 'NOT_U3376': {'inputs': ['n3000'], 'outputs': 'n3001'}, 'NOT_U3379': {'inputs': ['n3005'], 'outputs': 'n3007'}, 'NOT_U3385': {'inputs': ['n3015'], 'outputs': 'n3017'}, 'NOT_U3394': {'inputs': ['n3028'], 'outputs': 'n3033'}, 'NOT_U3395': {'inputs': ['n3029'], 'outputs': 'n3031'}, 'NOT_U3397': {'inputs': ['n3037'], 'outputs': 'n3032'}, 'NOT_U3399': {'inputs': ['n4167'], 'outputs': 'n3038'}, 'NOT_U3406': {'inputs': ['f100'], 'outputs': 'n3045'}, 'NOT_U3412': {'inputs': ['n3053'], 'outputs': 'n3058'}, 'NOT_U3413': {'inputs': ['n3054'], 'outputs': 'n3056'}, 'NOT_U3415': {'inputs': ['n3061'], 'outputs': 'n3057'}, 'NOT_U3418': {'inputs': ['n3060'], 'outputs': 'n3062'}, 'NOT_U3428': {'inputs': ['n3073'], 'outputs': 'n3091'}, 'NOT_U3429': {'inputs': ['n3074'], 'outputs': 'n3076'}, 'NOT_U3430': {'inputs': ['n3078'], 'outputs': 'n3080'}, 'NOT_U3438': {'inputs': ['n3352'], 'outputs': 'n3086'}, 'NOT_U3444': {'inputs': ['n3092'], 'outputs': 'n3093'}, 'NOT_U3457': {'inputs': ['n3110'], 'outputs': 'n3112'}, 'NOT_U3459': {'inputs': ['n3117'], 'outputs': 'n3118'}, 'NOT_U3465': {'inputs': ['locking_key_13_'], 'outputs': 'n3124'}, 'NOT_U3480': {'inputs': ['n3189'], 'outputs': 'n3151'}, 'NOT_U3493': {'inputs': ['n3202'], 'outputs': 'n3178'}, 'NOT_U3502': {'inputs': ['n3201'], 'outputs': 'n3175'}, 'NOT_U3506': {'inputs': ['n3204'], 'outputs': 'n3179'}, 'NOT_U3509': {'inputs': ['n3183'], 'outputs': 'n3185'}, 'NOT_U3525': {'inputs': ['n3268'], 'outputs': 'n3217'}, 'NOT_U3529': {'inputs': ['n3343'], 'outputs': 'n3224'}, 'NOT_U3540': {'inputs': ['n3281'], 'outputs': 'n3287'}, 'NOT_U3548': {'inputs': ['n3293'], 'outputs': 'n3280'}, 'NOT_U3552': {'inputs': ['n3292'], 'outputs': 'n3282'}, 'NOT_U3561': {'inputs': ['n3291'], 'outputs': 'n3288'}, 'NOT_U3567': {'inputs': ['n3271'], 'outputs': 'n3273'}, 'NOT_U3571': {'inputs': ['n3299'], 'outputs': 'n3278'}, 'NOT_U3585': {'inputs': ['n3319'], 'outputs': 'n3320'}, 'NOT_U3590': {'inputs': ['f28'], 'outputs': 'n3330'}, 'NOT_U3616': {'inputs': ['n3375'], 'outputs': 'n3378'}, 'NOT_U3629': {'inputs': ['n3394'], 'outputs': 'n3395'}, 'NOT_U3632': {'inputs': ['f64'], 'outputs': 'n3398'}, 'NOT_U3639': {'inputs': ['n3404'], 'outputs': 'n3405'}, 'NOT_U3649': {'inputs': ['n3415'], 'outputs': 'n3416'}, 'NOT_U3652': {'inputs': ['f40'], 'outputs': 'n3419'}, 'NOT_U3659': {'inputs': ['n3425'], 'outputs': 'n3426'}, 'NOT_U3668': {'inputs': ['n3436'], 'outputs': 'n3437'}, 'NOT_U3671': {'inputs': ['f30'], 'outputs': 'n3440'}, 'NOT_U3678': {'inputs': ['n3446'], 'outputs': 'n3447'}, 'NOT_U3687': {'inputs': ['n3457'], 'outputs': 'n3458'}, 'NOT_U3690': {'inputs': ['n3469'], 'outputs': 'n3461'}, 'NOT_U3696': {'inputs': ['f61'], 'outputs': 'n3468'}, 'NOT_U3702': {'inputs': ['n3478'], 'outputs': 'n3477'}, 'NOT_U3705': {'inputs': ['f57'], 'outputs': 'n3482'}, 'NOT_U3709': {'inputs': ['n3485'], 'outputs': 'n3495'}, 'NOT_U3710': {'inputs': ['n3486'], 'outputs': 'n3487'}, 'NOT_U3716': {'inputs': ['n3491'], 'outputs': 'n3492'}, 'NOT_U3723': {'inputs': ['n3501'], 'outputs': 'n3502'}, 'NOT_U3726': {'inputs': ['n3514'], 'outputs': 'n3505'}, 'NOT_U3732': {'inputs': ['f98'], 'outputs': 'n3513'}, 'NOT_U3739': {'inputs': ['n3527'], 'outputs': 'n3528'}, 'NOT_U3742': {'inputs': ['n3532'], 'outputs': 'n3536'}, 'NOT_U3764': {'inputs': ['n3564'], 'outputs': 'n3633'}, 'NOT_U3767': {'inputs': ['n3566'], 'outputs': 'n3568'}, 'NOT_U3777': {'inputs': ['n3582'], 'outputs': 'n3584'}, 'NOT_U3787': {'inputs': ['n3627'], 'outputs': 'n3600'}, 'NOT_U3791': {'inputs': ['n3601'], 'outputs': 'n3624'}, 'NOT_U3794': {'inputs': ['n3605'], 'outputs': 'n3618'}, 'NOT_U3809': {'inputs': ['n3628'], 'outputs': 'n3629'}, 'NOT_U3813': {'inputs': ['n3634'], 'outputs': 'n3635'}, 'NOT_U3831': {'inputs': ['n3825'], 'outputs': 'n3759'}, 'NOT_U3846': {'inputs': ['f48'], 'outputs': 'n3668'}, 'NOT_U3851': {'inputs': ['locking_key_162_'], 'outputs': 'n3676'}, 'NOT_U3853': {'inputs': ['locking_key_161_'], 'outputs': 'n3678'}, 'NOT_U3855': {'inputs': ['n3679'], 'outputs': 'n3730'}, 'NOT_U3861': {'inputs': ['n3681'], 'outputs': 'n3682'}, 'NOT_U3865': {'inputs': ['locking_key_102_'], 'outputs': 'n3688'}, 'NOT_U3867': {'inputs': ['locking_key_101_'], 'outputs': 'n3690'}, 'NOT_U3869': {'inputs': ['n3691'], 'outputs': 'n3740'}, 'NOT_U3876': {'inputs': ['n3885'], 'outputs': 'n3804'}, 'NOT_U3879': {'inputs': ['n3701'], 'outputs': 'n3693'}, 'NOT_U3883': {'inputs': ['n3696'], 'outputs': 'n3746'}, 'NOT_U3885': {'inputs': ['n3698'], 'outputs': 'n3748'}, 'NOT_U3905': {'inputs': ['n3726'], 'outputs': 'n3727'}, 'NOT_U3911': {'inputs': ['n3736'], 'outputs': 'n3737'}, 'NOT_U3925': {'inputs': ['n3830'], 'outputs': 'n3761'}, 'NOT_U3929': {'inputs': ['n3824'], 'outputs': 'n3765'}, 'NOT_U3940': {'inputs': ['f53'], 'outputs': 'n3771'}, 'NOT_U3945': {'inputs': ['locking_key_163_'], 'outputs': 'n3778'}, 'NOT_U3948': {'inputs': ['n3852'], 'outputs': 'n3779'}, 'NOT_U3951': {'inputs': ['n3857'], 'outputs': 'n3781'}, 'NOT_U3954': {'inputs': ['locking_key_164_'], 'outputs': 'n3785'}, 'NOT_U3956': {'inputs': ['n3851'], 'outputs': 'n3786'}, 'NOT_U3962': {'inputs': ['locking_key_103_'], 'outputs': 'n3792'}, 'NOT_U3965': {'inputs': ['n3870'], 'outputs': 'n3793'}, 'NOT_U3968': {'inputs': ['n3875'], 'outputs': 'n3795'}, 'NOT_U3971': {'inputs': ['locking_key_104_'], 'outputs': 'n3799'}, 'NOT_U3973': {'inputs': ['n3869'], 'outputs': 'n3800'}, 'NOT_U3980': {'inputs': ['n3890'], 'outputs': 'n3806'}, 'NOT_U3984': {'inputs': ['n3884'], 'outputs': 'n3810'}, 'NOT_U3997': {'inputs': ['n4054'], 'outputs': 'n3972'}, 'NOT_U3998': {'inputs': ['n4060'], 'outputs': 'n3831'}, 'NOT_U4003': {'inputs': ['n3971'], 'outputs': 'n3903'}, 'NOT_U4008': {'inputs': ['n3912'], 'outputs': 'n3835'}, 'NOT_U4013': {'inputs': ['n3918'], 'outputs': 'n3839'}, 'NOT_U4016': {'inputs': ['f43'], 'outputs': 'n3841'}, 'NOT_U4026': {'inputs': ['n4093'], 'outputs': 'n3997'}, 'NOT_U4027': {'inputs': ['n4099'], 'outputs': 'n3858'}, 'NOT_U4031': {'inputs': ['n3860'], 'outputs': 'n3861'}, 'NOT_U4040': {'inputs': ['n4115'], 'outputs': 'n4015'}, 'NOT_U4041': {'inputs': ['n4121'], 'outputs': 'n3876'}, 'NOT_U4046': {'inputs': ['n4030'], 'outputs': 'n3951'}, 'NOT_U4049': {'inputs': ['n3893'], 'outputs': 'n3878'}, 'NOT_U4057': {'inputs': ['n4133'], 'outputs': 'n4031'}, 'NOT_U4058': {'inputs': ['n4139'], 'outputs': 'n3891'}, 'NOT_U4072': {'inputs': ['n3970'], 'outputs': 'n3908'}, 'NOT_U4079': {'inputs': ['n4069'], 'outputs': 'n3914'}, 'NOT_U4085': {'inputs': ['n4076'], 'outputs': 'n3919'}, 'NOT_U4087': {'inputs': ['f54'], 'outputs': 'n3920'}, 'NOT_U4092': {'inputs': ['locking_key_165_'], 'outputs': 'n3927'}, 'NOT_U4095': {'inputs': ['n3996'], 'outputs': 'n3928'}, 'NOT_U4100': {'inputs': ['locking_key_166_'], 'outputs': 'n3933'}, 'NOT_U4102': {'inputs': ['n3995'], 'outputs': 'n3934'}, 'NOT_U4108': {'inputs': ['locking_key_105_'], 'outputs': 'n3940'}, 'NOT_U4111': {'inputs': ['n4014'], 'outputs': 'n3941'}, 'NOT_U4116': {'inputs': ['locking_key_106_'], 'outputs': 'n3946'}, 'NOT_U4118': {'inputs': ['n4013'], 'outputs': 'n3947'}, 'NOT_U4128': {'inputs': ['n4029'], 'outputs': 'n3956'}, 'NOT_U4138': {'inputs': ['n4049'], 'outputs': 'n3974'}, 'NOT_U4142': {'inputs': ['n4053'], 'outputs': 'n3975'}, 'NOT_U4156': {'inputs': ['f11'], 'outputs': 'n3985'}, 'NOT_U4163': {'inputs': ['n4090'], 'outputs': 'n3999'}, 'NOT_U4167': {'inputs': ['n4092'], 'outputs': 'n4000'}, 'NOT_U4170': {'inputs': ['n4004'], 'outputs': 'n4005'}, 'NOT_U4176': {'inputs': ['n4112'], 'outputs': 'n4017'}, 'NOT_U4180': {'inputs': ['n4114'], 'outputs': 'n4018'}, 'NOT_U4185': {'inputs': ['n4038'], 'outputs': 'n4023'}, 'NOT_U4190': {'inputs': ['n4129'], 'outputs': 'n4033'}, 'NOT_U4194': {'inputs': ['n4132'], 'outputs': 'n4034'}, 'NOT_U4202': {'inputs': ['n4048'], 'outputs': 'n4051'}, 'NOT_U4221': {'inputs': ['f67'], 'outputs': 'n4079'}, 'NOT_U4226': {'inputs': ['locking_key_167_'], 'outputs': 'n4088'}, 'NOT_U4234': {'inputs': ['n4102'], 'outputs': 'n4103'}, 'NOT_U4238': {'inputs': ['locking_key_107_'], 'outputs': 'n4110'}, 'NOT_U4248': {'inputs': ['n4142'], 'outputs': 'n4125'}, 'NOT_U4251': {'inputs': ['n4128'], 'outputs': 'n4131'}, 'NOT_U1122': {'inputs': ['n1347'], 'outputs': 'n1251'}, 'NOT_U1762': {'inputs': ['f95'], 'outputs': 'n3218'}, 'NOT_U1177': {'inputs': ['n1221'], 'outputs': 'n1226'}, 'NOT_U1811': {'inputs': ['n3651'], 'outputs': 'n3713'}, 'NOT_U2089': {'inputs': ['f73'], 'outputs': 'n3274'}, 'NOT_U2100': {'inputs': ['locking_key_87_'], 'outputs': 'n2179'}, 'NOT_U2160': {'inputs': ['locking_key_16_'], 'outputs': 'n2514'}, 'NOT_U2306': {'inputs': ['locking_key_5_'], 'outputs': 'n2296'}, 'NOT_U2696': {'inputs': ['n3653'], 'outputs': 'n3715'}}), ('INV_X2', {'NOT_U1107': {'inputs': ['f45'], 'outputs': 'n3142'}, 'NOT_U1121': {'inputs': ['n1395'], 'outputs': 'n1110'}, 'NOT_U1263': {'inputs': ['n1901'], 'outputs': 'n2003'}, 'NOT_U1335': {'inputs': ['f72'], 'outputs': 'n1649'}, 'NOT_U1373': {'inputs': ['n1665'], 'outputs': 'n1189'}, 'NOT_U1644': {'inputs': ['f10'], 'outputs': 'n3139'}, 'NOT_U1652': {'inputs': ['locking_key_7_'], 'outputs': 'n1424'}, 'NOT_U1725': {'inputs': ['f19'], 'outputs': 'n1344'}, 'NOT_U1779': {'inputs': ['n1432'], 'outputs': 'n1450'}, 'NOT_U2999': {'inputs': ['n2636'], 'outputs': 'n4105'}, 'NOT_U2098': {'inputs': ['n2215'], 'outputs': 'n2211'}, 'NOT_U1653': {'inputs': ['locking_key_6_'], 'outputs': 'n1421'}, 'NOT_U1103': {'inputs': ['locking_key_9_'], 'outputs': 'n3256'}, 'NOT_U1104': {'inputs': ['n1733'], 'outputs': 'n1184'}, 'NOT_U1124': {'inputs': ['n1112'], 'outputs': 'n1109'}, 'NOT_U1132': {'inputs': ['n3121'], 'outputs': 'n1093'}, 'NOT_U1164': {'inputs': ['n1887'], 'outputs': 'n1852'}, 'NOT_U1328': {'inputs': ['n3351'], 'outputs': 'n4158'}, 'NOT_U1541': {'inputs': ['n3521'], 'outputs': 'n3499'}, 'NOT_U4295': {'inputs': ['n1133'], 'outputs': 'n1131'}}), ('INV_X8', {'NOT_U1333': {'inputs': ['locking_key_12_'], 'outputs': 'n1632'}}), ('INV_X4', {'NOT_U1513': {'inputs': ['n2003'], 'outputs': 'n2084'}, 'NOT_U1677': {'inputs': ['locking_key_8_'], 'outputs': 'n3253'}, 'NOT_U1726': {'inputs': ['n1344'], 'outputs': 'n3148'}, 'NOT_U1133': {'inputs': ['n4156'], 'outputs': 'n4157'}}), ('INV_X12', {'NOT_U1676': {'inputs': ['f25'], 'outputs': 'n4150'}})])"
      ]
     },
     "execution_count": 70,
     "metadata": {},
     "output_type": "execute_result"
    }
   ],
   "source": [
    "locked.top_module.gates[\"NOT\"].items()"
   ]
  },
  {
   "cell_type": "code",
   "execution_count": 114,
   "metadata": {},
   "outputs": [],
   "source": [
    "def gates_to_txt_techmap(gates_tech,gates_vlib_2,tech_map):\n",
    "  txt=\"\"\n",
    "  for _,logic_gates in gates_tech.items():\n",
    "    for logic_gate,gate_inits in logic_gates.items():\n",
    "      node_name=tech_map[logic_gate]\n",
    "      port=gates_vlib_2[node_name]['port']\n",
    "      for init_name in gate_inits:\n",
    "        tmp={}\n",
    "        for mIO,mNode in zip(gates_vlib_2[node_name][\"inputs\"],gate_inits[init_name]['inputs']):\n",
    "          tmp[mIO]=mNode\n",
    "        tmp[gates_vlib_2[node_name][\"outputs\"][0]]=gate_inits[init_name]['outputs']\n",
    "        txt+=f\"{node_name} {init_name} {port.format(**tmp)}\\n\"\n",
    "  return txt"
   ]
  },
  {
   "cell_type": "code",
   "execution_count": 115,
   "metadata": {},
   "outputs": [],
   "source": [
    "txt=gates_to_txt_techmap(locked.top_module.gates,gates_vlib2,tech_map)\n",
    "txt+=FF_to_txt_techmap(FF_tech,FF_vlib_2,tech_map)"
   ]
  },
  {
   "cell_type": "code",
   "execution_count": null,
   "metadata": {},
   "outputs": [],
   "source": [
    "def FF_to_txt_techmap(FF_tech,FF_vlib_2,tech_map):\n",
    "  # tech_map={target:[source]}\n",
    "  txt=\"\"\n",
    "  for FF_tech_i in FF_tech:\n",
    "    node_name=tech_map[FF_tech_i]\n",
    "    port=FF_vlib_2[node_name]['port']\n",
    "    for init_name in FF_tech[FF_tech_i]:\n",
    "      tmp={}\n",
    "      for mIO in FF_vlib_2[node_name][\"port_list\"]:\n",
    "        tmp[mIO]=FF_tech[FF_tech_i][init_name][utils.det_FF_node(mIO)]\n",
    "      txt+= f\"{node_name} {init_name} {port.format(**tmp)}\\n\"\n",
    "  return txt"
   ]
  },
  {
   "cell_type": "code",
   "execution_count": null,
   "metadata": {},
   "outputs": [],
   "source": []
  },
  {
   "cell_type": "code",
   "execution_count": null,
   "metadata": {},
   "outputs": [],
   "source": []
  },
  {
   "cell_type": "code",
   "execution_count": null,
   "metadata": {},
   "outputs": [],
   "source": [
    "# path_dir=r\"/mnt/d/alis_files/LAPTOP/alis_files/university_files/GDRIVE/Hardware security FYP/gnnre/Netlist_to_graph/Circuits_datasets/Interconnected-Modules\"\n",
    "# paths=[os.path.join(path_dir,i) for i in os.listdir(path_dir) if(i[:5]==\"Train\")]\n",
    "\n",
    "# import re\n",
    "# def analyze_init(paths):\n",
    "#   items={}\n",
    "#   for path in paths:\n",
    "#     with open(path,\"r\") as f:\n",
    "#       module_txt=f.read()\n",
    "    \n",
    "#     for i in re.findall(r\"(\\w+) (\\w+) \\((.*)\\);\",module_txt)[1:]:\n",
    "#       tmpi=re.findall(r'\\.(\\S+)\\( ?[^\\(\\),]+\\)',i[2])\n",
    "#       port=\"(\"\n",
    "#       for k in tmpi[:-1]:\n",
    "#         port+=f\".{k}({{{k}}}), \"\n",
    "#       port+=f\".{tmpi[-1]}({{{tmpi[-1]}}})\"+\");\"\n",
    "#       if(i[0] not in items):\n",
    "#         items[i[0]]=[port]\n",
    "#       elif(items[i[0]]!=[port]):\n",
    "#         raise Exception(\"Items have mismatching initiation\")\n",
    "#   return items"
   ]
  },
  {
   "cell_type": "code",
   "execution_count": null,
   "metadata": {},
   "outputs": [],
   "source": [
    "# items=analyze_init(paths)"
   ]
  },
  {
   "cell_type": "code",
   "execution_count": null,
   "metadata": {},
   "outputs": [],
   "source": []
  },
  {
   "cell_type": "code",
   "execution_count": null,
   "metadata": {},
   "outputs": [],
   "source": []
  },
  {
   "cell_type": "code",
   "execution_count": null,
   "metadata": {},
   "outputs": [],
   "source": []
  },
  {
   "cell_type": "code",
   "execution_count": null,
   "metadata": {},
   "outputs": [],
   "source": [
    "\n",
    "# with open(\"input_files/ASSURE_LOCKED/modulefiles.v\",\"r\") as f:\n",
    "#   module_txt=f.read()\n",
    "\n",
    "\n",
    "# with open(\"tmp/tmpmod.v\",\"w\") as f:\n",
    "#   f.write(module_txt)\n",
    "\n",
    "\n",
    "# # with open(\"tmp.v\",\"w\") as f:\n",
    "# #   f.write(t)\n",
    "\n",
    "# gate_mapping,gates,FF=verilog_parser.extract_modules_def(module_txt)\n",
    "\n",
    "# path=\"input_files/ASSURE_LOCKED/design4/design4_netlist.v\"\n",
    "# # \"input_files/test.v\"\n",
    "# # \"input_files/ASSURE_LOCKED/design4/design4_netlist.v\"\n",
    "\n",
    "\n",
    "\n",
    "\n",
    "# # # verilog=tmp1()\n",
    "# # verilog=tmp2()\n",
    "# # with open(\"tmp/tmp.v\",\"w\") as f:\n",
    "# #   f.write(verilog)\n",
    "# # # print(verilog)\n",
    "\n",
    "# # print(\"HERE\")\n"
   ]
  },
  {
   "cell_type": "code",
   "execution_count": null,
   "metadata": {},
   "outputs": [],
   "source": [
    "# gate_tech,sub_module,(FF_tech,Clock_pins,Reset_pins)=verilog_parser.gates_module_extraction(verilog,gate_mapping,gates,FF)"
   ]
  }
 ],
 "metadata": {
  "kernelspec": {
   "display_name": "Python 3",
   "language": "python",
   "name": "python3"
  },
  "language_info": {
   "codemirror_mode": {
    "name": "ipython",
    "version": 3
   },
   "file_extension": ".py",
   "mimetype": "text/x-python",
   "name": "python",
   "nbconvert_exporter": "python",
   "pygments_lexer": "ipython3",
   "version": "3.8.10"
  },
  "orig_nbformat": 4
 },
 "nbformat": 4,
 "nbformat_minor": 2
}
