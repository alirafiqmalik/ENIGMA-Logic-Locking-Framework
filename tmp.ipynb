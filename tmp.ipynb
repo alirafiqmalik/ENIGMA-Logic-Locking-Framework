{
 "cells": [
  {
   "cell_type": "code",
   "execution_count": 48,
   "metadata": {},
   "outputs": [],
   "source": [
    "import os\n",
    "import re\n",
    "import shutil\n",
    "import src.utils as utils\n",
    "import src.Parser.verilog_parser as verilog_parser\n",
    "import src.Parser.bench_parser as bench_parser\n",
    "import src.Parser.conv as conv\n",
    "from src.Netlist.AST import AST,module\n",
    "import src.Attacks.SATAttack.SATAttack as satattack\n",
    "import src.Attacks.SATAttack.benchmarks_custom as benchmarks"
   ]
  },
  {
   "cell_type": "code",
   "execution_count": 61,
   "metadata": {},
   "outputs": [],
   "source": []
  },
  {
   "cell_type": "code",
   "execution_count": 67,
   "metadata": {},
   "outputs": [],
   "source": []
  },
  {
   "cell_type": "code",
   "execution_count": null,
   "metadata": {},
   "outputs": [],
   "source": []
  },
  {
   "cell_type": "code",
   "execution_count": null,
   "metadata": {},
   "outputs": [],
   "source": [
    "# obj=AST(file_path=unlocked_filename,rw=\"w\",flag=\"b\",top=top,filename=f\"{top}org\",output_dir_path=\"output_files/ASSURE_BENCH\",vlibpath=\"input_files/ASSURE_LOCKED/modulefiles.v\",synth=False)#Run to Read in Verilog Design"
   ]
  },
  {
   "cell_type": "code",
   "execution_count": 5,
   "metadata": {},
   "outputs": [],
   "source": [
    "# top=\"test_adder\"\n",
    "# netlist = AST(file_path=f\"./output_files/{top}org.json\",rw='r',filename=f\"{top}locked_test\") #Run to read in AST Format"
   ]
  },
  {
   "cell_type": "code",
   "execution_count": 6,
   "metadata": {},
   "outputs": [
    {
     "ename": "AttributeError",
     "evalue": "module 'os' has no attribute 'isdir'",
     "output_type": "error",
     "traceback": [
      "\u001b[0;31m---------------------------------------------------------------------------\u001b[0m",
      "\u001b[0;31mAttributeError\u001b[0m                            Traceback (most recent call last)",
      "Cell \u001b[0;32mIn[6], line 7\u001b[0m\n\u001b[1;32m      1\u001b[0m \u001b[39m# locked_filename=\"input_files/benchmark_bench/rnd/apex2_enc05.bench\"\u001b[39;00m\n\u001b[1;32m      2\u001b[0m \u001b[39m# unlocked_filename=\"input_files/benchmark_bench/original/apex2.bench\"\u001b[39;00m\n\u001b[1;32m      6\u001b[0m top\u001b[39m=\u001b[39m\u001b[39m\"\u001b[39m\u001b[39msasc_top_0_obf\u001b[39m\u001b[39m\"\u001b[39m\n\u001b[0;32m----> 7\u001b[0m locked \u001b[39m=\u001b[39m AST(file_path\u001b[39m=\u001b[39;49m\u001b[39mf\u001b[39;49m\u001b[39m\"\u001b[39;49m\u001b[39m./output_files/\u001b[39;49m\u001b[39m{\u001b[39;49;00mtop\u001b[39m}\u001b[39;49;00m\u001b[39morg.json\u001b[39;49m\u001b[39m\"\u001b[39;49m,rw\u001b[39m=\u001b[39;49m\u001b[39m'\u001b[39;49m\u001b[39mr\u001b[39;49m\u001b[39m'\u001b[39;49m,filename\u001b[39m=\u001b[39;49m\u001b[39mf\u001b[39;49m\u001b[39m\"\u001b[39;49m\u001b[39m{\u001b[39;49;00mtop\u001b[39m}\u001b[39;49;00m\u001b[39mlocked_test\u001b[39;49m\u001b[39m\"\u001b[39;49m) \u001b[39m#Run to read in AST Format\u001b[39;00m\n\u001b[1;32m      8\u001b[0m top\u001b[39m=\u001b[39m\u001b[39m\"\u001b[39m\u001b[39msasc_top\u001b[39m\u001b[39m\"\u001b[39m\n\u001b[1;32m      9\u001b[0m unlocked \u001b[39m=\u001b[39m AST(file_path\u001b[39m=\u001b[39m\u001b[39mf\u001b[39m\u001b[39m\"\u001b[39m\u001b[39m./output_files/\u001b[39m\u001b[39m{\u001b[39;00mtop\u001b[39m}\u001b[39;00m\u001b[39morg.json\u001b[39m\u001b[39m\"\u001b[39m,rw\u001b[39m=\u001b[39m\u001b[39m'\u001b[39m\u001b[39mr\u001b[39m\u001b[39m'\u001b[39m,filename\u001b[39m=\u001b[39m\u001b[39mf\u001b[39m\u001b[39m\"\u001b[39m\u001b[39m{\u001b[39;00mtop\u001b[39m}\u001b[39;00m\u001b[39mlocked_test\u001b[39m\u001b[39m\"\u001b[39m) \u001b[39m#Run to read in AST Format\u001b[39;00m\n",
      "File \u001b[0;32m~/FYP_FINAL/src/Netlist/AST.py:298\u001b[0m, in \u001b[0;36mAST.__init__\u001b[0;34m(self, file_path, top, rw, flag, filename, vlibpath, output_dir_path, sub_modules, synth, locked)\u001b[0m\n\u001b[1;32m    296\u001b[0m \u001b[39mself\u001b[39m\u001b[39m.\u001b[39mlocked\u001b[39m=\u001b[39mlocked\n\u001b[1;32m    297\u001b[0m \u001b[39mself\u001b[39m\u001b[39m.\u001b[39moutput_dir_path\u001b[39m=\u001b[39moutput_dir_path\n\u001b[0;32m--> 298\u001b[0m \u001b[39mif\u001b[39;00m \u001b[39mnot\u001b[39;00m os\u001b[39m.\u001b[39;49misdir(output_dir_path):\n\u001b[1;32m    299\u001b[0m     os\u001b[39m.\u001b[39mmkdir(output_dir_path)\n\u001b[1;32m    301\u001b[0m \u001b[39mwith\u001b[39;00m \u001b[39mopen\u001b[39m(vlibpath,\u001b[39m\"\u001b[39m\u001b[39mr\u001b[39m\u001b[39m\"\u001b[39m) \u001b[39mas\u001b[39;00m f:\n",
      "\u001b[0;31mAttributeError\u001b[0m: module 'os' has no attribute 'isdir'"
     ]
    }
   ],
   "source": [
    "# locked_filename=\"input_files/benchmark_bench/rnd/apex2_enc05.bench\"\n",
    "# unlocked_filename=\"input_files/benchmark_bench/original/apex2.bench\"\n",
    "\n",
    "\n",
    "\n",
    "top=\"sasc_top_0_obf\"\n",
    "locked = AST(file_path=f\"./output_files/{top}org.json\",rw='r',filename=f\"{top}locked_test\") #Run to read in AST Format\n",
    "top=\"sasc_top\"\n",
    "unlocked = AST(file_path=f\"./output_files/{top}org.json\",rw='r',filename=f\"{top}locked_test\") #Run to read in AST Format\n",
    "\n"
   ]
  },
  {
   "cell_type": "code",
   "execution_count": null,
   "metadata": {},
   "outputs": [],
   "source": [
    "from node import Node\n",
    "import attacks.satattack.circuit as circuit\n",
    "import src.Attacks.SATAttack.benchmarks_custom as benchmarks\n",
    "\n",
    "class cone_ckt:\n",
    "  def __init__(self,outputs,primary_inputs,key_inputs,nodes,depth) -> None:\n",
    "    self.primary_inputs=primary_inputs\n",
    "    self.key_inputs=key_inputs\n",
    "    self.nodes=nodes\n",
    "    self.outputs=outputs\n",
    "    self.depth=depth\n",
    "\n",
    "class SATobj:\n",
    "  def __init__(self,oracle_ckt:cone_ckt,locked_ckt:cone_ckt) -> None:\n",
    "    self.oracle_ckt_cone=oracle_ckt\n",
    "    self.locked_ckt_cone=locked_ckt\n",
    "    self.keyinputs=self.locked_ckt_cone.key_inputs\n",
    "    self.prim_inputs=self.locked_ckt_cone.primary_inputs\n",
    "    \n",
    "    self.oracle_ckt=circuit.Circuit.from_nodes(self.oracle_ckt_cone.nodes, self.oracle_ckt_cone.outputs)\n",
    "    self.locked_ckt=(self.locked_ckt_cone.nodes, self.locked_ckt_cone.outputs)\n",
    "\n",
    "\n",
    "class Analyze_Netlist:\n",
    "  def __init__(self,locked_module_obj=None,unlocked_module_obj=None) -> None:\n",
    "    self.locked=locked_module_obj\n",
    "    self.unlocked=unlocked_module_obj\n",
    "    self.attack_outputs={}\n",
    "\n",
    "\n",
    "    if(self.locked!=None and self.unlocked!=None):\n",
    "      self.common_outputs=utils.get_common_elements(self.locked.io[\"outputs\"],self.unlocked.io[\"outputs\"])\n",
    "      self.diff_outputs=utils.get_difference(self.locked.io[\"outputs\"],self.unlocked.io[\"inputs\"])\n",
    "      self.gen_cone_data()\n",
    "\n",
    "    \n",
    "  def gen_cone_ckts(self):\n",
    "    pass\n",
    "\n",
    "  def gen_cone_data(self):\n",
    "\n",
    "    def traverse_graph_r(obj,out_node):\n",
    "      if(obj.circuitgraph.nodes[out_node][\"type\"]==\"input\"):\n",
    "          if(\"key\" in out_node and out_node not in self.keyinputs):\n",
    "            self.keyinputs.append(out_node)\n",
    "            self.nodes[out_node]=Node(out_node,[],\"Key Input\")\n",
    "          elif(out_node not in self.primary_inp):\n",
    "              self.primary_inp.append(out_node)\n",
    "              self.nodes[out_node]=Node(out_node,[],\"Primary Input\")\n",
    "          return \n",
    "      elif(obj.circuitgraph.nodes[out_node][\"type\"]==\"output\"):\n",
    "          if(out_node not in self.out):\n",
    "            self.out.append(out_node)\n",
    "      elif(out_node in self.nodes):\n",
    "        return\n",
    "      \n",
    "      pred=obj.circuitgraph.predecessors(out_node)\n",
    "      self.depth+=1\n",
    "      for i in pred:\n",
    "        if(obj.circuitgraph.nodes[i][\"type\"]==\"gate\"): \n",
    "          self.nodes[out_node]=Node(out_node,list(obj.circuitgraph.predecessors(i)),utils.det_logic(obj.circuitgraph.nodes[i][\"logic\"],obj.gates))\n",
    "          # print(\"THERE \",i,out_node,list(obj.circuitgraph.predecessors(out_node)))\n",
    "        # else:\n",
    "        #   print(\"THERE \",i,out_node,list(obj.circuitgraph.predecessors(out_node)))\n",
    "        \n",
    "        # if(\"G180gat\" in out_node):\n",
    "            \n",
    "        traverse_graph_r(obj,i) \n",
    "    \n",
    "    \n",
    "    \n",
    "    self.common_outputs.sort(key=lambda s: int(''.join(filter(str.isdigit,s)) or 0))\n",
    "    for i in self.common_outputs:\n",
    "      print(i)\n",
    "      pred1=list(self.unlocked.circuitgraph.predecessors(i))\n",
    "      pred2=list(self.locked.circuitgraph.predecessors(i))\n",
    "      if not pred2 or pred1:\n",
    "        print(pred2,pred1)\n",
    "        continue\n",
    "\n",
    "      self.primary_inp=[]\n",
    "      self.keyinputs=[]\n",
    "      self.out=[]\n",
    "      self.nodes={}\n",
    "      self.depth=0\n",
    "      traverse_graph_r(self.unlocked,i)\n",
    "      if(i not in self.out):\n",
    "        self.out.append(i)\n",
    "      self.out.sort(key=lambda s: int(''.join(filter(str.isdigit,s)) or 0))\n",
    "      oracle_ckt=cone_ckt(self.out,self.primary_inp,self.keyinputs,self.nodes,self.depth)\n",
    "      \n",
    "\n",
    "      # print(i,out,len(keyinputs),len(primary_inp),len(nodes),self.depth)\n",
    "\n",
    "      self.primary_inp=[]\n",
    "      self.keyinputs=[]\n",
    "      self.out=[]\n",
    "      self.nodes={}\n",
    "      self.depth=0\n",
    "      traverse_graph_r(self.locked,i)\n",
    "      if(i not in self.out):\n",
    "        self.out.append(i)\n",
    "      self.out.sort(key=lambda s: int(''.join(filter(str.isdigit,s)) or 0))\n",
    "      locked_ckt=cone_ckt(self.out,self.primary_inp,self.keyinputs,self.nodes,self.depth)\n",
    "      # print('po2' in nodes,'po1' in nodes,'po0' in nodes)\n",
    "      # print(i,out,len(keyinputs),len(primary_inp),len(nodes),self.depth,\"\\n\")\n",
    "\n",
    "      # try:\n",
    "      # print(nodes)\n",
    "      self.attack_outputs[i]=SATobj(oracle_ckt,locked_ckt)\n",
    "      \n",
    "      if(oracle_ckt.outputs==locked_ckt.outputs and locked_ckt.outputs==self.common_outputs):\n",
    "        break\n",
    "      # except KeyError as err:\n",
    "      #   print(err)\n",
    "\n",
    "\n",
    " \n",
    "\n",
    "    \n",
    "\n",
    "  \n",
    "  # def update_ckts(self):\n",
    "  #   self.oracle_ckt=circuit.Circuit.from_nodes(self.nodes_org, self.attack_outputs)\n",
    "  #   self.locked_ckt=(self.nodes_lock, self.attack_outputs)"
   ]
  },
  {
   "cell_type": "code",
   "execution_count": null,
   "metadata": {},
   "outputs": [],
   "source": [
    "analyze=Analyze_Netlist(locked.top_module,unlocked.top_module)"
   ]
  },
  {
   "cell_type": "code",
   "execution_count": null,
   "metadata": {},
   "outputs": [],
   "source": [
    "for i,j in zip(locked.top_module.io['outputs'],unlocked.top_module.io['outputs']):\n",
    "    print(i,j)\n",
    "    pred1=list(unlocked.top_module.circuitgraph.predecessors(j))\n",
    "    pred2=list(locked.top_module.circuitgraph.predecessors(i))\n",
    "    print(pred1,pred2)"
   ]
  },
  {
   "cell_type": "code",
   "execution_count": 42,
   "metadata": {},
   "outputs": [
    {
     "data": {
      "text/plain": [
       "{}"
      ]
     },
     "execution_count": 42,
     "metadata": {},
     "output_type": "execute_result"
    }
   ],
   "source": [
    "analyze.attack_outputs"
   ]
  },
  {
   "cell_type": "code",
   "execution_count": 66,
   "metadata": {},
   "outputs": [
    {
     "name": "stdout",
     "output_type": "stream",
     "text": [
      "START SAT ATTACK\n",
      "(['keyinput1', 'keyinput0'], '10')\n",
      "2\n",
      "START SAT ATTACK\n",
      "(['keyinput5', 'keyinput4', 'keyinput3', 'keyinput2', 'keyinput1', 'keyinput0'], '010110')\n",
      "22\n",
      "START SAT ATTACK\n",
      "(['keyinput6', 'keyinput5', 'keyinput4', 'keyinput3', 'keyinput2', 'keyinput1', 'keyinput0'], '0010110')\n",
      "7\n",
      "START SAT ATTACK\n",
      "(['keyinput7', 'keyinput6', 'keyinput5', 'keyinput4', 'keyinput3', 'keyinput2', 'keyinput1', 'keyinput0'], '00010110')\n",
      "12\n",
      "START SAT ATTACK\n",
      "(['keyinput7', 'keyinput6', 'keyinput5', 'keyinput4', 'keyinput3', 'keyinput2', 'keyinput1', 'keyinput0'], '00010110')\n",
      "6\n",
      "START SAT ATTACK\n",
      "(['keyinput7', 'keyinput6', 'keyinput5', 'keyinput4', 'keyinput3', 'keyinput2', 'keyinput1', 'keyinput0'], '00010110')\n",
      "10\n",
      "START SAT ATTACK\n",
      "(['keyinput7', 'keyinput6', 'keyinput5', 'keyinput4', 'keyinput3', 'keyinput2', 'keyinput1', 'keyinput0'], '00010110')\n",
      "9\n"
     ]
    }
   ],
   "source": [
    "for ii in analyze.attack_outputs:\n",
    "  print(\"START SAT ATTACK\")\n",
    "  satobj=analyze.attack_outputs[ii]\n",
    "  satattackobj=satattack.SatAttack(file_type=\"obj\",satobj=satobj)\n",
    "  # satobj=satattack.SatAttack(file_type=\"b\",locked_filename=locked_filename, unlocked_filename=unlocked_filename)\n",
    "  print(satattackobj.run())\n",
    "  print(satattackobj.iterations)\n",
    "  # break"
   ]
  },
  {
   "cell_type": "code",
   "execution_count": 26,
   "metadata": {},
   "outputs": [
    {
     "data": {
      "text/plain": [
       "({'po2': {'bits': 1}, 'po1$enc': {'bits': 1}, 'po0': {'bits': 1}},\n",
       " {'po2': {'bits': 1}, 'po1': {'bits': 1}, 'po0': {'bits': 1}})"
      ]
     },
     "execution_count": 26,
     "metadata": {},
     "output_type": "execute_result"
    }
   ],
   "source": [
    "locked.top_module.io[\"outputs\"],unlocked.top_module.io[\"outputs\"]"
   ]
  },
  {
   "cell_type": "code",
   "execution_count": null,
   "metadata": {},
   "outputs": [],
   "source": []
  },
  {
   "cell_type": "code",
   "execution_count": null,
   "metadata": {},
   "outputs": [],
   "source": [
    "satattackobj."
   ]
  },
  {
   "cell_type": "code",
   "execution_count": null,
   "metadata": {},
   "outputs": [],
   "source": []
  },
  {
   "cell_type": "code",
   "execution_count": null,
   "metadata": {},
   "outputs": [],
   "source": [
    "satattackobj._key_string(satattackobj.key)"
   ]
  },
  {
   "cell_type": "code",
   "execution_count": null,
   "metadata": {},
   "outputs": [],
   "source": [
    "satattackobj.key"
   ]
  },
  {
   "cell_type": "code",
   "execution_count": null,
   "metadata": {},
   "outputs": [],
   "source": []
  },
  {
   "cell_type": "code",
   "execution_count": null,
   "metadata": {},
   "outputs": [],
   "source": [
    "# import pickle\n",
    "# pickle.dump(std1, file)"
   ]
  },
  {
   "cell_type": "code",
   "execution_count": null,
   "metadata": {},
   "outputs": [],
   "source": [
    "top=\"fsm_0_obf\"\n",
    "pathin=\"input_files/ASSURE_LOCKED/design1/design1_netlist.v\"\n",
    "\n",
    "# top=\"fsm\"\n",
    "# pathin=\"input_files/ASSURE_LOCKED/design1/oracle1_netlist.v\"\n",
    "\n",
    "# utils.clean_dir(\"./tmp\")\n",
    "\n",
    "# obj=AST(file_path=pathin,rw=\"w\",flag=\"v\",top=top,filename=f\"{top}org\",vlibpath=\"input_files/ASSURE_LOCKED/modulefiles.v\",synth=False)#Run to Read in Verilog Design\n",
    "\n",
    "locked = AST(file_path=f\"./output_files/{top}org.json\",rw='r',filename=f\"{top}locked_test\") #Run to read in AST Format"
   ]
  },
  {
   "cell_type": "code",
   "execution_count": null,
   "metadata": {},
   "outputs": [],
   "source": []
  },
  {
   "cell_type": "code",
   "execution_count": null,
   "metadata": {},
   "outputs": [],
   "source": []
  },
  {
   "cell_type": "code",
   "execution_count": null,
   "metadata": {},
   "outputs": [],
   "source": [
    "# gate_mapping_vlib,gates_vlib,FF_vlib=locked.gate_mapping_vlib,locked.gates_vlib,locked.FF_vlib"
   ]
  },
  {
   "cell_type": "code",
   "execution_count": null,
   "metadata": {},
   "outputs": [],
   "source": [
    "# locked.top_module.gates.keys(),locked.top_module.FF_tech.keys()"
   ]
  },
  {
   "cell_type": "code",
   "execution_count": null,
   "metadata": {},
   "outputs": [],
   "source": [
    "# tech_map={i:i for i in list(locked.top_module.gates,locked.top_module.FF_tech)}"
   ]
  },
  {
   "cell_type": "code",
   "execution_count": null,
   "metadata": {},
   "outputs": [],
   "source": [
    "# for gate, gate_list in gate_mapping_vlib.items():\n",
    "#   print(gate, gate_list)"
   ]
  },
  {
   "cell_type": "code",
   "execution_count": null,
   "metadata": {},
   "outputs": [],
   "source": []
  },
  {
   "cell_type": "code",
   "execution_count": 73,
   "metadata": {},
   "outputs": [
    {
     "name": "stdout",
     "output_type": "stream",
     "text": [
      "extract_modules_def took 0.0022084712982177734 seconds to complete its execution.\n"
     ]
    }
   ],
   "source": [
    "# path=\"/mnt/d/alis_files/LAPTOP/alis_files/university_files/PROJECTS_2022-2023/FYP/linux/65GP_STDCELL_verilog/tcbn65gplus.v\"\n",
    "# path= \"vlib/mycells.v\"\n",
    "# path=\"input_files/warm-up_obfuscation/internal_lib.v\"\n",
    "path=\"/home/alira/FYP_FINAL/input_files/ASSURE_LOCKED/modulefiles.v\"\n",
    "# path=\"/mnt/d/alis_files/LAPTOP/alis_files/university_files/PROJECTS_2022-2023/FYP/linux/gnnre/Netlist_to_graph/Circuits_datasets/Interconnected-Modules/Train_add_mul_sub_64_bit_Syn_65nm.v\"\n",
    "with open(path,\"r\") as f:\n",
    "  module_txt=f.read()\n",
    "gate_mapping_vlib2,gates_vlib2,FF_vlib2=verilog_parser.extract_modules_def(module_txt)"
   ]
  },
  {
   "cell_type": "code",
   "execution_count": null,
   "metadata": {},
   "outputs": [],
   "source": [
    "gate_mapping_vlib,gates_vlib,FF_vlib=locked.gate_mapping_vlib,locked.gates_vlib,locked.FF_vlib"
   ]
  },
  {
   "cell_type": "code",
   "execution_count": 13,
   "metadata": {},
   "outputs": [],
   "source": [
    "tech_map=gen_tech_map(gate_mapping_vlib,FF_vlib,gates_vlib,gate_mapping_vlib2,FF_vlib2,gates_vlib2)"
   ]
  },
  {
   "cell_type": "code",
   "execution_count": null,
   "metadata": {},
   "outputs": [],
   "source": [
    "txt=gates_to_txt_techmap(locked.top_module.gates,gates_vlib2,tech_map)\n",
    "txt+=FF_to_txt_techmap(locked.top_module.FF_tech,FF_vlib2,tech_map)"
   ]
  },
  {
   "cell_type": "code",
   "execution_count": 22,
   "metadata": {},
   "outputs": [],
   "source": [
    "with open(\"tmp.v\",\"w\") as f:\n",
    "    f.write(txt)"
   ]
  },
  {
   "cell_type": "code",
   "execution_count": null,
   "metadata": {},
   "outputs": [],
   "source": []
  },
  {
   "cell_type": "code",
   "execution_count": null,
   "metadata": {},
   "outputs": [],
   "source": []
  },
  {
   "cell_type": "code",
   "execution_count": null,
   "metadata": {},
   "outputs": [],
   "source": []
  },
  {
   "cell_type": "code",
   "execution_count": null,
   "metadata": {},
   "outputs": [],
   "source": [
    "# path_dir=r\"/mnt/d/alis_files/LAPTOP/alis_files/university_files/GDRIVE/Hardware security FYP/gnnre/Netlist_to_graph/Circuits_datasets/Interconnected-Modules\"\n",
    "# paths=[os.path.join(path_dir,i) for i in os.listdir(path_dir) if(i[:5]==\"Train\")]\n",
    "\n",
    "# import re\n",
    "# def analyze_init(paths):\n",
    "#   items={}\n",
    "#   for path in paths:\n",
    "#     with open(path,\"r\") as f:\n",
    "#       module_txt=f.read()\n",
    "    \n",
    "#     for i in re.findall(r\"(\\w+) (\\w+) \\((.*)\\);\",module_txt)[1:]:\n",
    "#       tmpi=re.findall(r'\\.(\\S+)\\( ?[^\\(\\),]+\\)',i[2])\n",
    "#       port=\"(\"\n",
    "#       for k in tmpi[:-1]:\n",
    "#         port+=f\".{k}({{{k}}}), \"\n",
    "#       port+=f\".{tmpi[-1]}({{{tmpi[-1]}}})\"+\");\"\n",
    "#       if(i[0] not in items):\n",
    "#         items[i[0]]=[port]\n",
    "#       elif(items[i[0]]!=[port]):\n",
    "#         raise Exception(\"Items have mismatching initiation\")\n",
    "#   return items"
   ]
  },
  {
   "cell_type": "code",
   "execution_count": null,
   "metadata": {},
   "outputs": [],
   "source": [
    "# items=analyze_init(paths)"
   ]
  },
  {
   "cell_type": "code",
   "execution_count": null,
   "metadata": {},
   "outputs": [],
   "source": []
  },
  {
   "cell_type": "code",
   "execution_count": null,
   "metadata": {},
   "outputs": [],
   "source": [
    "\n",
    "# with open(\"input_files/ASSURE_LOCKED/modulefiles.v\",\"r\") as f:\n",
    "#   module_txt=f.read()\n",
    "\n",
    "\n",
    "# with open(\"tmp/tmpmod.v\",\"w\") as f:\n",
    "#   f.write(module_txt)\n",
    "\n",
    "\n",
    "# # with open(\"tmp.v\",\"w\") as f:\n",
    "# #   f.write(t)\n",
    "\n",
    "# gate_mapping,gates,FF=verilog_parser.extract_modules_def(module_txt)\n",
    "\n",
    "# path=\"input_files/ASSURE_LOCKED/design4/design4_netlist.v\"\n",
    "# # \"input_files/test.v\"\n",
    "# # \"input_files/ASSURE_LOCKED/design4/design4_netlist.v\"\n",
    "\n",
    "\n",
    "\n",
    "\n",
    "# # # verilog=tmp1()\n",
    "# # verilog=tmp2()\n",
    "# # with open(\"tmp/tmp.v\",\"w\") as f:\n",
    "# #   f.write(verilog)\n",
    "# # # print(verilog)\n",
    "\n",
    "# # print(\"HERE\")\n"
   ]
  },
  {
   "cell_type": "code",
   "execution_count": null,
   "metadata": {},
   "outputs": [],
   "source": [
    "# gate_tech,sub_module,(FF_tech,Clock_pins,Reset_pins)=verilog_parser.gates_module_extraction(verilog,gate_mapping,gates,FF)"
   ]
  },
  {
   "cell_type": "code",
   "execution_count": null,
   "metadata": {},
   "outputs": [],
   "source": []
  },
  {
   "cell_type": "code",
   "execution_count": null,
   "metadata": {},
   "outputs": [],
   "source": []
  },
  {
   "cell_type": "code",
   "execution_count": null,
   "metadata": {},
   "outputs": [],
   "source": []
  },
  {
   "cell_type": "code",
   "execution_count": null,
   "metadata": {},
   "outputs": [],
   "source": []
  },
  {
   "cell_type": "code",
   "execution_count": null,
   "metadata": {},
   "outputs": [],
   "source": [
    "# json_files=[\"./output_files/\"+i for i in os.listdir(\"./output_files/\") if os.path.isfile(\"./output_files/\"+i)]\n",
    "# orgfile_names=[i.split(\".bench\")[0] for i in os.listdir(\"input_files/benchmark_bench/original\")]\n",
    "# json_files.sort()\n",
    "\n",
    "# return_top =lambda i:re.findall(r'(module\\s+(\\w+)\\s*\\(.*?\\)\\s*;.*?endmodule)', utils.format_verilog_org(open(i).read()), re.DOTALL)[0][1]\n",
    "\n",
    "# orgfile_names=[[return_top(f\"input_files/ASSURE_LOCKED/{i}/{k}\") for k in os.listdir(\"input_files/ASSURE_LOCKED/\"+i) if(\"oracle\" in k and \".v\" in k)][0] for i in os.listdir(\"input_files/ASSURE_LOCKED\") if(\"design\" in i)]\n",
    "\n",
    "# for i in json_files:\n",
    "#   for j in orgfile_names:\n",
    "#     if(j in i.split(\"/\")[-1].split(\"org\")[0]):\n",
    "#       print(i,\"output_files/ASSURE_VERILOG/\"+i.split(\"/\")[-1])\n",
    "#       shutil.move(i,\"output_files/ASSURE_VERILOG/\"+i.split(\"/\")[-1])"
   ]
  },
  {
   "cell_type": "code",
   "execution_count": 10,
   "metadata": {},
   "outputs": [],
   "source": [
    "# files=[([f\"input_files/ASSURE_LOCKED/{i}/{k}\" for k in os.listdir(\"input_files/ASSURE_LOCKED/\"+i) if(\".v\" in k and \"design\" in k)][0],[f\"input_files/ASSURE_LOCKED/{i}/{j}\" for j in os.listdir(\"input_files/ASSURE_LOCKED/\"+i) if(\".v\" in j and \"oracle\" in j)][0]) for i in os.listdir(\"input_files/ASSURE_LOCKED\") if(\"design\" in i)]\n",
    "# files.sort()"
   ]
  },
  {
   "cell_type": "code",
   "execution_count": null,
   "metadata": {},
   "outputs": [],
   "source": [
    "# import re\n",
    "# import os\n",
    "# files=[([f\"input_files/ASSURE_LOCKED/{i}/{k}\" for k in os.listdir(\"input_files/ASSURE_LOCKED/\"+i) if(\".v\" in k and \"design\" in k)][0],[f\"input_files/ASSURE_LOCKED/{i}/{j}\" for j in os.listdir(\"input_files/ASSURE_LOCKED/\"+i) if(\".v\" in j and \"oracle\" in j)][0]) for i in os.listdir(\"input_files/ASSURE_LOCKED\") if(\"design\" in i)]\n",
    "# files.sort()\n",
    "# notdone=[]\n",
    "# for i in files[1:]:\n",
    "#   design=i[0]\n",
    "#   oracle=i[1]\n",
    "\n",
    "#   tmp=open(design).read()\n",
    "#   top_design = re.findall(r'(module\\s+(\\w+)\\s*\\(.*?\\)\\s*;.*?endmodule)', utils.format_verilog_org(tmp), re.DOTALL)[0][1]\n",
    "#   tmp=open(oracle).read()\n",
    "#   top_oracle = re.findall(r'(module\\s+(\\w+)\\s*\\(.*?\\)\\s*;.*?endmodule)', utils.format_verilog_org(tmp), re.DOTALL)[0][1]\n",
    "#   # try:\n",
    "#   #   print(\"DONE \",top_oracle)\n",
    "#   obj=AST(file_path=oracle,rw=\"w\",flag=\"v\",top=top_oracle,filename=f\"{top_oracle}org\",vlibpath=\"input_files/ASSURE_LOCKED/modulefiles.v\",synth=False)#Run to Read in Verilog Design\n",
    "#   # except:\n",
    "#   #   print(\"FAILED \",top_oracle)\n",
    "#   #   notdone.append(oracle)\n",
    "#   # try:\n",
    "#   print(\"DONE \",top_design)\n",
    "#   obj=AST(file_path=design,rw=\"w\",flag=\"v\",top=top_design,filename=f\"{top_design}org\",vlibpath=\"input_files/ASSURE_LOCKED/modulefiles.v\",synth=False,locked=True)#Run to Read in Verilog Design\n",
    "#   # except:\n",
    "#   #   print(\"FAILED \",top_design)\n",
    "#   #   notdone.append(design)\n",
    "#   break"
   ]
  },
  {
   "cell_type": "code",
   "execution_count": null,
   "metadata": {},
   "outputs": [],
   "source": []
  },
  {
   "cell_type": "code",
   "execution_count": null,
   "metadata": {},
   "outputs": [],
   "source": [
    "# notdone=[]\n",
    "# for i in os.listdir(\"input_files/benchmark_bench/original\"):\n",
    "#   top=i.split(\".bench\")[0]\n",
    "#   unlocked_filename=os.path.join(\"input_files/benchmark_bench/original\",i)\n",
    "#   try:\n",
    "#     obj=AST(file_path=unlocked_filename,rw=\"w\",flag=\"b\",top=top,filename=f\"{top}org\",vlibpath=\"input_files/ASSURE_LOCKED/modulefiles.v\",synth=False)#Run to Read in Verilog Design\n",
    "#   except:\n",
    "#     notdone.append(unlocked_filename)\n",
    "#   for j in os.listdir(\"input_files/benchmark_bench/rnd\"):\n",
    "#     if(i.split(\".bench\")[0] in j):\n",
    "#       top=j.split(\".bench\")[0]\n",
    "#       locked_filename=os.path.join(\"input_files/benchmark_bench/rnd\",j)\n",
    "#       print(j.split(\".bench\")[0],locked_filename)\n",
    "#       try:\n",
    "#         obj=AST(file_path=locked_filename,rw=\"w\",flag=\"b\",top=top,filename=f\"{top}org\",vlibpath=\"input_files/ASSURE_LOCKED/modulefiles.v\",synth=False,locked=True)#Run to Read in Verilog Design\n",
    "#       except:\n",
    "#         notdone.append(locked_filename)"
   ]
  }
 ],
 "metadata": {
  "kernelspec": {
   "display_name": "Python 3",
   "language": "python",
   "name": "python3"
  },
  "language_info": {
   "codemirror_mode": {
    "name": "ipython",
    "version": 3
   },
   "file_extension": ".py",
   "mimetype": "text/x-python",
   "name": "python",
   "nbconvert_exporter": "python",
   "pygments_lexer": "ipython3",
   "version": "3.8.10"
  },
  "orig_nbformat": 4
 },
 "nbformat": 4,
 "nbformat_minor": 2
}
