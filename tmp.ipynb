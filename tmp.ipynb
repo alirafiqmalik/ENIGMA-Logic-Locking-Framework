{
 "cells": [
  {
   "cell_type": "code",
   "execution_count": 1,
   "metadata": {},
   "outputs": [
    {
     "name": "stdout",
     "output_type": "stream",
     "text": [
      "extract_modules_def took 0.0032684803009033203 seconds to complete its execution.\n",
      "Reading LL file\n",
      "\t Loading json file\n",
      "\t Done Loading json file\n",
      "\t Loading Top module in AST\n",
      "\t Done Loading Top module tate_pairing_0_obf in AST\n",
      "\t Loading module data in AST\n",
      "\t\t Loading module tate_pairing_0_obf in AST\n",
      "\t\t Done Loading module tate_pairing_0_obf in AST\n",
      "\t Done Loading module data in AST\n",
      "\t Loading gate level data in AST\n",
      "\t Done Loading gate level data in AST\n",
      "Done Reading LL file\n"
     ]
    }
   ],
   "source": [
    "\n",
    "from src.Locking.LL import LogicLocking\n",
    "import src.utils as utils\n",
    "from src.Netlist.AST import AST\n",
    "\n",
    "# \"/home/alira/FYP_FINAL/input_files/ASSURE_LOCKED/design4/design4_netlist.v\"\n",
    "\n",
    "top=\"tate_pairing_0_obf\"\n",
    "\n",
    "locked = AST(file_path=f\"./output_files/ASSURE_VERILOG/{top}org.json\",rw='r',filename=f\"{top}locked_test\") #Run to read in AST Format"
   ]
  },
  {
   "cell_type": "code",
   "execution_count": 2,
   "metadata": {},
   "outputs": [],
   "source": [
    "locked.top_module.save_graph()"
   ]
  },
  {
   "cell_type": "code",
   "execution_count": null,
   "metadata": {},
   "outputs": [],
   "source": []
  },
  {
   "cell_type": "code",
   "execution_count": 19,
   "metadata": {},
   "outputs": [],
   "source": [
    "import os\n",
    "import re\n",
    "import shutil\n",
    "import src.utils as utils\n",
    "import src.Parser.verilog_parser as verilog_parser\n",
    "import src.Parser.bench_parser as bench_parser\n",
    "import src.Parser.conv as conv\n",
    "from src.Netlist.AST import AST,module\n",
    "import src.Attacks.SATAttack.SATAttack as satattack\n",
    "import src.Attacks.SATAttack.benchmarks_custom as benchmarks\n",
    "import src.Netlist.netlist as netlist"
   ]
  },
  {
   "cell_type": "code",
   "execution_count": 20,
   "metadata": {},
   "outputs": [
    {
     "name": "stdout",
     "output_type": "stream",
     "text": [
      "extract_modules_def took 0.0003352165222167969 seconds to complete its execution.\n",
      "Reading LL file\n",
      "\t Loading json file\n",
      "\t Done Loading json file\n",
      "\t Loading Top module in AST\n",
      "\t Done Loading Top module usb_phy_0_obf in AST\n",
      "\t Loading module data in AST\n",
      "\t\t Loading module usb_phy_0_obf in AST\n",
      "\t\t Done Loading module usb_phy_0_obf in AST\n",
      "\t Done Loading module data in AST\n",
      "\t Loading gate level data in AST\n",
      "\t Done Loading gate level data in AST\n",
      "Done Reading LL file\n",
      "extract_modules_def took 0.0002808570861816406 seconds to complete its execution.\n",
      "Reading LL file\n",
      "\t Loading json file\n",
      "\t Done Loading json file\n",
      "\t Loading Top module in AST\n",
      "\t Done Loading Top module usb_phy in AST\n",
      "\t Loading module data in AST\n",
      "\t\t Loading module usb_phy in AST\n",
      "\t\t Done Loading module usb_phy in AST\n",
      "\t Done Loading module data in AST\n",
      "\t Loading gate level data in AST\n",
      "\t Done Loading gate level data in AST\n",
      "Done Reading LL file\n"
     ]
    }
   ],
   "source": [
    "# locked_filename=\"input_files/benchmark_bench/rnd/apex2_enc05.bench\"\n",
    "# unlocked_filename=\"input_files/benchmark_bench/original/apex2.bench\"\n",
    "# ASSURE_BENCH\n",
    "# top=\"apex2_enc05\"\n",
    "# top=\"apex2\"\n",
    "\n",
    "circuit_name=\"usb_phy\"\n",
    "\n",
    "top=circuit_name+\"_0_obf\"\n",
    "locked = AST(file_path=f\"output_files/ASSURE_BENCH/{top}org.json\",rw='r',filename=f\"{top}locked_test\") #Run to read in AST Format\n",
    "top=circuit_name\n",
    "unlocked = AST(file_path=f\"output_files/ASSURE_BENCH/{top}org.json\",rw='r',filename=f\"{top}locked_test\") #Run to read in AST Format\n",
    "\n"
   ]
  },
  {
   "cell_type": "code",
   "execution_count": 21,
   "metadata": {},
   "outputs": [],
   "source": [
    "import networkx as nx\n",
    "\n",
    "tmpgraph=nx.DiGraph()\n",
    "for init,val in locked.top_module.FF_tech['DFFQ_X1'].copy().items():\n",
    "  locked.top_module.FF_tech['DFFQ_X1'].pop(init)\n",
    "  Q=val[\"outputs\"]\n",
    "  D=val[\"inputs\"]\n",
    "\n",
    "  tmpgraph.add_node(init,type=\"init\")\n",
    "  tmpgraph.add_node(Q,type=\"Q\")\n",
    "\n",
    "  \n",
    "  tmpgraph.add_node(D,type=\"D\")\n",
    "\n",
    "  tmpgraph.add_edge(D, init)\n",
    "  tmpgraph.add_edge(init, Q)"
   ]
  },
  {
   "cell_type": "code",
   "execution_count": 22,
   "metadata": {},
   "outputs": [],
   "source": [
    "tmpnodes=[node for node, in_degree in tmpgraph.in_degree() if in_degree == 0]"
   ]
  },
  {
   "cell_type": "code",
   "execution_count": 23,
   "metadata": {},
   "outputs": [
    {
     "name": "stdout",
     "output_type": "stream",
     "text": [
      "HERE1  rxdn\n",
      "HERE3  rxdn LineState_o_1_\n",
      "HERE3  i_rx_phy_rxdp_s0 LineState_o_0_\n",
      "HERE1  rxd\n",
      "HERE3  N24 usb_rst\n",
      "HERE3  n2144 RxValid_o\n",
      "HERE3  n1017 txdp\n",
      "HERE3  n1016 txdn\n",
      "HERE3  i_tx_phy_N49 TxReady_o\n",
      "HERE3  n1039 DataIn_o_6_\n",
      "HERE3  n1038 DataIn_o_5_\n",
      "HERE3  n1037 DataIn_o_4_\n",
      "HERE3  n1036 DataIn_o_3_\n",
      "HERE3  n1035 DataIn_o_2_\n",
      "HERE3  n1034 DataIn_o_1_\n",
      "HERE3  n1033 DataIn_o_0_\n",
      "HERE3  n1040 DataIn_o_7_\n"
     ]
    }
   ],
   "source": [
    "for driver in tmpnodes:\n",
    "  # print(tmpgraph.nodes[i][\"type\"])\n",
    "  assigned=[]\n",
    "  curr=driver\n",
    "  while(1):\n",
    "    succ=list(tmpgraph.successors(curr))\n",
    "    if(succ==[]):\n",
    "      break\n",
    "    else:\n",
    "      if(tmpgraph.nodes[curr][\"type\"]==\"init\"):\n",
    "        assigned.append(succ[0])\n",
    "      curr=succ[0]\n",
    "\n",
    "  if(driver in unlocked.top_module.io[\"inputs\"]):\n",
    "    print(\"HERE1 \",driver)\n",
    "  \n",
    "  if(driver in unlocked.top_module.io[\"outputs\"]):\n",
    "    print(\"HERE2 \",driver)\n",
    "  \n",
    "  if(assigned[-1] in unlocked.top_module.io[\"outputs\"]):\n",
    "    print(\"HERE3 \",driver,assigned[-1])\n",
    "  \n",
    "  # for k in assigned:\n",
    "  #   print({'inputs': [driver], 'outputs': k})\n",
    "  # print()\n",
    "  # break"
   ]
  },
  {
   "cell_type": "code",
   "execution_count": 24,
   "metadata": {},
   "outputs": [
    {
     "data": {
      "text/plain": [
       "('n1013', ['i_tx_phy_state_1'])"
      ]
     },
     "execution_count": 24,
     "metadata": {},
     "output_type": "execute_result"
    }
   ],
   "source": [
    "driver,assigned"
   ]
  },
  {
   "cell_type": "code",
   "execution_count": null,
   "metadata": {},
   "outputs": [],
   "source": []
  },
  {
   "cell_type": "code",
   "execution_count": 25,
   "metadata": {},
   "outputs": [
    {
     "data": {
      "text/plain": [
       "'BUF_X12'"
      ]
     },
     "execution_count": 25,
     "metadata": {},
     "output_type": "execute_result"
    }
   ],
   "source": [
    "import random\n",
    "key = random.choice(list(unlocked.top_module.gates[\"BUF\"].keys()))\n",
    "key"
   ]
  },
  {
   "cell_type": "code",
   "execution_count": 26,
   "metadata": {},
   "outputs": [],
   "source": [
    "# unlocked.top_module.gates[\"BUF\"][key][init]={'inputs': [D], 'outputs': Q}"
   ]
  },
  {
   "cell_type": "code",
   "execution_count": null,
   "metadata": {},
   "outputs": [],
   "source": []
  },
  {
   "cell_type": "code",
   "execution_count": 27,
   "metadata": {},
   "outputs": [
    {
     "name": "stdout",
     "output_type": "stream",
     "text": [
      "LineState_o_1_                 rxdn                          \n",
      "i_rx_phy_rxdn_s                i_rx_phy_N128                 \n",
      "LineState_o_0_                 i_rx_phy_rxdp_s0              \n",
      "i_rx_phy_rxdp_s                i_rx_phy_N116                 \n",
      "i_rx_phy_rxd_s1                rxd                           \n",
      "i_rx_phy_rxd_s                 n1051                         \n",
      "i_rx_phy_rxd_r                 n2508                         \n",
      "i_rx_phy_rx_en                 N24                           \n",
      "fs_ce                          n1011                         \n",
      "usb_rst                        n1027                         \n",
      "i_tx_phy_tx_ip_sync            n1001                         \n",
      "i_tx_phy_txoe_r1               i_tx_phy_N143                 \n",
      "i_tx_phy_one_cnt_1             n1023                         \n",
      "i_tx_phy_sft_done_r            n1014                         \n",
      "i_tx_phy_data_done             n1015                         \n",
      "i_tx_phy_state_0               n1020                         \n",
      "i_tx_phy_state_2               n1019                         \n",
      "i_tx_phy_append_eop_sync2      n1018                         \n",
      "i_tx_phy_append_eop_sync3      i_rx_phy_N180                 \n",
      "i_tx_phy_append_eop_sync4      n2455                         \n",
      "i_tx_phy_hold_reg_d_0          n2454                         \n",
      "i_tx_phy_hold_reg_d_7          i_rx_phy_N89                  \n",
      "i_tx_phy_hold_reg_d_6          n1044                         \n",
      "i_tx_phy_hold_reg_d_5          n1042                         \n",
      "i_tx_phy_hold_reg_d_4          n1043                         \n",
      "i_tx_phy_hold_reg_d_3          n1041                         \n",
      "i_tx_phy_hold_reg_d_2          n1028                         \n",
      "i_tx_phy_hold_reg_d_1          n994                          \n",
      "i_rx_phy_fs_state_2            n993                          \n",
      "i_rx_phy_fs_state_1            i_rx_phy_N108                 \n",
      "i_rx_phy_fs_state_0            i_rx_phy_N120                 \n",
      "i_rx_phy_sync_err              i_rx_phy_fs_ce_d              \n",
      "i_rx_phy_sd_nrzi               n2453                         \n",
      "i_rx_phy_one_cnt_0             n1026                         \n",
      "i_rx_phy_one_cnt_1             n1021                         \n",
      "i_rx_phy_one_cnt_2             n995                          \n",
      "i_rx_phy_rx_valid_r            n2144                         \n",
      "i_rx_phy_se0_s                 n2249                         \n",
      "i_rx_phy_shift_en              n1029                         \n",
      "i_rx_phy_rxdp_s_r              n1017                         \n",
      "i_rx_phy_rxdn_s_r              n1025                         \n",
      "i_rx_phy_se0_r                 n1016                         \n",
      "i_tx_phy_txoe_r2               i_tx_phy_N137                 \n",
      "i_tx_phy_append_eop_sync1      n1024                         \n",
      "i_rx_phy_sd_r                  i_rx_phy_N379                 \n",
      "RxValid_o                      n1052                         \n",
      "i_rx_phy_byte_err              n2458                         \n",
      "i_rx_phy_rx_valid1             n1048                         \n",
      "txdp                           n999                          \n",
      "txdn                           n2457                         \n",
      "i_tx_phy_sd_raw_o              n1046                         \n",
      "i_tx_phy_sd_nrzi_o             n1031                         \n",
      "i_rx_phy_bit_stuff_err         n1045                         \n",
      "i_tx_phy_ld_data               n1049                         \n",
      "i_tx_phy_append_eop            n1047                         \n",
      "rst_cnt_0                      n1032                         \n",
      "i_tx_phy_bit_cnt_0             n1030                         \n",
      "i_tx_phy_tx_ip                 n998                          \n",
      "rst_cnt_3                      n1009                         \n",
      "i_rx_phy_bit_cnt_1             n1008                         \n",
      "rst_cnt_4                      n1007                         \n",
      "rst_cnt_1                      n1006                         \n",
      "rst_cnt_2                      n1005                         \n",
      "i_rx_phy_bit_cnt_0             n1004                         \n",
      "i_rx_phy_bit_cnt_2             n1003                         \n",
      "i_tx_phy_bit_cnt_1             n1010                         \n",
      "i_tx_phy_bit_cnt_2             n997                          \n",
      "i_tx_phy_one_cnt_2             n2456                         \n",
      "TxReady_o                      i_tx_phy_N49                  \n",
      "i_tx_phy_sd_bs_o               n996                          \n",
      "i_rx_phy_dpll_state_1          i_rx_phy_N143                 \n",
      "i_tx_phy_one_cnt_0             n1002                         \n",
      "i_rx_phy_dpll_state_0          i_rx_phy_N142                 \n",
      "DataIn_o_6_                    n1039                         \n",
      "DataIn_o_5_                    n1038                         \n",
      "DataIn_o_4_                    n1037                         \n",
      "DataIn_o_3_                    n1036                         \n",
      "DataIn_o_2_                    n1035                         \n",
      "DataIn_o_1_                    n1034                         \n",
      "DataIn_o_0_                    n1033                         \n",
      "DataIn_o_7_                    n1040                         \n",
      "i_tx_phy_state_1               n1013                         \n"
     ]
    }
   ],
   "source": [
    "for i,j in zip([node for node, out_degree in tmpgraph.out_degree() if out_degree == 0],[node for node, in_degree in tmpgraph.in_degree() if in_degree == 0]):\n",
    "  print(f\"{i:<30} {j:<30}\")"
   ]
  },
  {
   "cell_type": "code",
   "execution_count": 28,
   "metadata": {},
   "outputs": [],
   "source": [
    "utils.save_graph(tmpgraph,svg=True,file_name=\"tmp_tmpgraph\")"
   ]
  },
  {
   "cell_type": "code",
   "execution_count": null,
   "metadata": {},
   "outputs": [],
   "source": []
  },
  {
   "cell_type": "code",
   "execution_count": null,
   "metadata": {},
   "outputs": [],
   "source": []
  },
  {
   "cell_type": "code",
   "execution_count": 32,
   "metadata": {},
   "outputs": [],
   "source": [
    "FF_inits=[]\n",
    "FF_inputs=[]\n",
    "FF_outputs=[]\n",
    "\n",
    "for i,j in locked.top_module.FF_tech['DFFQ_X1'].items():\n",
    "  # print(i,j[\"outputs\"],j[\"inputs\"])\n",
    "  FF_inits.append(i)\n",
    "  FF_inputs.append(j[\"inputs\"])\n",
    "  FF_outputs.append(j[\"outputs\"])\n"
   ]
  },
  {
   "cell_type": "code",
   "execution_count": null,
   "metadata": {},
   "outputs": [],
   "source": []
  },
  {
   "cell_type": "code",
   "execution_count": 30,
   "metadata": {},
   "outputs": [
    {
     "data": {
      "text/plain": [
       "0"
      ]
     },
     "execution_count": 30,
     "metadata": {},
     "output_type": "execute_result"
    }
   ],
   "source": [
    "len(utils.get_common_elements(FF_inputs,FF_outputs))"
   ]
  },
  {
   "cell_type": "code",
   "execution_count": null,
   "metadata": {},
   "outputs": [],
   "source": [
    "common=[]\n",
    "for init,inp,out in zip(FF_inits,FF_inputs,FF_outputs):\n",
    "  if(inp in FF_outputs and inp not in common):\n",
    "    # print(\"INP \",init,inp,out)\n",
    "    common.append(inp)\n",
    "  if(out in FF_inputs and out not in common):\n",
    "    # print(\"OUT \",init,inp,out)\n",
    "    common.append(out)"
   ]
  },
  {
   "cell_type": "code",
   "execution_count": null,
   "metadata": {},
   "outputs": [],
   "source": [
    "common"
   ]
  },
  {
   "cell_type": "code",
   "execution_count": null,
   "metadata": {},
   "outputs": [],
   "source": [
    "for i,j in tmp.copy().items():\n",
    "  \n",
    "  if(j[1] in tmp):\n",
    "    print(i,tmp[i])"
   ]
  },
  {
   "cell_type": "code",
   "execution_count": null,
   "metadata": {},
   "outputs": [],
   "source": []
  },
  {
   "cell_type": "code",
   "execution_count": null,
   "metadata": {},
   "outputs": [],
   "source": []
  },
  {
   "cell_type": "code",
   "execution_count": null,
   "metadata": {},
   "outputs": [],
   "source": [
    "import random\n",
    "def FF_Removal(obj):\n",
    "  tmp={j[\"outputs\"]:(i,j[\"inputs\"]) for i,j in obj.top_module.FF_tech['DFFQ_X1'].items()}\n",
    "  tmpr={i:tmp.pop(i) for i,j in tmp.copy().items() if(j[1] in tmp)}\n",
    "  obj.top_module.FF_tech.pop('DFFQ_X1')\n",
    "\n",
    "  key = random.choice(list(obj.top_module.gates[\"BUF\"].keys()))\n",
    "  for Q,(init,D) in tmp.items():\n",
    "    # Input Latched Flip-Flops\n",
    "    if(D in obj.top_module.io[\"inputs\"]):\n",
    "      # print(\"I\",init)\n",
    "      obj.top_module.gates[\"BUF\"][key][init]={'inputs': [D], 'outputs': Q}\n",
    "    # Output Latched Flip-Flops\n",
    "    elif(Q in obj.top_module.io[\"outputs\"]):\n",
    "      obj.top_module.gates[\"BUF\"][key][init]={'inputs': [D], 'outputs': Q}\n",
    "    # Output Latched Flip-Flops\n",
    "    elif(D in obj.top_module.io[\"outputs\"]):\n",
    "      obj.top_module.gates[\"BUF\"][key][init]={'inputs': [D], 'outputs': Q}\n",
    "    else:\n",
    "      obj.top_module.io[\"inputs\"][Q]=obj.top_module.io[\"wires\"].pop(Q)\n",
    "      obj.top_module.io[\"input_ports\"]+=f\"{Q},\"\n",
    "\n",
    "      obj.top_module.io[\"outputs\"][D]=obj.top_module.io[\"wires\"].pop(D)\n",
    "      obj.top_module.io[\"output_ports\"]+=f\"{D},\"\n",
    "\n",
    "      # print(\"Inter\",D,Q) \n",
    "      # print(init,D,Q)\n",
    "      # print(f\"{D}  {Q}\")\n",
    "  obj.top_module.gen_graph()\n",
    "  return tmpr,tmp"
   ]
  },
  {
   "cell_type": "code",
   "execution_count": null,
   "metadata": {},
   "outputs": [],
   "source": [
    "tmpr,tmp=FF_Removal(locked)\n",
    "# FF_Removal(unlocked)"
   ]
  },
  {
   "cell_type": "code",
   "execution_count": null,
   "metadata": {},
   "outputs": [],
   "source": [
    "for Q,(init,D) in tmpr.items():\n",
    "  # print(f\"{init:<50} {D:<50} {Q}\")\n",
    "  if(D in tmp):\n",
    "    print(f\"{D:<30} {Q:<30} {tmp[D][1]}\")\n",
    "  else:\n",
    "    print(f\"{D:<30} {Q}\")\n",
    "  # for Q2,(init2,D2) in tmpr.items():\n",
    "  #   if(Q==D2):\n",
    "  #     print(Q,Q2)\n",
    "  #   if(D==Q2):\n",
    "  #     print(Q,Q2)\n"
   ]
  },
  {
   "cell_type": "code",
   "execution_count": null,
   "metadata": {},
   "outputs": [],
   "source": []
  },
  {
   "cell_type": "code",
   "execution_count": null,
   "metadata": {},
   "outputs": [],
   "source": [
    "locked.top_module.nodeio(\"i_tx_phy_hold_reg_1\")\n",
    "print()\n",
    "locked.top_module.nodeio(\"DFF_out_i_tx_phy_hold_reg_d_1_\")"
   ]
  },
  {
   "cell_type": "code",
   "execution_count": null,
   "metadata": {},
   "outputs": [],
   "source": [
    "locked.top_module.io[\"Clock_pins\"]"
   ]
  },
  {
   "cell_type": "code",
   "execution_count": null,
   "metadata": {},
   "outputs": [],
   "source": [
    "locked.top_module.gen_graph()"
   ]
  },
  {
   "cell_type": "code",
   "execution_count": null,
   "metadata": {},
   "outputs": [],
   "source": []
  },
  {
   "cell_type": "code",
   "execution_count": null,
   "metadata": {},
   "outputs": [],
   "source": [
    "analyze=netlist.Analyze_Netlist(locked.top_module,unlocked.top_module)"
   ]
  },
  {
   "cell_type": "code",
   "execution_count": null,
   "metadata": {},
   "outputs": [],
   "source": [
    "for i,j in zip(locked.top_module.io['outputs'],unlocked.top_module.io['outputs']):\n",
    "    print(i,j)"
   ]
  },
  {
   "cell_type": "code",
   "execution_count": null,
   "metadata": {},
   "outputs": [],
   "source": [
    "keys={}\n",
    "for ii in analyze.attack_outputs:\n",
    "  print(\"START SAT ATTACK\")\n",
    "  satobj=analyze.attack_outputs[ii]\n",
    "  satattackobj=satattack.SatAttack(file_type=\"obj\",satobj=satobj)\n",
    "  # satobj=satattack.SatAttack(file_type=\"b\",locked_filename=locked_filename, unlocked_filename=unlocked_filename)\n",
    "  print(satattackobj.run())\n",
    "  print(satattackobj.iterations)\n",
    "  keys[ii]=satattackobj.key\n",
    "  # break"
   ]
  },
  {
   "cell_type": "code",
   "execution_count": null,
   "metadata": {},
   "outputs": [],
   "source": [
    "final_key={}\n",
    "for o,k in keys.items():\n",
    "  for i in k:\n",
    "    # print(i)\n",
    "    if(i not in final_key):\n",
    "      final_key[i]=keys[o][i]\n",
    "      # print(i,keys[o][i])\n",
    "    else:\n",
    "      print(i,keys[o][i],final_key[i])"
   ]
  },
  {
   "cell_type": "code",
   "execution_count": null,
   "metadata": {},
   "outputs": [],
   "source": [
    "final_key"
   ]
  },
  {
   "cell_type": "code",
   "execution_count": null,
   "metadata": {},
   "outputs": [],
   "source": [
    "locked.top_module.io[\"outputs\"],unlocked.top_module.io[\"outputs\"]"
   ]
  },
  {
   "cell_type": "code",
   "execution_count": null,
   "metadata": {},
   "outputs": [],
   "source": [
    "satattackobj.key"
   ]
  },
  {
   "cell_type": "code",
   "execution_count": null,
   "metadata": {},
   "outputs": [],
   "source": [
    "satattackobj._key_string(satattackobj.key)"
   ]
  },
  {
   "cell_type": "code",
   "execution_count": null,
   "metadata": {},
   "outputs": [],
   "source": [
    "satattackobj.key"
   ]
  },
  {
   "cell_type": "code",
   "execution_count": null,
   "metadata": {},
   "outputs": [],
   "source": []
  },
  {
   "cell_type": "code",
   "execution_count": null,
   "metadata": {},
   "outputs": [],
   "source": [
    "# AND = 1/4\n",
    "# OR = 3/4\n",
    "# NOT = 1/2\n",
    "# XOR = 1/2\n",
    "# NAND = 3/4\n",
    "# NOR = 1/4\n",
    "# XNOR = 1/2\n",
    "\n",
    "# AND gate:\n",
    "# sAND = 0.5*(s1 + s2) + s1*s2 - 0.25\n",
    "\n",
    "# OR gate:\n",
    "# sOR = 0.5*(s1 + s2) + s1*s2 + 0.25\n",
    "\n",
    "# NOT gate:\n",
    "# sNOT = -s1\n",
    "\n",
    "# XOR gate:\n",
    "# sXOR = 0.5*(s1 + s2) - s1*s2\n",
    "\n",
    "# NAND gate:\n",
    "# sNAND = -0.5*(s1 + s2) - s1*s2 + 0.25\n",
    "\n",
    "# NOR gate:\n",
    "# sNOR = -0.5*(s1 + s2) - s1*s2 - 0.25\n",
    "\n",
    "# XNOR gate:\n",
    "# sXNOR = 0.5*(s1 + s2) + s1*s2"
   ]
  },
  {
   "cell_type": "code",
   "execution_count": null,
   "metadata": {},
   "outputs": [],
   "source": []
  },
  {
   "cell_type": "code",
   "execution_count": null,
   "metadata": {},
   "outputs": [],
   "source": []
  },
  {
   "cell_type": "code",
   "execution_count": null,
   "metadata": {},
   "outputs": [],
   "source": [
    "# import pickle\n",
    "# pickle.dump(std1, file)\n",
    "# with open(\"tmp.v\",\"w\") as f:\n",
    "#     f.write(verilog_init)"
   ]
  },
  {
   "cell_type": "code",
   "execution_count": null,
   "metadata": {},
   "outputs": [],
   "source": []
  },
  {
   "cell_type": "code",
   "execution_count": null,
   "metadata": {},
   "outputs": [],
   "source": [
    "# # path=\"/mnt/d/alis_files/LAPTOP/alis_files/university_files/PROJECTS_2022-2023/FYP/linux/65GP_STDCELL_verilog/tcbn65gplus.v\"\n",
    "# # path= \"vlib/mycells.v\"\n",
    "# # path=\"input_files/warm-up_obfuscation/internal_lib.v\"\n",
    "# path=\"/home/alira/FYP_FINAL/input_files/ASSURE_LOCKED/modulefiles.v\"\n",
    "# # path=\"/mnt/d/alis_files/LAPTOP/alis_files/university_files/PROJECTS_2022-2023/FYP/linux/gnnre/Netlist_to_graph/Circuits_datasets/Interconnected-Modules/Train_add_mul_sub_64_bit_Syn_65nm.v\"\n",
    "# with open(path,\"r\") as f:\n",
    "#   module_txt=f.read()\n",
    "# gate_mapping_vlib,gates_vlib,FF_vlib=verilog_parser.extract_modules_def(module_txt)\n",
    "# vlib_var=gate_mapping_vlib,gates_vlib,FF_vlib\n",
    "# bench=open(\"input_files/ASSURE_LOCKED/design4/design4.bench\").read()"
   ]
  },
  {
   "cell_type": "code",
   "execution_count": null,
   "metadata": {},
   "outputs": [],
   "source": [
    "# gate_mapping_vlib,gates_vlib,FF_vlib=locked.gate_mapping_vlib,locked.gates_vlib,locked.FF_vlib"
   ]
  },
  {
   "cell_type": "code",
   "execution_count": null,
   "metadata": {},
   "outputs": [],
   "source": [
    "# locked.top_module.gates.keys(),locked.top_module.FF_tech.keys()"
   ]
  },
  {
   "cell_type": "code",
   "execution_count": null,
   "metadata": {},
   "outputs": [],
   "source": [
    "# tech_map={i:i for i in list(locked.top_module.gates,locked.top_module.FF_tech)}"
   ]
  },
  {
   "cell_type": "code",
   "execution_count": null,
   "metadata": {},
   "outputs": [],
   "source": [
    "# for gate, gate_list in gate_mapping_vlib.items():\n",
    "#   print(gate, gate_list)"
   ]
  },
  {
   "cell_type": "code",
   "execution_count": null,
   "metadata": {},
   "outputs": [],
   "source": []
  },
  {
   "cell_type": "code",
   "execution_count": null,
   "metadata": {},
   "outputs": [],
   "source": [
    "# path=\"/mnt/d/alis_files/LAPTOP/alis_files/university_files/PROJECTS_2022-2023/FYP/linux/65GP_STDCELL_verilog/tcbn65gplus.v\"\n",
    "# path= \"vlib/mycells.v\"\n",
    "# path=\"input_files/warm-up_obfuscation/internal_lib.v\"\n",
    "path=\"/home/alira/FYP_FINAL/input_files/ASSURE_LOCKED/modulefiles.v\"\n",
    "# path=\"/mnt/d/alis_files/LAPTOP/alis_files/university_files/PROJECTS_2022-2023/FYP/linux/gnnre/Netlist_to_graph/Circuits_datasets/Interconnected-Modules/Train_add_mul_sub_64_bit_Syn_65nm.v\"\n",
    "with open(path,\"r\") as f:\n",
    "  module_txt=f.read()\n",
    "gate_mapping_vlib2,gates_vlib2,FF_vlib2=verilog_parser.extract_modules_def(module_txt)"
   ]
  },
  {
   "cell_type": "code",
   "execution_count": null,
   "metadata": {},
   "outputs": [],
   "source": [
    "gate_mapping_vlib,gates_vlib,FF_vlib=locked.gate_mapping_vlib,locked.gates_vlib,locked.FF_vlib"
   ]
  },
  {
   "cell_type": "code",
   "execution_count": null,
   "metadata": {},
   "outputs": [],
   "source": [
    "tech_map=verilog_parser.gen_tech_map(gate_mapping_vlib,FF_vlib,gates_vlib,gate_mapping_vlib2,FF_vlib2,gates_vlib2)"
   ]
  },
  {
   "cell_type": "code",
   "execution_count": null,
   "metadata": {},
   "outputs": [],
   "source": [
    "txt=verilog_parser.gates_to_txt_techmap(locked.top_module.gates,gates_vlib2,tech_map)\n",
    "txt+=verilog_parser.FF_to_txt_techmap(locked.top_module.FF_tech,FF_vlib2,tech_map)"
   ]
  },
  {
   "cell_type": "code",
   "execution_count": null,
   "metadata": {},
   "outputs": [],
   "source": [
    "with open(\"tmp.v\",\"w\") as f:\n",
    "    f.write(txt)"
   ]
  },
  {
   "cell_type": "code",
   "execution_count": null,
   "metadata": {},
   "outputs": [],
   "source": []
  },
  {
   "cell_type": "code",
   "execution_count": null,
   "metadata": {},
   "outputs": [],
   "source": []
  },
  {
   "cell_type": "code",
   "execution_count": null,
   "metadata": {},
   "outputs": [],
   "source": []
  },
  {
   "cell_type": "code",
   "execution_count": null,
   "metadata": {},
   "outputs": [],
   "source": [
    "# path_dir=r\"/mnt/d/alis_files/LAPTOP/alis_files/university_files/GDRIVE/Hardware security FYP/gnnre/Netlist_to_graph/Circuits_datasets/Interconnected-Modules\"\n",
    "# paths=[os.path.join(path_dir,i) for i in os.listdir(path_dir) if(i[:5]==\"Train\")]\n",
    "\n",
    "# import re\n",
    "# def analyze_init(paths):\n",
    "#   items={}\n",
    "#   for path in paths:\n",
    "#     with open(path,\"r\") as f:\n",
    "#       module_txt=f.read()\n",
    "    \n",
    "#     for i in re.findall(r\"(\\w+) (\\w+) \\((.*)\\);\",module_txt)[1:]:\n",
    "#       tmpi=re.findall(r'\\.(\\S+)\\( ?[^\\(\\),]+\\)',i[2])\n",
    "#       port=\"(\"\n",
    "#       for k in tmpi[:-1]:\n",
    "#         port+=f\".{k}({{{k}}}), \"\n",
    "#       port+=f\".{tmpi[-1]}({{{tmpi[-1]}}})\"+\");\"\n",
    "#       if(i[0] not in items):\n",
    "#         items[i[0]]=[port]\n",
    "#       elif(items[i[0]]!=[port]):\n",
    "#         raise Exception(\"Items have mismatching initiation\")\n",
    "#   return items"
   ]
  },
  {
   "cell_type": "code",
   "execution_count": null,
   "metadata": {},
   "outputs": [],
   "source": [
    "# items=analyze_init(paths)"
   ]
  },
  {
   "cell_type": "code",
   "execution_count": null,
   "metadata": {},
   "outputs": [],
   "source": []
  },
  {
   "cell_type": "code",
   "execution_count": null,
   "metadata": {},
   "outputs": [],
   "source": [
    "\n",
    "# with open(\"input_files/ASSURE_LOCKED/modulefiles.v\",\"r\") as f:\n",
    "#   module_txt=f.read()\n",
    "\n",
    "\n",
    "# with open(\"tmp/tmpmod.v\",\"w\") as f:\n",
    "#   f.write(module_txt)\n",
    "\n",
    "\n",
    "# # with open(\"tmp.v\",\"w\") as f:\n",
    "# #   f.write(t)\n",
    "\n",
    "# gate_mapping,gates,FF=verilog_parser.extract_modules_def(module_txt)\n",
    "\n",
    "# path=\"input_files/ASSURE_LOCKED/design4/design4_netlist.v\"\n",
    "# # \"input_files/test.v\"\n",
    "# # \"input_files/ASSURE_LOCKED/design4/design4_netlist.v\"\n",
    "\n",
    "\n",
    "\n",
    "\n",
    "# # # verilog=tmp1()\n",
    "# # verilog=tmp2()\n",
    "# # with open(\"tmp/tmp.v\",\"w\") as f:\n",
    "# #   f.write(verilog)\n",
    "# # # print(verilog)\n",
    "\n",
    "# # print(\"HERE\")\n"
   ]
  },
  {
   "cell_type": "code",
   "execution_count": null,
   "metadata": {},
   "outputs": [],
   "source": [
    "# gate_tech,sub_module,(FF_tech,Clock_pins,Reset_pins)=verilog_parser.gates_module_extraction(verilog,gate_mapping,gates,FF)"
   ]
  },
  {
   "cell_type": "code",
   "execution_count": null,
   "metadata": {},
   "outputs": [],
   "source": []
  },
  {
   "cell_type": "code",
   "execution_count": null,
   "metadata": {},
   "outputs": [],
   "source": []
  },
  {
   "cell_type": "code",
   "execution_count": null,
   "metadata": {},
   "outputs": [],
   "source": []
  },
  {
   "cell_type": "code",
   "execution_count": null,
   "metadata": {},
   "outputs": [],
   "source": [
    "# return_top =lambda i:re.findall(r'(module\\s+(\\w+)\\s*\\(.*?\\)\\s*;.*?endmodule)', utils.format_verilog_org(open(i).read()), re.DOTALL)[0][1]\n",
    "# orgfile_names={i:[return_top(f\"input_files/ASSURE_LOCKED/{i}/{k}\") for k in os.listdir(\"input_files/ASSURE_LOCKED/\"+i) if(\"oracle\" in k and \".v\" in k)][0] for i in os.listdir(\"input_files/ASSURE_LOCKED\") if(\"design\" in i)}\n",
    "\n",
    "# path=\"input_files/ASSURE_LOCKED/ASSURE_bench_to_verilog/\"\n",
    "# files=[[os.path.join(path,i,j) for j in os.listdir(path+i)] for i in os.listdir(path)]\n",
    "# files.sort()\n",
    "# for i in files:\n",
    "#   i.sort()\n",
    "\n",
    "# files=[([f\"input_files/ASSURE_LOCKED/{i}/{k}\" for k in os.listdir(\"input_files/ASSURE_LOCKED/\"+i) if(\".bench\" in k and \"design\" in k)][0],[f\"input_files/ASSURE_LOCKED/{i}/{j}\" for j in os.listdir(\"input_files/ASSURE_LOCKED/\"+i) if(\".bench\" in j and \"oracle\" in j)][0]) for i in os.listdir(\"input_files/ASSURE_LOCKED\") if(\"design\" in i)]\n",
    "# files.sort()\n",
    "# outpath=\"input_files/ASSURE_LOCKED/ASSURE_bench_to_verilog/\"\n",
    "\n",
    "\n",
    "\n",
    "# for i in files[4:5]:\n",
    "#   design=i[0]\n",
    "#   oracle=i[1]\n",
    "#   top=design.split(\"/\")[-1].split(\".bench\")[0]\n",
    "#   top_name=orgfile_names[top]\n",
    "#   print(top,top_name)\n",
    "\n",
    "#   txt_design=open(design).read()\n",
    "#   txt_oracle=open(oracle).read()\n",
    "\n",
    "\n",
    "  \n",
    "#   if not os.path.isdir(outpath+top):\n",
    "#     os.mkdir(outpath+top)\n",
    "\n",
    "#   print(top+\" oracle\")\n",
    "#   verilog_oracle=bench_to_verilog_vlib(txt_oracle,vlib_var,modulename=top_name)\n",
    "  \n",
    "#   with open(outpath+f\"{top}/{top}_oracle.v\",\"w\") as f:\n",
    "#     f.write(verilog_oracle)\n",
    "\n",
    "#   print(top+\" design\")\n",
    "  \n",
    "#   verilog_design=bench_to_verilog_vlib(txt_design,vlib_var,modulename=top_name+\"_0_obf\")\n",
    "  \n",
    "#   with open(outpath+f\"{top}/{top}_design.v\",\"w\") as f:\n",
    "#     f.write(verilog_design)\n",
    "\n",
    "\n",
    "# for i in files:\n",
    "#   design=i[0]\n",
    "#   oracle=i[1]\n",
    "#   top=design.split(\"/\")[-2]\n",
    "#   top_design= orgfile_names[top]+\"_0_obf\"\n",
    "#   top_oracle=orgfile_names[top]\n",
    "#   print(top,top_design,top_oracle)\n",
    "  \n",
    "#   print(design,oracle,top_oracle,top_design)\n",
    "  \n",
    "#   print(\"DOING \",top_oracle)\n",
    "#   obj=AST(file_path=oracle,rw=\"w\",flag=\"v\",top=top_oracle,filename=f\"{top_oracle}org\",output_dir_path=\"output_files/ASSURE_BENCH\",vlibpath=\"input_files/ASSURE_LOCKED/modulefiles.v\",synth=False)#Run to Read in Verilog Design\n",
    "#   print(\"DOING \",top_design)\n",
    "#   obj=AST(file_path=design,rw=\"w\",flag=\"v\",top=top_design,filename=f\"{top_design}org\",output_dir_path=\"output_files/ASSURE_BENCH\",vlibpath=\"input_files/ASSURE_LOCKED/modulefiles.v\",synth=False,locked=True)#Run to Read in Verilog Design\n",
    "#   break\n",
    "\n",
    "  "
   ]
  },
  {
   "cell_type": "code",
   "execution_count": null,
   "metadata": {},
   "outputs": [],
   "source": [
    "# json_files=[\"./output_files/\"+i for i in os.listdir(\"./output_files/\") if os.path.isfile(\"./output_files/\"+i)]\n",
    "# orgfile_names=[i.split(\".bench\")[0] for i in os.listdir(\"input_files/benchmark_bench/original\")]\n",
    "# json_files.sort()\n",
    "\n",
    "# return_top =lambda i:re.findall(r'(module\\s+(\\w+)\\s*\\(.*?\\)\\s*;.*?endmodule)', utils.format_verilog_org(open(i).read()), re.DOTALL)[0][1]\n",
    "\n",
    "# orgfile_names=[[return_top(f\"input_files/ASSURE_LOCKED/{i}/{k}\") for k in os.listdir(\"input_files/ASSURE_LOCKED/\"+i) if(\"oracle\" in k and \".v\" in k)][0] for i in os.listdir(\"input_files/ASSURE_LOCKED\") if(\"design\" in i)]\n",
    "\n",
    "# for i in json_files:\n",
    "#   for j in orgfile_names:\n",
    "#     if(j in i.split(\"/\")[-1].split(\"org\")[0]):\n",
    "#       print(i,\"output_files/ASSURE_VERILOG/\"+i.split(\"/\")[-1])\n",
    "#       shutil.move(i,\"output_files/ASSURE_VERILOG/\"+i.split(\"/\")[-1])"
   ]
  },
  {
   "cell_type": "code",
   "execution_count": null,
   "metadata": {},
   "outputs": [],
   "source": [
    "# files=[([f\"input_files/ASSURE_LOCKED/{i}/{k}\" for k in os.listdir(\"input_files/ASSURE_LOCKED/\"+i) if(\".v\" in k and \"design\" in k)][0],[f\"input_files/ASSURE_LOCKED/{i}/{j}\" for j in os.listdir(\"input_files/ASSURE_LOCKED/\"+i) if(\".v\" in j and \"oracle\" in j)][0]) for i in os.listdir(\"input_files/ASSURE_LOCKED\") if(\"design\" in i)]\n",
    "# files.sort()"
   ]
  },
  {
   "cell_type": "code",
   "execution_count": null,
   "metadata": {},
   "outputs": [],
   "source": [
    "# import re\n",
    "# import os\n",
    "# files=[([f\"input_files/ASSURE_LOCKED/{i}/{k}\" for k in os.listdir(\"input_files/ASSURE_LOCKED/\"+i) if(\".v\" in k and \"design\" in k)][0],[f\"input_files/ASSURE_LOCKED/{i}/{j}\" for j in os.listdir(\"input_files/ASSURE_LOCKED/\"+i) if(\".v\" in j and \"oracle\" in j)][0]) for i in os.listdir(\"input_files/ASSURE_LOCKED\") if(\"design\" in i)]\n",
    "# files.sort()\n",
    "# notdone=[]\n",
    "# for i in files[1:]:\n",
    "#   design=i[0]\n",
    "#   oracle=i[1]\n",
    "\n",
    "#   tmp=open(design).read()\n",
    "#   top_design = re.findall(r'(module\\s+(\\w+)\\s*\\(.*?\\)\\s*;.*?endmodule)', utils.format_verilog_org(tmp), re.DOTALL)[0][1]\n",
    "#   tmp=open(oracle).read()\n",
    "#   top_oracle = re.findall(r'(module\\s+(\\w+)\\s*\\(.*?\\)\\s*;.*?endmodule)', utils.format_verilog_org(tmp), re.DOTALL)[0][1]\n",
    "#   # try:\n",
    "#   #   print(\"DONE \",top_oracle)\n",
    "#   obj=AST(file_path=oracle,rw=\"w\",flag=\"v\",top=top_oracle,filename=f\"{top_oracle}org\",vlibpath=\"input_files/ASSURE_LOCKED/modulefiles.v\",synth=False)#Run to Read in Verilog Design\n",
    "#   # except:\n",
    "#   #   print(\"FAILED \",top_oracle)\n",
    "#   #   notdone.append(oracle)\n",
    "#   # try:\n",
    "#   print(\"DONE \",top_design)\n",
    "#   obj=AST(file_path=design,rw=\"w\",flag=\"v\",top=top_design,filename=f\"{top_design}org\",vlibpath=\"input_files/ASSURE_LOCKED/modulefiles.v\",synth=False,locked=True)#Run to Read in Verilog Design\n",
    "#   # except:\n",
    "#   #   print(\"FAILED \",top_design)\n",
    "#   #   notdone.append(design)\n",
    "#   break"
   ]
  },
  {
   "cell_type": "code",
   "execution_count": null,
   "metadata": {},
   "outputs": [],
   "source": []
  },
  {
   "cell_type": "code",
   "execution_count": null,
   "metadata": {},
   "outputs": [],
   "source": [
    "# notdone=[]\n",
    "# for i in os.listdir(\"input_files/benchmark_bench/original\"):\n",
    "#   top=i.split(\".bench\")[0]\n",
    "#   unlocked_filename=os.path.join(\"input_files/benchmark_bench/original\",i)\n",
    "#   try:\n",
    "#     obj=AST(file_path=unlocked_filename,rw=\"w\",flag=\"b\",top=top,filename=f\"{top}org\",vlibpath=\"input_files/ASSURE_LOCKED/modulefiles.v\",synth=False)#Run to Read in Verilog Design\n",
    "#   except:\n",
    "#     notdone.append(unlocked_filename)\n",
    "#   for j in os.listdir(\"input_files/benchmark_bench/rnd\"):\n",
    "#     if(i.split(\".bench\")[0] in j):\n",
    "#       top=j.split(\".bench\")[0]\n",
    "#       locked_filename=os.path.join(\"input_files/benchmark_bench/rnd\",j)\n",
    "#       print(j.split(\".bench\")[0],locked_filename)\n",
    "#       try:\n",
    "#         obj=AST(file_path=locked_filename,rw=\"w\",flag=\"b\",top=top,filename=f\"{top}org\",vlibpath=\"input_files/ASSURE_LOCKED/modulefiles.v\",synth=False,locked=True)#Run to Read in Verilog Design\n",
    "#       except:\n",
    "#         notdone.append(locked_filename)"
   ]
  }
 ],
 "metadata": {
  "kernelspec": {
   "display_name": "Python 3",
   "language": "python",
   "name": "python3"
  },
  "language_info": {
   "codemirror_mode": {
    "name": "ipython",
    "version": 3
   },
   "file_extension": ".py",
   "mimetype": "text/x-python",
   "name": "python",
   "nbconvert_exporter": "python",
   "pygments_lexer": "ipython3",
   "version": "3.8.10"
  },
  "orig_nbformat": 4
 },
 "nbformat": 4,
 "nbformat_minor": 2
}
