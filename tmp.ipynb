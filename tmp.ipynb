{
 "cells": [
  {
   "cell_type": "code",
   "execution_count": 2,
   "metadata": {},
   "outputs": [],
   "source": [
    "import src.utils as utils\n",
    "import src.Parser.verilog_parser as verilog_parser"
   ]
  },
  {
   "cell_type": "code",
   "execution_count": 3,
   "metadata": {},
   "outputs": [
    {
     "name": "stdout",
     "output_type": "stream",
     "text": [
      "extract_modules_def took 0.006597995758056641 seconds to complete its execution.\n",
      "tmp2 took 19.39392375946045 seconds to complete its execution.\n",
      "HERE\n"
     ]
    }
   ],
   "source": [
    "\n",
    "with open(\"input_files/ASSURE_LOCKED/modulefiles.v\",\"r\") as f:\n",
    "  module_txt=f.read()\n",
    "\n",
    "\n",
    "with open(\"tmp/tmpmod.v\",\"w\") as f:\n",
    "  f.write(module_txt)\n",
    "\n",
    "\n",
    "# with open(\"tmp.v\",\"w\") as f:\n",
    "#   f.write(t)\n",
    "\n",
    "gate_mapping,gates,FF=verilog_parser.extract_modules_def(module_txt)\n",
    "\n",
    "path=\"input_files/ASSURE_LOCKED/design4/design4_netlist.v\"\n",
    "# \"input_files/test.v\"\n",
    "# \"input_files/ASSURE_LOCKED/design4/design4_netlist.v\"\n",
    "\n",
    "\n",
    "@utils.timer_func\n",
    "def tmp1():\n",
    "  file=open(path)\n",
    "  verilog=file.read()\n",
    "  return utils.format_verilog(verilog)\n",
    "\n",
    "\n",
    "import mmap\n",
    "@utils.timer_func\n",
    "def tmp2():\n",
    "  # Open the file in binary mode\n",
    "  with open(path, \"rb\") as file:\n",
    "      # Memory-map the file\n",
    "      with mmap.mmap(file.fileno(), 0, access=mmap.ACCESS_READ) as mapped_file:\n",
    "          # Read the entire file\n",
    "          verilog = mapped_file.read().decode()\n",
    "  return utils.format_verilog(verilog)\n",
    "\n",
    "\n",
    "# verilog=tmp1()\n",
    "verilog=tmp2()\n",
    "# with open(\"tmp/tmp.v\",\"w\") as f:\n",
    "#   f.write(verilog)\n",
    "# print(verilog)\n",
    "\n",
    "print(\"HERE\")\n"
   ]
  },
  {
   "cell_type": "code",
   "execution_count": 4,
   "metadata": {},
   "outputs": [
    {
     "name": "stdout",
     "output_type": "stream",
     "text": [
      "gates_module_extraction took 12.237645626068115 seconds to complete its execution.\n"
     ]
    }
   ],
   "source": [
    "gate_tech,sub_module,(FF_tech,Clock_pins,Reset_pins)=verilog_parser.gates_module_extraction(verilog,gate_mapping,gates,FF)"
   ]
  },
  {
   "cell_type": "code",
   "execution_count": null,
   "metadata": {},
   "outputs": [],
   "source": [
    "# FF_tech"
   ]
  },
  {
   "cell_type": "code",
   "execution_count": 5,
   "metadata": {},
   "outputs": [],
   "source": [
    "def gates_to_txt(gates):\n",
    "    txt=\"\"\n",
    "    for i in gates:\n",
    "        # print(i)\n",
    "        if(i==\"NOT\" or i==\"BUF\"):\n",
    "            fn =lambda inputs,outputs,initname: f\"{i}_g {initname}(.A({inputs[0]}), .Y({outputs}));\"\n",
    "        else:\n",
    "            fn=lambda inputs,outputs,initname: f\"{i}_g {initname}(.A({inputs[0]}), .B({inputs[1]}), .Y({outputs}));\"     \n",
    "        # print(gates[i])\n",
    "        for jj in gates[i]:\n",
    "            j=gates[i][jj]\n",
    "            # print(jj,j)\n",
    "            # print(j,gates[i][j])\n",
    "            txt+=fn(j['inputs'],j['outputs'],jj)+\"\\n\"\n",
    "        # print(fn(j['inputs'],j['outputs']))\n",
    "    return txt"
   ]
  },
  {
   "cell_type": "code",
   "execution_count": 17,
   "metadata": {},
   "outputs": [
    {
     "name": "stdout",
     "output_type": "stream",
     "text": [
      "\\(.I\\(({I})\\), .ZN\\(({ZN})\\) ?\\);\n",
      "\\(.I\\(({I})\\), .ZN\\(({ZN})\\) ?\\);\n",
      "\\(.I\\(({I})\\), .ZN\\(({ZN})\\) ?\\);\n",
      "\\(.I\\(({I})\\), .ZN\\(({ZN})\\) ?\\);\n",
      "\\(.I\\(({I})\\), .ZN\\(({ZN})\\) ?\\);\n",
      "\\(.I\\(({I})\\), .ZN\\(({ZN})\\) ?\\);\n",
      "\\(.A1\\(({A1})\\), .A2\\(({A2})\\), .ZN\\(({ZN})\\) ?\\);\n",
      "\\(.A1\\(({A1})\\), .A2\\(({A2})\\), .ZN\\(({ZN})\\) ?\\);\n",
      "\\(.A1\\(({A1})\\), .A2\\(({A2})\\), .ZN\\(({ZN})\\) ?\\);\n",
      "\\(.A1\\(({A1})\\), .A2\\(({A2})\\), .ZN\\(({ZN})\\) ?\\);\n",
      "\\(.I\\(({I})\\), .Z\\(({Z})\\) ?\\);\n",
      "\\(.I\\(({I})\\), .Z\\(({Z})\\) ?\\);\n",
      "\\(.I\\(({I})\\), .Z\\(({Z})\\) ?\\);\n",
      "\\(.I\\(({I})\\), .Z\\(({Z})\\) ?\\);\n",
      "\\(.I\\(({I})\\), .Z\\(({Z})\\) ?\\);\n",
      "\\(.I\\(({I})\\), .Z\\(({Z})\\) ?\\);\n",
      "\\(.A1\\(({A1})\\), .A2\\(({A2})\\), .Z\\(({Z})\\) ?\\);\n",
      "\\(.A1\\(({A1})\\), .A2\\(({A2})\\), .Z\\(({Z})\\) ?\\);\n",
      "\\(.A1\\(({A1})\\), .A2\\(({A2})\\), .Z\\(({Z})\\) ?\\);\n",
      "\\(.A1\\(({A1})\\), .A2\\(({A2})\\), .Z\\(({Z})\\) ?\\);\n",
      "\\(.A1\\(({A1})\\), .A2\\(({A2})\\), .Z\\(({Z})\\) ?\\);\n",
      "\\(.A1\\(({A1})\\), .A2\\(({A2})\\), .ZN\\(({ZN})\\) ?\\);\n"
     ]
    }
   ],
   "source": [
    "txt=\"\"\n",
    "for logic in gate_tech:\n",
    "    for logic_gate in gate_tech[logic]:\n",
    "        print(gates[logic_gate][\"port\"])\n",
    "        for init_name in gate_tech[logic][logic_gate]:\n",
    "            pass\n",
    "            # print(gate_tech[logic][logic_gate][init_name].keys())"
   ]
  },
  {
   "cell_type": "code",
   "execution_count": null,
   "metadata": {},
   "outputs": [],
   "source": []
  },
  {
   "cell_type": "code",
   "execution_count": null,
   "metadata": {},
   "outputs": [],
   "source": [
    "gate_tech[i]"
   ]
  },
  {
   "cell_type": "code",
   "execution_count": null,
   "metadata": {},
   "outputs": [],
   "source": []
  }
 ],
 "metadata": {
  "kernelspec": {
   "display_name": "Python 3",
   "language": "python",
   "name": "python3"
  },
  "language_info": {
   "codemirror_mode": {
    "name": "ipython",
    "version": 3
   },
   "file_extension": ".py",
   "mimetype": "text/x-python",
   "name": "python",
   "nbconvert_exporter": "python",
   "pygments_lexer": "ipython3",
   "version": "3.8.10"
  },
  "orig_nbformat": 4
 },
 "nbformat": 4,
 "nbformat_minor": 2
}
